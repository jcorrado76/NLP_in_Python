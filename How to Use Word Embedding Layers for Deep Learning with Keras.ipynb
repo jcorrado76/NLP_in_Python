{
 "cells": [
  {
   "cell_type": "markdown",
   "metadata": {},
   "source": [
    "# Keras Embedding Layer\n",
    "***\n",
    "Keras offers an embedding layer that can be used for neural networks on text data. It requires the that input data be integer encoded, so that each word is represented by a unique integer. The embedding layer is initialized with random weights and will learn an embedding for all of the words in the training dataset. You can use this layer to:\n",
    "* Learn a word embedding that can be saved and used in another model\n",
    "* As part of a deep learning model where the embedding is learned along with the model itself\n",
    "* Load a pre-trained word embedding model, a type of transfer learning\n",
    "\n",
    "The embedding layer is defined as the first hidden layer of a network, and one must specify the 3 arguments:\n",
    "* **input_dim** - the size of vocabulary\n",
    "* **output_dim** - size of the semantic vector space\n",
    "* **input_length** - the length of input sequences (you must add padding if necessary)\n",
    "\n",
    "For example, this would define an Embedding layer with a vocabulary of 200 words (integers from 0 to 199), a vector space of 32 dimensions in which words will be embedded, and input documents having 50 words each.\n",
    "\n",
    "The output of the embedding layer is a 2D vector with one embedding for each word in the input sequence of words.\n",
    "\n",
    "If you want to connect a dense layer to an embedding layer, you must flatten the 2D output matrix into a 1D vector using the flatten layer.\n",
    "\n",
    "The example we will look at is that of text classification problem. We will learn a word embedding while fitting a neural network to solve this problem. \n",
    "\n",
    "## Define the Data and Labels\n",
    "***"
   ]
  },
  {
   "cell_type": "code",
   "execution_count": 2,
   "metadata": {},
   "outputs": [],
   "source": [
    "import numpy as np\n",
    "docs = ['Well done!',\n",
    "    'Good work',\n",
    "    'Great effort',\n",
    "    'nice work',\n",
    "    'Excellent!',\n",
    "    'Weak',\n",
    "    'Poor effort!',\n",
    "    'not good',\n",
    "    'poor work',\n",
    "    'Could have done better.']\n",
    "# define class labels\n",
    "labels = np.array([1,1,1,1,1,0,0,0,0,0])"
   ]
  },
  {
   "cell_type": "markdown",
   "metadata": {},
   "source": [
    "Now we integer encode each document. We need each input to the embedding layer to be a sequence of integers. We will do a one-hot encoding here. "
   ]
  },
  {
   "cell_type": "code",
   "execution_count": 5,
   "metadata": {},
   "outputs": [
    {
     "name": "stdout",
     "output_type": "stream",
     "text": [
      "[[32, 36], [36, 21], [30, 21], [16, 21], [47], [44], [28, 21], [45, 36], [28, 21], [21, 19, 36, 14]]\n"
     ]
    }
   ],
   "source": [
    "from keras.preprocessing.text import one_hot\n",
    "vocab_size = 50\n",
    "encoded_documents = [one_hot( document, vocab_size ) for document in docs]\n",
    "print(encoded_documents)"
   ]
  },
  {
   "cell_type": "markdown",
   "metadata": {},
   "source": [
    "## Encode Data as Sequence of Integers and Pad The Sequences\n",
    "***\n",
    "Because we want all of these sequences of integers to be of the same length for Keras, we need to also pad the vectors with zeros:"
   ]
  },
  {
   "cell_type": "code",
   "execution_count": 9,
   "metadata": {},
   "outputs": [
    {
     "name": "stdout",
     "output_type": "stream",
     "text": [
      "[[32 36  0  0]\n",
      " [36 21  0  0]\n",
      " [30 21  0  0]\n",
      " [16 21  0  0]\n",
      " [47  0  0  0]\n",
      " [44  0  0  0]\n",
      " [28 21  0  0]\n",
      " [45 36  0  0]\n",
      " [28 21  0  0]\n",
      " [21 19 36 14]]\n"
     ]
    }
   ],
   "source": [
    "from keras.preprocessing.sequence import pad_sequences\n",
    "\n",
    "max_length = max([len(sequence) for sequence in encoded_documents])\n",
    "padded_docs = pad_sequences(encoded_documents, maxlen=max_length, padding=\"post\")\n",
    "print(padded_docs)"
   ]
  },
  {
   "cell_type": "markdown",
   "metadata": {},
   "source": [
    "## Create Neural Network with Embedding Layer\n",
    "***\n",
    "We have a vocabulary of 50 and an input length of 4. We choose a small embedding space of 8 dimensions. We train a simple binary classification model. The output of our embedding layer will be 4 vectors of 8 dimensions each (one vector for each word). We will flatten this into a 32-element one dimensional vector and pass to a dense layer"
   ]
  },
  {
   "cell_type": "code",
   "execution_count": 13,
   "metadata": {},
   "outputs": [
    {
     "name": "stdout",
     "output_type": "stream",
     "text": [
      "_________________________________________________________________\n",
      "Layer (type)                 Output Shape              Param #   \n",
      "=================================================================\n",
      "embedding_2 (Embedding)      (None, 4, 8)              400       \n",
      "_________________________________________________________________\n",
      "flatten_2 (Flatten)          (None, 32)                0         \n",
      "_________________________________________________________________\n",
      "dense_2 (Dense)              (None, 1)                 33        \n",
      "=================================================================\n",
      "Total params: 433\n",
      "Trainable params: 433\n",
      "Non-trainable params: 0\n",
      "_________________________________________________________________\n",
      "None\n"
     ]
    }
   ],
   "source": [
    "from keras.models import Sequential\n",
    "from keras.layers import Embedding, Dense, Flatten\n",
    "model = Sequential()\n",
    "model.add(Embedding(vocab_size,8,input_length=max_length))\n",
    "model.add(Flatten())\n",
    "model.add(Dense(1, activation=\"sigmoid\"))\n",
    "model.compile(optimizer=\"adam\", loss=\"binary_crossentropy\", metrics=[\"acc\"])\n",
    "print(model.summary())"
   ]
  },
  {
   "cell_type": "markdown",
   "metadata": {},
   "source": [
    "## Fit and Evaluate the Classification Model\n",
    "***\n",
    "Now we can fit and evaluate the classification model:"
   ]
  },
  {
   "cell_type": "code",
   "execution_count": 15,
   "metadata": {},
   "outputs": [
    {
     "name": "stdout",
     "output_type": "stream",
     "text": [
      "Epoch 1/100\n",
      "10/10 [==============================] - 0s 302us/step - loss: 0.6103 - acc: 0.8000\n",
      "Epoch 2/100\n",
      "10/10 [==============================] - 0s 311us/step - loss: 0.6085 - acc: 0.8000\n",
      "Epoch 3/100\n",
      "10/10 [==============================] - 0s 334us/step - loss: 0.6067 - acc: 0.8000\n",
      "Epoch 4/100\n",
      "10/10 [==============================] - 0s 312us/step - loss: 0.6048 - acc: 0.8000\n",
      "Epoch 5/100\n",
      "10/10 [==============================] - 0s 421us/step - loss: 0.6030 - acc: 0.8000\n",
      "Epoch 6/100\n",
      "10/10 [==============================] - 0s 321us/step - loss: 0.6011 - acc: 0.8000\n",
      "Epoch 7/100\n",
      "10/10 [==============================] - 0s 314us/step - loss: 0.5993 - acc: 0.8000\n",
      "Epoch 8/100\n",
      "10/10 [==============================] - 0s 499us/step - loss: 0.5974 - acc: 1.0000\n",
      "Epoch 9/100\n",
      "10/10 [==============================] - 0s 449us/step - loss: 0.5955 - acc: 1.0000\n",
      "Epoch 10/100\n",
      "10/10 [==============================] - 0s 241us/step - loss: 0.5936 - acc: 1.0000\n",
      "Epoch 11/100\n",
      "10/10 [==============================] - 0s 241us/step - loss: 0.5917 - acc: 1.0000\n",
      "Epoch 12/100\n",
      "10/10 [==============================] - 0s 289us/step - loss: 0.5898 - acc: 1.0000\n",
      "Epoch 13/100\n",
      "10/10 [==============================] - 0s 287us/step - loss: 0.5879 - acc: 1.0000\n",
      "Epoch 14/100\n",
      "10/10 [==============================] - 0s 1ms/step - loss: 0.5859 - acc: 1.0000\n",
      "Epoch 15/100\n",
      "10/10 [==============================] - 0s 437us/step - loss: 0.5840 - acc: 1.0000\n",
      "Epoch 16/100\n",
      "10/10 [==============================] - 0s 234us/step - loss: 0.5821 - acc: 1.0000\n",
      "Epoch 17/100\n",
      "10/10 [==============================] - 0s 260us/step - loss: 0.5801 - acc: 1.0000\n",
      "Epoch 18/100\n",
      "10/10 [==============================] - 0s 281us/step - loss: 0.5782 - acc: 1.0000\n",
      "Epoch 19/100\n",
      "10/10 [==============================] - 0s 636us/step - loss: 0.5762 - acc: 1.0000\n",
      "Epoch 20/100\n",
      "10/10 [==============================] - 0s 404us/step - loss: 0.5742 - acc: 1.0000\n",
      "Epoch 21/100\n",
      "10/10 [==============================] - 0s 350us/step - loss: 0.5723 - acc: 1.0000\n",
      "Epoch 22/100\n",
      "10/10 [==============================] - 0s 354us/step - loss: 0.5703 - acc: 1.0000\n",
      "Epoch 23/100\n",
      "10/10 [==============================] - 0s 298us/step - loss: 0.5683 - acc: 1.0000\n",
      "Epoch 24/100\n",
      "10/10 [==============================] - 0s 419us/step - loss: 0.5663 - acc: 1.0000\n",
      "Epoch 25/100\n",
      "10/10 [==============================] - 0s 564us/step - loss: 0.5643 - acc: 1.0000\n",
      "Epoch 26/100\n",
      "10/10 [==============================] - 0s 236us/step - loss: 0.5623 - acc: 1.0000\n",
      "Epoch 27/100\n",
      "10/10 [==============================] - 0s 441us/step - loss: 0.5603 - acc: 1.0000\n",
      "Epoch 28/100\n",
      "10/10 [==============================] - 0s 372us/step - loss: 0.5583 - acc: 1.0000\n",
      "Epoch 29/100\n",
      "10/10 [==============================] - 0s 231us/step - loss: 0.5563 - acc: 1.0000\n",
      "Epoch 30/100\n",
      "10/10 [==============================] - 0s 242us/step - loss: 0.5542 - acc: 1.0000\n",
      "Epoch 31/100\n",
      "10/10 [==============================] - 0s 231us/step - loss: 0.5522 - acc: 1.0000\n",
      "Epoch 32/100\n",
      "10/10 [==============================] - 0s 222us/step - loss: 0.5502 - acc: 1.0000\n",
      "Epoch 33/100\n",
      "10/10 [==============================] - 0s 231us/step - loss: 0.5481 - acc: 1.0000\n",
      "Epoch 34/100\n",
      "10/10 [==============================] - 0s 254us/step - loss: 0.5461 - acc: 1.0000\n",
      "Epoch 35/100\n",
      "10/10 [==============================] - 0s 235us/step - loss: 0.5440 - acc: 1.0000\n",
      "Epoch 36/100\n",
      "10/10 [==============================] - 0s 393us/step - loss: 0.5420 - acc: 1.0000\n",
      "Epoch 37/100\n",
      "10/10 [==============================] - 0s 340us/step - loss: 0.5399 - acc: 1.0000\n",
      "Epoch 38/100\n",
      "10/10 [==============================] - 0s 272us/step - loss: 0.5379 - acc: 1.0000\n",
      "Epoch 39/100\n",
      "10/10 [==============================] - 0s 420us/step - loss: 0.5358 - acc: 1.0000\n",
      "Epoch 40/100\n",
      "10/10 [==============================] - 0s 499us/step - loss: 0.5338 - acc: 1.0000\n",
      "Epoch 41/100\n",
      "10/10 [==============================] - 0s 280us/step - loss: 0.5317 - acc: 1.0000\n",
      "Epoch 42/100\n",
      "10/10 [==============================] - 0s 322us/step - loss: 0.5296 - acc: 1.0000\n",
      "Epoch 43/100\n",
      "10/10 [==============================] - 0s 234us/step - loss: 0.5275 - acc: 1.0000\n",
      "Epoch 44/100\n",
      "10/10 [==============================] - 0s 222us/step - loss: 0.5255 - acc: 1.0000\n",
      "Epoch 45/100\n",
      "10/10 [==============================] - 0s 379us/step - loss: 0.5234 - acc: 1.0000\n",
      "Epoch 46/100\n",
      "10/10 [==============================] - 0s 240us/step - loss: 0.5213 - acc: 1.0000\n",
      "Epoch 47/100\n",
      "10/10 [==============================] - 0s 333us/step - loss: 0.5192 - acc: 1.0000\n",
      "Epoch 48/100\n",
      "10/10 [==============================] - 0s 230us/step - loss: 0.5171 - acc: 1.0000\n",
      "Epoch 49/100\n",
      "10/10 [==============================] - 0s 228us/step - loss: 0.5151 - acc: 1.0000\n",
      "Epoch 50/100\n",
      "10/10 [==============================] - 0s 427us/step - loss: 0.5130 - acc: 1.0000\n",
      "Epoch 51/100\n",
      "10/10 [==============================] - 0s 262us/step - loss: 0.5109 - acc: 1.0000\n",
      "Epoch 52/100\n",
      "10/10 [==============================] - 0s 492us/step - loss: 0.5088 - acc: 1.0000\n",
      "Epoch 53/100\n",
      "10/10 [==============================] - 0s 331us/step - loss: 0.5067 - acc: 1.0000\n",
      "Epoch 54/100\n",
      "10/10 [==============================] - 0s 240us/step - loss: 0.5046 - acc: 1.0000\n",
      "Epoch 55/100\n",
      "10/10 [==============================] - 0s 243us/step - loss: 0.5025 - acc: 1.0000\n",
      "Epoch 56/100\n",
      "10/10 [==============================] - 0s 215us/step - loss: 0.5004 - acc: 1.0000\n",
      "Epoch 57/100\n",
      "10/10 [==============================] - 0s 229us/step - loss: 0.4983 - acc: 1.0000\n",
      "Epoch 58/100\n",
      "10/10 [==============================] - 0s 241us/step - loss: 0.4962 - acc: 1.0000\n",
      "Epoch 59/100\n",
      "10/10 [==============================] - 0s 236us/step - loss: 0.4941 - acc: 1.0000\n",
      "Epoch 60/100\n",
      "10/10 [==============================] - 0s 226us/step - loss: 0.4920 - acc: 1.0000\n",
      "Epoch 61/100\n",
      "10/10 [==============================] - 0s 238us/step - loss: 0.4899 - acc: 1.0000\n",
      "Epoch 62/100\n",
      "10/10 [==============================] - 0s 264us/step - loss: 0.4878 - acc: 1.0000\n",
      "Epoch 63/100\n",
      "10/10 [==============================] - 0s 305us/step - loss: 0.4857 - acc: 1.0000\n",
      "Epoch 64/100\n",
      "10/10 [==============================] - 0s 310us/step - loss: 0.4837 - acc: 1.0000\n",
      "Epoch 65/100\n",
      "10/10 [==============================] - 0s 298us/step - loss: 0.4816 - acc: 1.0000\n",
      "Epoch 66/100\n",
      "10/10 [==============================] - 0s 236us/step - loss: 0.4795 - acc: 1.0000\n",
      "Epoch 67/100\n",
      "10/10 [==============================] - 0s 229us/step - loss: 0.4774 - acc: 1.0000\n",
      "Epoch 68/100\n",
      "10/10 [==============================] - 0s 353us/step - loss: 0.4753 - acc: 1.0000\n",
      "Epoch 69/100\n",
      "10/10 [==============================] - 0s 270us/step - loss: 0.4732 - acc: 1.0000\n",
      "Epoch 70/100\n",
      "10/10 [==============================] - 0s 606us/step - loss: 0.4711 - acc: 1.0000\n",
      "Epoch 71/100\n",
      "10/10 [==============================] - 0s 281us/step - loss: 0.4690 - acc: 1.0000\n",
      "Epoch 72/100\n",
      "10/10 [==============================] - 0s 303us/step - loss: 0.4669 - acc: 1.0000\n",
      "Epoch 73/100\n",
      "10/10 [==============================] - 0s 320us/step - loss: 0.4648 - acc: 1.0000\n",
      "Epoch 74/100\n",
      "10/10 [==============================] - 0s 331us/step - loss: 0.4627 - acc: 1.0000\n",
      "Epoch 75/100\n",
      "10/10 [==============================] - 0s 263us/step - loss: 0.4606 - acc: 1.0000\n",
      "Epoch 76/100\n",
      "10/10 [==============================] - 0s 403us/step - loss: 0.4585 - acc: 1.0000\n",
      "Epoch 77/100\n",
      "10/10 [==============================] - 0s 1ms/step - loss: 0.4564 - acc: 1.0000\n",
      "Epoch 78/100\n",
      "10/10 [==============================] - 0s 555us/step - loss: 0.4544 - acc: 1.0000\n",
      "Epoch 79/100\n",
      "10/10 [==============================] - 0s 263us/step - loss: 0.4523 - acc: 1.0000\n",
      "Epoch 80/100\n",
      "10/10 [==============================] - 0s 262us/step - loss: 0.4502 - acc: 1.0000\n",
      "Epoch 81/100\n",
      "10/10 [==============================] - 0s 293us/step - loss: 0.4481 - acc: 1.0000\n",
      "Epoch 82/100\n",
      "10/10 [==============================] - 0s 360us/step - loss: 0.4460 - acc: 1.0000\n",
      "Epoch 83/100\n",
      "10/10 [==============================] - 0s 421us/step - loss: 0.4440 - acc: 1.0000\n",
      "Epoch 84/100\n",
      "10/10 [==============================] - 0s 329us/step - loss: 0.4419 - acc: 1.0000\n",
      "Epoch 85/100\n",
      "10/10 [==============================] - 0s 300us/step - loss: 0.4398 - acc: 1.0000\n"
     ]
    },
    {
     "name": "stdout",
     "output_type": "stream",
     "text": [
      "Epoch 86/100\n",
      "10/10 [==============================] - 0s 266us/step - loss: 0.4378 - acc: 1.0000\n",
      "Epoch 87/100\n",
      "10/10 [==============================] - 0s 297us/step - loss: 0.4357 - acc: 1.0000\n",
      "Epoch 88/100\n",
      "10/10 [==============================] - 0s 257us/step - loss: 0.4336 - acc: 1.0000\n",
      "Epoch 89/100\n",
      "10/10 [==============================] - 0s 239us/step - loss: 0.4316 - acc: 1.0000\n",
      "Epoch 90/100\n",
      "10/10 [==============================] - 0s 306us/step - loss: 0.4295 - acc: 1.0000\n",
      "Epoch 91/100\n",
      "10/10 [==============================] - 0s 269us/step - loss: 0.4275 - acc: 1.0000\n",
      "Epoch 92/100\n",
      "10/10 [==============================] - 0s 244us/step - loss: 0.4254 - acc: 1.0000\n",
      "Epoch 93/100\n",
      "10/10 [==============================] - 0s 278us/step - loss: 0.4234 - acc: 1.0000\n",
      "Epoch 94/100\n",
      "10/10 [==============================] - 0s 398us/step - loss: 0.4213 - acc: 1.0000\n",
      "Epoch 95/100\n",
      "10/10 [==============================] - 0s 317us/step - loss: 0.4193 - acc: 1.0000\n",
      "Epoch 96/100\n",
      "10/10 [==============================] - 0s 277us/step - loss: 0.4172 - acc: 1.0000\n",
      "Epoch 97/100\n",
      "10/10 [==============================] - 0s 274us/step - loss: 0.4152 - acc: 1.0000\n",
      "Epoch 98/100\n",
      "10/10 [==============================] - 0s 297us/step - loss: 0.4132 - acc: 1.0000\n",
      "Epoch 99/100\n",
      "10/10 [==============================] - 0s 312us/step - loss: 0.4111 - acc: 1.0000\n",
      "Epoch 100/100\n",
      "10/10 [==============================] - 0s 378us/step - loss: 0.4091 - acc: 1.0000\n",
      "10/10 [==============================] - 0s 197us/step\n",
      "Accuracy: 100.0\n"
     ]
    }
   ],
   "source": [
    "model.fit(padded_docs, labels, epochs=100, verbose=1)\n",
    "loss, accuracy = model.evaluate(padded_docs, labels, verbose=1)\n",
    "print(\"Accuracy: {}\".format(accuracy*100))"
   ]
  },
  {
   "cell_type": "markdown",
   "metadata": {},
   "source": [
    "# Using Pre-Trained GloVe Embedding\n",
    "***"
   ]
  },
  {
   "cell_type": "markdown",
   "metadata": {},
   "source": [
    "We need to be able to map words to integers as well as integers to words. We use the `Tokenizer` class from Keras to generate this mapping. \n",
    "## Use Tokenizer To Encode Sequences\n",
    "***"
   ]
  },
  {
   "cell_type": "code",
   "execution_count": 16,
   "metadata": {},
   "outputs": [
    {
     "name": "stdout",
     "output_type": "stream",
     "text": [
      "[[6, 2], [3, 1], [7, 4], [8, 1], [9], [10], [5, 4], [11, 3], [5, 1], [12, 13, 2, 14]]\n",
      "[[ 6  2  0  0]\n",
      " [ 3  1  0  0]\n",
      " [ 7  4  0  0]\n",
      " [ 8  1  0  0]\n",
      " [ 9  0  0  0]\n",
      " [10  0  0  0]\n",
      " [ 5  4  0  0]\n",
      " [11  3  0  0]\n",
      " [ 5  1  0  0]\n",
      " [12 13  2 14]]\n"
     ]
    }
   ],
   "source": [
    "from keras.preprocessing.text import Tokenizer\n",
    "tokenizer = Tokenizer()\n",
    "tokenizer.fit_on_texts(docs)\n",
    "vocab_size = len(tokenizer.word_index) + 1\n",
    "encoded_docs = tokenizer.texts_to_sequences(docs)\n",
    "print(encoded_docs)\n",
    "max_length = 4\n",
    "padded_docs = pad_sequences(encoded_docs, maxlen=max_length, padding=\"post\")\n",
    "print(padded_docs)"
   ]
  },
  {
   "cell_type": "markdown",
   "metadata": {},
   "source": [
    "## Load GloVe Embeddings into Memory\n",
    "***\n",
    "Now we load the entire GloVe word embedding file into memory as a dictionary of words to the embedding array:"
   ]
  },
  {
   "cell_type": "code",
   "execution_count": 17,
   "metadata": {},
   "outputs": [
    {
     "name": "stdout",
     "output_type": "stream",
     "text": [
      "Loaded 400000 word vectors\n"
     ]
    }
   ],
   "source": [
    "embeddings_index = {}\n",
    "with open(\"data/glove_wikipedia_embeddings/glove.6B.100d.txt\") as f:\n",
    "    for line in f:\n",
    "        columns = line.split()\n",
    "        word = columns[0]\n",
    "        weights = np.array(columns[1:])\n",
    "        embeddings_index[word] = weights\n",
    "print(\"Loaded {} word vectors\".format(len(embeddings_index)))    "
   ]
  },
  {
   "cell_type": "markdown",
   "metadata": {},
   "source": [
    "## Create a Matrix of Embedding Weights for all the Words in Training Set\n",
    "***\n",
    "Enumerate the unique words in `Tokenizer.word_index` and then locate the corresponding weight vector from the loaded GloVe embedding."
   ]
  },
  {
   "cell_type": "code",
   "execution_count": 18,
   "metadata": {},
   "outputs": [],
   "source": [
    "embedding_matrix = np.zeros((vocab_size, 100))\n",
    "for word, i in tokenizer.word_index.items():\n",
    "    embedding_vector = embeddings_index.get(word)\n",
    "    if embedding_vector is not None:\n",
    "        embedding_matrix[i] = embedding_vector"
   ]
  },
  {
   "cell_type": "markdown",
   "metadata": {},
   "source": [
    "Now we can define and fit our model as before:"
   ]
  },
  {
   "cell_type": "code",
   "execution_count": 20,
   "metadata": {},
   "outputs": [
    {
     "name": "stdout",
     "output_type": "stream",
     "text": [
      "_________________________________________________________________\n",
      "Layer (type)                 Output Shape              Param #   \n",
      "=================================================================\n",
      "embedding_3 (Embedding)      (None, 4, 100)            1500      \n",
      "_________________________________________________________________\n",
      "flatten_3 (Flatten)          (None, 400)               0         \n",
      "_________________________________________________________________\n",
      "dense_3 (Dense)              (None, 1)                 401       \n",
      "=================================================================\n",
      "Total params: 1,901\n",
      "Trainable params: 401\n",
      "Non-trainable params: 1,500\n",
      "_________________________________________________________________\n",
      "None\n"
     ]
    }
   ],
   "source": [
    "model = Sequential()\n",
    "model.add(Embedding(vocab_size,100,weights=[embedding_matrix],input_length=max_length,\\\n",
    "                   trainable=False))\n",
    "model.add(Flatten())\n",
    "model.add(Dense(1, activation=\"sigmoid\"))\n",
    "model.compile(optimizer=\"adam\", loss=\"binary_crossentropy\", metrics=[\"acc\"])\n",
    "print(model.summary())"
   ]
  },
  {
   "cell_type": "code",
   "execution_count": 21,
   "metadata": {},
   "outputs": [
    {
     "name": "stdout",
     "output_type": "stream",
     "text": [
      "Epoch 1/50\n",
      "10/10 [==============================] - 0s 24ms/step - loss: 0.7068 - acc: 0.6000\n",
      "Epoch 2/50\n",
      "10/10 [==============================] - 0s 199us/step - loss: 0.6925 - acc: 0.6000\n",
      "Epoch 3/50\n",
      "10/10 [==============================] - 0s 258us/step - loss: 0.6788 - acc: 0.6000\n",
      "Epoch 4/50\n",
      "10/10 [==============================] - 0s 253us/step - loss: 0.6658 - acc: 0.7000\n",
      "Epoch 5/50\n",
      "10/10 [==============================] - 0s 406us/step - loss: 0.6532 - acc: 0.7000\n",
      "Epoch 6/50\n",
      "10/10 [==============================] - 0s 325us/step - loss: 0.6412 - acc: 0.7000\n",
      "Epoch 7/50\n",
      "10/10 [==============================] - 0s 274us/step - loss: 0.6297 - acc: 0.7000\n",
      "Epoch 8/50\n",
      "10/10 [==============================] - 0s 259us/step - loss: 0.6186 - acc: 0.7000\n",
      "Epoch 9/50\n",
      "10/10 [==============================] - 0s 283us/step - loss: 0.6079 - acc: 0.7000\n",
      "Epoch 10/50\n",
      "10/10 [==============================] - 0s 373us/step - loss: 0.5975 - acc: 0.7000\n",
      "Epoch 11/50\n",
      "10/10 [==============================] - 0s 241us/step - loss: 0.5873 - acc: 0.8000\n",
      "Epoch 12/50\n",
      "10/10 [==============================] - 0s 351us/step - loss: 0.5775 - acc: 0.8000\n",
      "Epoch 13/50\n",
      "10/10 [==============================] - 0s 230us/step - loss: 0.5680 - acc: 0.8000\n",
      "Epoch 14/50\n",
      "10/10 [==============================] - 0s 237us/step - loss: 0.5587 - acc: 0.8000\n",
      "Epoch 15/50\n",
      "10/10 [==============================] - 0s 274us/step - loss: 0.5496 - acc: 0.8000\n",
      "Epoch 16/50\n",
      "10/10 [==============================] - 0s 222us/step - loss: 0.5408 - acc: 0.8000\n",
      "Epoch 17/50\n",
      "10/10 [==============================] - 0s 353us/step - loss: 0.5322 - acc: 0.8000\n",
      "Epoch 18/50\n",
      "10/10 [==============================] - 0s 255us/step - loss: 0.5239 - acc: 0.8000\n",
      "Epoch 19/50\n",
      "10/10 [==============================] - 0s 204us/step - loss: 0.5157 - acc: 0.8000\n",
      "Epoch 20/50\n",
      "10/10 [==============================] - 0s 289us/step - loss: 0.5078 - acc: 0.8000\n",
      "Epoch 21/50\n",
      "10/10 [==============================] - 0s 207us/step - loss: 0.5000 - acc: 0.8000\n",
      "Epoch 22/50\n",
      "10/10 [==============================] - 0s 407us/step - loss: 0.4925 - acc: 0.9000\n",
      "Epoch 23/50\n",
      "10/10 [==============================] - 0s 239us/step - loss: 0.4851 - acc: 0.9000\n",
      "Epoch 24/50\n",
      "10/10 [==============================] - 0s 211us/step - loss: 0.4780 - acc: 0.9000\n",
      "Epoch 25/50\n",
      "10/10 [==============================] - 0s 283us/step - loss: 0.4709 - acc: 0.9000\n",
      "Epoch 26/50\n",
      "10/10 [==============================] - 0s 231us/step - loss: 0.4641 - acc: 0.9000\n",
      "Epoch 27/50\n",
      "10/10 [==============================] - 0s 315us/step - loss: 0.4574 - acc: 0.9000\n",
      "Epoch 28/50\n",
      "10/10 [==============================] - 0s 201us/step - loss: 0.4509 - acc: 0.9000\n",
      "Epoch 29/50\n",
      "10/10 [==============================] - 0s 220us/step - loss: 0.4445 - acc: 0.9000\n",
      "Epoch 30/50\n",
      "10/10 [==============================] - 0s 367us/step - loss: 0.4382 - acc: 0.9000\n",
      "Epoch 31/50\n",
      "10/10 [==============================] - 0s 540us/step - loss: 0.4321 - acc: 0.9000\n",
      "Epoch 32/50\n",
      "10/10 [==============================] - 0s 228us/step - loss: 0.4261 - acc: 0.9000\n",
      "Epoch 33/50\n",
      "10/10 [==============================] - 0s 212us/step - loss: 0.4203 - acc: 0.9000\n",
      "Epoch 34/50\n",
      "10/10 [==============================] - 0s 236us/step - loss: 0.4145 - acc: 0.9000\n",
      "Epoch 35/50\n",
      "10/10 [==============================] - 0s 282us/step - loss: 0.4089 - acc: 0.9000\n",
      "Epoch 36/50\n",
      "10/10 [==============================] - 0s 209us/step - loss: 0.4033 - acc: 0.9000\n",
      "Epoch 37/50\n",
      "10/10 [==============================] - 0s 256us/step - loss: 0.3979 - acc: 0.9000\n",
      "Epoch 38/50\n",
      "10/10 [==============================] - 0s 202us/step - loss: 0.3926 - acc: 0.9000\n",
      "Epoch 39/50\n",
      "10/10 [==============================] - 0s 200us/step - loss: 0.3873 - acc: 0.9000\n",
      "Epoch 40/50\n",
      "10/10 [==============================] - 0s 207us/step - loss: 0.3822 - acc: 0.9000\n",
      "Epoch 41/50\n",
      "10/10 [==============================] - 0s 220us/step - loss: 0.3772 - acc: 0.9000\n",
      "Epoch 42/50\n",
      "10/10 [==============================] - 0s 399us/step - loss: 0.3722 - acc: 0.9000\n",
      "Epoch 43/50\n",
      "10/10 [==============================] - 0s 602us/step - loss: 0.3674 - acc: 0.9000\n",
      "Epoch 44/50\n",
      "10/10 [==============================] - 0s 260us/step - loss: 0.3626 - acc: 0.9000\n",
      "Epoch 45/50\n",
      "10/10 [==============================] - 0s 371us/step - loss: 0.3579 - acc: 1.0000\n",
      "Epoch 46/50\n",
      "10/10 [==============================] - 0s 220us/step - loss: 0.3533 - acc: 1.0000\n",
      "Epoch 47/50\n",
      "10/10 [==============================] - 0s 212us/step - loss: 0.3488 - acc: 1.0000\n",
      "Epoch 48/50\n",
      "10/10 [==============================] - 0s 236us/step - loss: 0.3444 - acc: 1.0000\n",
      "Epoch 49/50\n",
      "10/10 [==============================] - 0s 204us/step - loss: 0.3401 - acc: 1.0000\n",
      "Epoch 50/50\n",
      "10/10 [==============================] - 0s 198us/step - loss: 0.3358 - acc: 1.0000\n",
      "10/10 [==============================] - 0s 6ms/step\n",
      "Accuracy: 100.0\n"
     ]
    }
   ],
   "source": [
    "model.fit(padded_docs, labels, epochs=50, verbose=1)\n",
    "loss, accuracy = model.evaluate(padded_docs, labels, verbose=1)\n",
    "print(\"Accuracy: {}\".format(accuracy*100))"
   ]
  },
  {
   "cell_type": "code",
   "execution_count": null,
   "metadata": {},
   "outputs": [],
   "source": []
  }
 ],
 "metadata": {
  "hide_input": false,
  "kernelspec": {
   "display_name": "base",
   "language": "python",
   "name": "base"
  },
  "language_info": {
   "codemirror_mode": {
    "name": "ipython",
    "version": 3
   },
   "file_extension": ".py",
   "mimetype": "text/x-python",
   "name": "python",
   "nbconvert_exporter": "python",
   "pygments_lexer": "ipython3",
   "version": "3.6.9"
  },
  "toc": {
   "base_numbering": 1,
   "nav_menu": {},
   "number_sections": true,
   "sideBar": true,
   "skip_h1_title": false,
   "title_cell": "Table of Contents",
   "title_sidebar": "Contents",
   "toc_cell": false,
   "toc_position": {},
   "toc_section_display": true,
   "toc_window_display": true
  },
  "varInspector": {
   "cols": {
    "lenName": 16,
    "lenType": 16,
    "lenVar": 40
   },
   "kernels_config": {
    "python": {
     "delete_cmd_postfix": "",
     "delete_cmd_prefix": "del ",
     "library": "var_list.py",
     "varRefreshCmd": "print(var_dic_list())"
    },
    "r": {
     "delete_cmd_postfix": ") ",
     "delete_cmd_prefix": "rm(",
     "library": "var_list.r",
     "varRefreshCmd": "cat(var_dic_list()) "
    }
   },
   "types_to_exclude": [
    "module",
    "function",
    "builtin_function_or_method",
    "instance",
    "_Feature"
   ],
   "window_display": false
  }
 },
 "nbformat": 4,
 "nbformat_minor": 2
}
