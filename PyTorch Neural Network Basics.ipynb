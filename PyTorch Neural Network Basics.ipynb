{
 "cells": [
  {
   "cell_type": "code",
   "execution_count": 4,
   "metadata": {},
   "outputs": [],
   "source": [
    "import torch\n",
    "import torch.nn as nn\n",
    "import matplotlib.pyplot as plt"
   ]
  },
  {
   "cell_type": "markdown",
   "metadata": {},
   "source": [
    "# Perceptron class Implementation using pytorch\n",
    "***"
   ]
  },
  {
   "cell_type": "code",
   "execution_count": 3,
   "metadata": {},
   "outputs": [],
   "source": [
    "class Perceptron( nn.Module):\n",
    "    \"\"\"\n",
    "    Implementation of a perceptron with one linear layer\n",
    "    \"\"\"\n",
    "    def __init__( self, input_dim ):\n",
    "        super( Perceptron, self).__init__()\n",
    "        self.fc1 = nn.Linear( input_dim, 1 )\n",
    "        \n",
    "    def forward( self, x_in ):\n",
    "        \"\"\"\n",
    "        Implement the forward pass for a perceptron\n",
    "        \"\"\"\n",
    "        return torch.sigmoid( self.fc1( x_in ) ).squeeze()"
   ]
  },
  {
   "cell_type": "markdown",
   "metadata": {},
   "source": [
    "# Activation Functions\n",
    "***\n",
    "A tour of some nonlinear activation functions.\n",
    "## Sigmoid\n",
    "***\n",
    "The sigmoid function saturates (produces extreme valued outputs) very quickly for a majority of inputs. This becomes a problem because it can lead to the gradients becoming either zero or diverging to an overflowing floating-point value.\n",
    "\n",
    "Thus, the sigmoid is susceptible to the **vanishing gradient problem** and the **exploding gradient problem**. \n",
    "\n",
    "As a result, it is rare to see sigmoid units in neural networks other than at the end where the squashing property allows one to interpret outputs as probabilities. \n",
    "\n",
    "$$f(x) = \\frac{1}{1+e^{-x}}$$"
   ]
  },
  {
   "cell_type": "code",
   "execution_count": 6,
   "metadata": {},
   "outputs": [
    {
     "data": {
      "image/png": "[encoded data removed]",
      "text/plain": [
       "<Figure size 432x288 with 1 Axes>"
      ]
     },
     "metadata": {
      "needs_background": "light"
     },
     "output_type": "display_data"
    }
   ],
   "source": [
    "x = torch.arange(-5., 6., 0.1)\n",
    "y = torch.sigmoid(x)\n",
    "plt.plot(x.numpy(), y.numpy())\n",
    "plt.show()"
   ]
  },
  {
   "cell_type": "markdown",
   "metadata": {},
   "source": [
    "## Tanh\n",
    "***\n",
    "$$f(x) = \\tanh(x)=\\frac{{e^x}-e^{-x}}{e^{x}+e^{-x}}$$\n",
    "This function also has the same squashing property, except that it maps the set of real values from $(-\\infty, \\infty)$ to the range $[-1,+1]$. "
   ]
  },
  {
   "cell_type": "code",
   "execution_count": 7,
   "metadata": {},
   "outputs": [
    {
     "data": {
      "image/png": "[encoded data removed]",
      "text/plain": [
       "<Figure size 432x288 with 1 Axes>"
      ]
     },
     "metadata": {
      "needs_background": "light"
     },
     "output_type": "display_data"
    }
   ],
   "source": [
    "y = torch.tanh(x)\n",
    "plt.plot( x.numpy(), y.numpy())\n",
    "plt.show()"
   ]
  },
  {
   "cell_type": "markdown",
   "metadata": {},
   "source": [
    "# ReLU\n",
    "***\n",
    "ReLU stands for rectified linear unit. This is arguably the most important of the activation functions. \n",
    "\n",
    "$$f(x) = \\max(0,x)$$"
   ]
  },
  {
   "cell_type": "code",
   "execution_count": 8,
   "metadata": {},
   "outputs": [
    {
     "data": {
      "image/png": "[encoded data removed]",
      "text/plain": [
       "<Figure size 432x288 with 1 Axes>"
      ]
     },
     "metadata": {
      "needs_background": "light"
     },
     "output_type": "display_data"
    }
   ],
   "source": [
    "relu = torch.nn.ReLU()\n",
    "y = relu(x)\n",
    "\n",
    "plt.plot(x.numpy(), y.numpy())\n",
    "plt.show()"
   ]
  },
  {
   "cell_type": "markdown",
   "metadata": {},
   "source": [
    "## Softmax\n",
    "***\n",
    "Softmax squashes the output of each unit to be between 0 and 1, and it also normalizes each of the outputs by the sum of all the outputs, so we can interpret the result of softmax as a probability. \n",
    "\n",
    "$$\\textrm{softmax}(x_i) = \\frac{e^{x_i}}{\\sum_{j=1}^k e^{x_j}}$$\n",
    "\n",
    "Usually this is paired with a probabilistic training objective such as categorical cross entropy. "
   ]
  },
  {
   "cell_type": "code",
   "execution_count": 9,
   "metadata": {},
   "outputs": [
    {
     "name": "stdout",
     "output_type": "stream",
     "text": [
      "tensor([[-2.2896, -0.1867, -0.0454]])\n",
      "tensor([[0.0537, 0.4398, 0.5065]])\n",
      "tensor([1.])\n"
     ]
    }
   ],
   "source": [
    "softmax = nn.Softmax(dim=1)\n",
    "x_input = torch.randn(1, 3)\n",
    "y_output = softmax(x_input)\n",
    "print(x_input)\n",
    "print(y_output)\n",
    "print(torch.sum(y_output,dim=1))"
   ]
  },
  {
   "cell_type": "code",
   "execution_count": null,
   "metadata": {},
   "outputs": [],
   "source": []
  }
 ],
 "metadata": {
  "hide_input": false,
  "kernelspec": {
   "display_name": "base",
   "language": "python",
   "name": "base"
  },
  "language_info": {
   "codemirror_mode": {
    "name": "ipython",
    "version": 3
   },
   "file_extension": ".py",
   "mimetype": "text/x-python",
   "name": "python",
   "nbconvert_exporter": "python",
   "pygments_lexer": "ipython3",
   "version": "3.6.2"
  },
  "toc": {
   "base_numbering": 1,
   "nav_menu": {},
   "number_sections": true,
   "sideBar": true,
   "skip_h1_title": false,
   "title_cell": "Table of Contents",
   "title_sidebar": "Contents",
   "toc_cell": false,
   "toc_position": {},
   "toc_section_display": true,
   "toc_window_display": false
  },
  "varInspector": {
   "cols": {
    "lenName": 16,
    "lenType": 16,
    "lenVar": 40
   },
   "kernels_config": {
    "python": {
     "delete_cmd_postfix": "",
     "delete_cmd_prefix": "del ",
     "library": "var_list.py",
     "varRefreshCmd": "print(var_dic_list())"
    },
    "r": {
     "delete_cmd_postfix": ") ",
     "delete_cmd_prefix": "rm(",
     "library": "var_list.r",
     "varRefreshCmd": "cat(var_dic_list()) "
    }
   },
   "types_to_exclude": [
    "module",
    "function",
    "builtin_function_or_method",
    "instance",
    "_Feature"
   ],
   "window_display": false
  }
 },
 "nbformat": 4,
 "nbformat_minor": 2
}
