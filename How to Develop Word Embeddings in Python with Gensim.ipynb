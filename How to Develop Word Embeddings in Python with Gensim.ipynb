{
 "cells": [
  {
   "cell_type": "markdown",
   "metadata": {},
   "source": [
    "Word embedding algorithms like word2vec and GloVe are key to SOTA results achieved by neural network models on natural language processing problems. \n",
    "\n",
    "# Develop a Word2Vec Embedding\n",
    "***\n",
    "There are two main training algorithms that can be used to learn the embedding from text - the continuous bag of words and skip grams. \n",
    "\n",
    "You must pass a list of tokenized sentences (a list of lists). Sentences could be text loaded into memory, or an iterator that progressively loads text. \n",
    "\n",
    "You can also pass the `sg` parameter to the `Word2Vec` gensim constructor. `sg=0` means to use CBOW, and `sg=1` means to use skip gram.\n",
    "\n",
    "After model is trained, you can access the word vector model via the `wv` attribute."
   ]
  },
  {
   "cell_type": "code",
   "execution_count": null,
   "metadata": {},
   "outputs": [],
   "source": [
    "model = Word2Vec(sentences)\n",
    "words = list(model.wv.vocab)"
   ]
  },
  {
   "cell_type": "markdown",
   "metadata": {},
   "source": [
    "We can look at the word vector for a specific token:"
   ]
  },
  {
   "cell_type": "code",
   "execution_count": null,
   "metadata": {},
   "outputs": [],
   "source": [
    "model[\"word\"]"
   ]
  },
  {
   "cell_type": "markdown",
   "metadata": {},
   "source": [
    "Save a trained model to file using:"
   ]
  },
  {
   "cell_type": "code",
   "execution_count": null,
   "metadata": {},
   "outputs": [],
   "source": [
    "model.wv.save_word2vec_format(\"model.bin\")"
   ]
  },
  {
   "cell_type": "markdown",
   "metadata": {},
   "source": [
    "If you want to inspect the learned model in ASCII format, you can set `binary=False` inside `save_word2vec_format`.\n",
    "\n",
    "Then load the model with:"
   ]
  },
  {
   "cell_type": "code",
   "execution_count": null,
   "metadata": {},
   "outputs": [],
   "source": [
    "model = Word2Vec.load(\"model.bin\")"
   ]
  },
  {
   "cell_type": "markdown",
   "metadata": {},
   "source": [
    "# Example\n",
    "***"
   ]
  },
  {
   "cell_type": "code",
   "execution_count": 2,
   "metadata": {},
   "outputs": [
    {
     "name": "stdout",
     "output_type": "stream",
     "text": [
      "Model specification: Word2Vec(vocab=14, size=100, alpha=0.025)\n",
      "Vocabulary: ['this', 'is', 'the', 'first', 'sentence', 'for', 'word2vec', 'second', 'yet', 'another', 'one', 'more', 'and', 'final']\n",
      "Word Vector for Sentence: [-2.9490357e-03 -1.3630083e-03  1.6693189e-04  5.6463253e-04\n",
      "  2.6425857e-03 -4.2731198e-03  4.1023493e-03  4.7875899e-03\n",
      " -1.8153833e-03  3.1510503e-03 -2.3427211e-04 -4.2115757e-03\n",
      " -1.4639411e-03 -3.6810183e-03  3.8812698e-03 -4.3745907e-03\n",
      " -1.8498360e-03 -3.2920244e-03 -4.1422327e-03 -2.3320068e-04\n",
      " -2.0652141e-03 -1.2088107e-03 -2.4696412e-03 -4.5302068e-03\n",
      " -8.3491299e-04  4.7976188e-03  3.8327351e-03 -1.5824118e-03\n",
      "  3.3240602e-04  4.0838872e-03  1.3035192e-03  1.8270056e-03\n",
      "  7.6625176e-05 -4.2106607e-04 -3.1754265e-03 -1.9469821e-03\n",
      " -1.1816279e-03 -4.7870814e-03  7.6359353e-04 -2.9783170e-03\n",
      " -1.6573471e-03 -3.1265905e-03  3.2525309e-03 -2.9644063e-03\n",
      "  1.8559467e-03  4.6975049e-04 -2.4758787e-03 -3.0541420e-03\n",
      " -1.0114098e-03  3.0320561e-03 -1.5432007e-03 -4.5501739e-03\n",
      " -9.8099728e-05  4.7470084e-03 -4.1764430e-04 -3.6354625e-04\n",
      "  2.5313753e-03 -2.1075399e-03 -3.2441465e-03 -4.7747628e-03\n",
      "  2.0752803e-03 -2.1391253e-03 -2.8777285e-03 -1.1336685e-03\n",
      " -3.3063951e-03 -6.1494112e-04 -1.9812162e-03 -3.8368136e-03\n",
      " -1.3086799e-03 -7.3697139e-04  3.6109381e-03  2.9749642e-03\n",
      " -5.6742283e-04  1.0157233e-03  2.8448801e-03  3.9688307e-03\n",
      " -1.2978057e-03  3.5069950e-03 -8.5293424e-05  5.0811248e-04\n",
      "  4.6366290e-03  3.2516290e-03  1.1554011e-03 -2.3916154e-03\n",
      "  1.3645712e-03  6.0515449e-04  3.7892733e-03  3.7990687e-03\n",
      "  3.5290720e-03  3.5471448e-03  3.6924090e-03  2.2357539e-03\n",
      "  2.0485276e-03  1.1375720e-03  3.8325025e-03  4.6397843e-03\n",
      "  3.6724254e-03  1.6825851e-03 -3.3349695e-03 -4.2987699e-04]\n",
      "New Model:\n",
      "Word2Vec(vocab=14, size=100, alpha=0.025)\n"
     ]
    },
    {
     "name": "stderr",
     "output_type": "stream",
     "text": [
      "/home/joseph/miniconda3/lib/python3.6/site-packages/ipykernel_launcher.py:11: DeprecationWarning: Call to deprecated `__getitem__` (Method will be removed in 4.0.0, use self.wv.__getitem__() instead).\n",
      "  # This is added back by InteractiveShellApp.init_path()\n"
     ]
    }
   ],
   "source": [
    "from gensim.models import Word2Vec\n",
    "sentences = [['this', 'is', 'the', 'first', 'sentence', 'for', 'word2vec'],\n",
    "['this', 'is', 'the', 'second', 'sentence'],\n",
    "['yet', 'another', 'sentence'],\n",
    "['one', 'more', 'sentence'],\n",
    "['and', 'the', 'final', 'sentence']]\n",
    "model = Word2Vec(sentences, min_count=1)\n",
    "print(\"Model specification: {}\".format(model))\n",
    "words = list(model.wv.vocab)\n",
    "print(\"Vocabulary: {}\".format(words))\n",
    "print(\"Word Vector for Sentence: {}\".format(model[\"sentence\"]))\n",
    "model.save(\"data/model.bin\")\n",
    "\n",
    "new_model = Word2Vec.load(\"data/model.bin\")\n",
    "print(\"New Model:\\n{}\".format(new_model))"
   ]
  },
  {
   "cell_type": "markdown",
   "metadata": {},
   "source": [
    "# Visualize Word Embedding\n",
    "***"
   ]
  },
  {
   "cell_type": "code",
   "execution_count": 4,
   "metadata": {},
   "outputs": [
    {
     "name": "stderr",
     "output_type": "stream",
     "text": [
      "/home/joseph/miniconda3/lib/python3.6/site-packages/ipykernel_launcher.py:4: DeprecationWarning: Call to deprecated `__getitem__` (Method will be removed in 4.0.0, use self.wv.__getitem__() instead).\n",
      "  after removing the cwd from sys.path.\n"
     ]
    },
    {
     "data": {
      "image/png": "[encoded data removed]",
      "text/plain": [
       "<Figure size 432x288 with 1 Axes>"
      ]
     },
     "metadata": {
      "needs_background": "light"
     },
     "output_type": "display_data"
    }
   ],
   "source": [
    "from sklearn.decomposition import PCA\n",
    "import matplotlib.pyplot as plt\n",
    "# get all the vectors from a trained model\n",
    "X = model[model.wv.vocab]\n",
    "pca = PCA(n_components=2)\n",
    "pca_fitted = pca.fit_transform(X)\n",
    "\n",
    "plt.scatter(pca_fitted[:,0],pca_fitted[:,1])\n",
    "for i, word in enumerate(list(model.wv.vocab)):\n",
    "    plt.annotate(word, xy=(pca_fitted[i,0],pca_fitted[i,1]))\n",
    "plt.show()"
   ]
  },
  {
   "cell_type": "markdown",
   "metadata": {},
   "source": [
    "# Load Google's Word2Vec Embedding\n",
    "***\n",
    "Google has a pre-trained model of word vectors trained on Google news data. You can download it [here](https://drive.google.com/file/d/0B7XkCwpI5KDYNlNUTTlSS21pQmM/edit?usp=sharing). It is a 1.53 Gb file (zipped).\n",
    "\n",
    "Gensim provides functionality to load files like this. "
   ]
  },
  {
   "cell_type": "code",
   "execution_count": null,
   "metadata": {},
   "outputs": [],
   "source": [
    "from gensim.models import KeyedVectors\n",
    "filename = \"GoogleNews-vectors-negative300.bin\"\n",
    "model = KeyedVectors.load_word2vec_format(filename,binary=True)\n",
    "result = model.most_similar(positive=[\"woman\",\"king\"],negative=[\"man\"],topn=1)"
   ]
  },
  {
   "cell_type": "markdown",
   "metadata": {},
   "source": [
    "# Load Stanford's GloVe Embedding\n",
    "***"
   ]
  },
  {
   "cell_type": "code",
   "execution_count": 5,
   "metadata": {},
   "outputs": [
    {
     "name": "stderr",
     "output_type": "stream",
     "text": [
      "/home/joseph/miniconda3/lib/python3.6/site-packages/smart_open/smart_open_lib.py:398: UserWarning: This function is deprecated, use smart_open.open instead. See the migration notes for details: https://github.com/RaRe-Technologies/smart_open/blob/master/README.rst#migrating-to-the-new-open-function\n",
      "  'See the migration notes for details: %s' % _MIGRATION_NOTES_URL\n"
     ]
    },
    {
     "data": {
      "text/plain": [
       "(400000, 100)"
      ]
     },
     "execution_count": 5,
     "metadata": {},
     "output_type": "execute_result"
    }
   ],
   "source": [
    "from gensim.scripts.glove2word2vec import glove2word2vec\n",
    "glove_input_file = \"data/glove_wikipedia_embeddings/glove.6B.100d.txt\"\n",
    "word2vec_output_file = \"data/glove_wikipedia_embeddings/glove.6B.100d.txt.word2vec\"\n",
    "glove2word2vec(glove_input_file, word2vec_output_file)"
   ]
  },
  {
   "cell_type": "markdown",
   "metadata": {},
   "source": [
    "This produced a copy of the GloVe model in word2vec format with name `glove.6B.100d.txt.word2vec`\n",
    "\n",
    "Now we can load it and perform some arithmetic:"
   ]
  },
  {
   "cell_type": "code",
   "execution_count": 7,
   "metadata": {},
   "outputs": [
    {
     "name": "stderr",
     "output_type": "stream",
     "text": [
      "/home/joseph/miniconda3/lib/python3.6/site-packages/smart_open/smart_open_lib.py:398: UserWarning: This function is deprecated, use smart_open.open instead. See the migration notes for details: https://github.com/RaRe-Technologies/smart_open/blob/master/README.rst#migrating-to-the-new-open-function\n",
      "  'See the migration notes for details: %s' % _MIGRATION_NOTES_URL\n"
     ]
    },
    {
     "name": "stdout",
     "output_type": "stream",
     "text": [
      "[('queen', 0.7698541283607483)]\n"
     ]
    }
   ],
   "source": [
    "from gensim.models import KeyedVectors\n",
    "filename = \"data/glove_wikipedia_embeddings/glove.6B.100d.txt.word2vec\"\n",
    "model = KeyedVectors.load_word2vec_format(filename,binary=False)\n",
    "result = model.most_similar(positive=[\"woman\",\"king\"],negative=[\"man\"],topn=1)\n",
    "print(result)"
   ]
  }
 ],
 "metadata": {
  "hide_input": false,
  "kernelspec": {
   "display_name": "base",
   "language": "python",
   "name": "base"
  },
  "language_info": {
   "codemirror_mode": {
    "name": "ipython",
    "version": 3
   },
   "file_extension": ".py",
   "mimetype": "text/x-python",
   "name": "python",
   "nbconvert_exporter": "python",
   "pygments_lexer": "ipython3",
   "version": "3.6.2"
  },
  "toc": {
   "base_numbering": 1,
   "nav_menu": {},
   "number_sections": true,
   "sideBar": true,
   "skip_h1_title": false,
   "title_cell": "Table of Contents",
   "title_sidebar": "Contents",
   "toc_cell": false,
   "toc_position": {},
   "toc_section_display": true,
   "toc_window_display": false
  },
  "varInspector": {
   "cols": {
    "lenName": 16,
    "lenType": 16,
    "lenVar": 40
   },
   "kernels_config": {
    "python": {
     "delete_cmd_postfix": "",
     "delete_cmd_prefix": "del ",
     "library": "var_list.py",
     "varRefreshCmd": "print(var_dic_list())"
    },
    "r": {
     "delete_cmd_postfix": ") ",
     "delete_cmd_prefix": "rm(",
     "library": "var_list.r",
     "varRefreshCmd": "cat(var_dic_list()) "
    }
   },
   "types_to_exclude": [
    "module",
    "function",
    "builtin_function_or_method",
    "instance",
    "_Feature"
   ],
   "window_display": false
  }
 },
 "nbformat": 4,
 "nbformat_minor": 2
}
