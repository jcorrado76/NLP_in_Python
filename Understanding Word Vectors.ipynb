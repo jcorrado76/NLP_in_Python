{
 "cells": [
  {
   "cell_type": "markdown",
   "metadata": {},
   "source": [
    "# Word Vectors\n",
    "***\n",
    "Word vectors are a way of representing words that retains the information about how different words are semantically related to one another. In this way, words that are semantically similar are represented as being spatially closer in the vector space.\n",
    "\n",
    "# An Example: Animal Space\n",
    "***\n",
    "We have data on the cuteness and size of various animals. We can use these two dimensions to make determinations about which animals are similar. First, we should visualize the similarity between animals in our list by making a scatter plot of the data."
   ]
  },
  {
   "cell_type": "code",
   "execution_count": 1,
   "metadata": {},
   "outputs": [],
   "source": [
    "import pandas as pd\n",
    "import numpy as np\n",
    "import matplotlib.pyplot as plt\n",
    "import matplotlib as mpl\n",
    "\n",
    "mpl.rcParams['figure.figsize'] = (12,10)"
   ]
  },
  {
   "cell_type": "code",
   "execution_count": 2,
   "metadata": {},
   "outputs": [
    {
     "data": {
      "text/html": [
       "<div>\n",
       "<style scoped>\n",
       "    .dataframe tbody tr th:only-of-type {\n",
       "        vertical-align: middle;\n",
       "    }\n",
       "\n",
       "    .dataframe tbody tr th {\n",
       "        vertical-align: top;\n",
       "    }\n",
       "\n",
       "    .dataframe thead th {\n",
       "        text-align: right;\n",
       "    }\n",
       "</style>\n",
       "<table border=\"1\" class=\"dataframe\">\n",
       "  <thead>\n",
       "    <tr style=\"text-align: right;\">\n",
       "      <th></th>\n",
       "      <th>cuteness</th>\n",
       "      <th>size</th>\n",
       "    </tr>\n",
       "    <tr>\n",
       "      <th>name</th>\n",
       "      <th></th>\n",
       "      <th></th>\n",
       "    </tr>\n",
       "  </thead>\n",
       "  <tbody>\n",
       "    <tr>\n",
       "      <th>kitten</th>\n",
       "      <td>95</td>\n",
       "      <td>15</td>\n",
       "    </tr>\n",
       "    <tr>\n",
       "      <th>hamster</th>\n",
       "      <td>80</td>\n",
       "      <td>8</td>\n",
       "    </tr>\n",
       "    <tr>\n",
       "      <th>tarantula</th>\n",
       "      <td>8</td>\n",
       "      <td>3</td>\n",
       "    </tr>\n",
       "    <tr>\n",
       "      <th>puppy</th>\n",
       "      <td>90</td>\n",
       "      <td>20</td>\n",
       "    </tr>\n",
       "    <tr>\n",
       "      <th>crocodile</th>\n",
       "      <td>5</td>\n",
       "      <td>40</td>\n",
       "    </tr>\n",
       "  </tbody>\n",
       "</table>\n",
       "</div>"
      ],
      "text/plain": [
       "           cuteness  size\n",
       "name                     \n",
       "kitten           95    15\n",
       "hamster          80     8\n",
       "tarantula         8     3\n",
       "puppy            90    20\n",
       "crocodile         5    40"
      ]
     },
     "execution_count": 2,
     "metadata": {},
     "output_type": "execute_result"
    }
   ],
   "source": [
    "data = pd.read_csv(\"data/animal_similarity.csv\",index_col='name')\n",
    "data.head()"
   ]
  },
  {
   "cell_type": "code",
   "execution_count": 3,
   "metadata": {},
   "outputs": [
    {
     "data": {
      "image/png": "[encoded data removed]",
      "text/plain": [
       "<Figure size 432x288 with 1 Axes>"
      ]
     },
     "metadata": {
      "needs_background": "light"
     },
     "output_type": "display_data"
    }
   ],
   "source": [
    "data.reset_index().plot(kind='scatter',x='cuteness',y='size',\\\n",
    "                       s=1500,alpha=0.5)\n",
    "for index, row in data.iterrows():\n",
    "    plt.text(row['cuteness'],row['size'],index)\n",
    "plt.grid()\n",
    "plt.xlim(0,100)\n",
    "plt.ylim(0,100)\n",
    "plt.show()"
   ]
  },
  {
   "cell_type": "markdown",
   "metadata": {},
   "source": [
    "Using this plot, we can realize that the closest animal to the capybara is the panda bear. \n",
    "\n",
    "In this space, we can quantify how similar two animals are based on their euclidean distance in the space."
   ]
  },
  {
   "cell_type": "code",
   "execution_count": 4,
   "metadata": {},
   "outputs": [],
   "source": [
    "def get_animal_array_data( animal ):\n",
    "    return np.array(data.loc[animal].tolist())"
   ]
  },
  {
   "cell_type": "code",
   "execution_count": 5,
   "metadata": {},
   "outputs": [],
   "source": [
    "def distance2d( vec1, vec2 ):\n",
    "    return np.sqrt( np.dot( vec1-vec2,\\\n",
    "                           vec1-vec2 ) )"
   ]
  },
  {
   "cell_type": "code",
   "execution_count": 6,
   "metadata": {},
   "outputs": [],
   "source": [
    "def get_animal_distances( animal1, animal2 ):\n",
    "    animal1 = get_animal_array_data(animal1)\n",
    "    animal2 = get_animal_array_data(animal2)\n",
    "    return distance2d(animal1, animal2)"
   ]
  },
  {
   "cell_type": "code",
   "execution_count": 7,
   "metadata": {},
   "outputs": [
    {
     "name": "stdout",
     "output_type": "stream",
     "text": [
      "Distance between a panda bear and capybara: 11.180339887498949\n",
      "Distance between a tarantula and elephant: 104.0096149401583\n"
     ]
    }
   ],
   "source": [
    "print(\"Distance between a panda bear and capybara: {}\".format(get_animal_distances('panda bear','capybara')))\n",
    "print(\"Distance between a tarantula and elephant: {}\".format(get_animal_distances('tarantula','elephant')))"
   ]
  },
  {
   "cell_type": "markdown",
   "metadata": {},
   "source": [
    "We can also write a function to, given a point in animal space, determine the animal that is closest to that point."
   ]
  },
  {
   "cell_type": "code",
   "execution_count": 8,
   "metadata": {},
   "outputs": [],
   "source": [
    "def extrapolate_animal_from_point(cuteness, size):\n",
    "    target_vec = np.array([cuteness,size])\n",
    "    min_distance = np.inf\n",
    "    min_distance_animal = \"\"\n",
    "    for index, row in data.iterrows():\n",
    "        distance = distance2d(target_vec, get_animal_array_data(index))\n",
    "        if distance < min_distance:\n",
    "            min_distance = distance\n",
    "            min_distance_animal = index\n",
    "    return min_distance_animal"
   ]
  },
  {
   "cell_type": "markdown",
   "metadata": {},
   "source": [
    "The closest animal to size 25 and cuteness 30 should be chicken:"
   ]
  },
  {
   "cell_type": "code",
   "execution_count": 9,
   "metadata": {},
   "outputs": [
    {
     "name": "stdout",
     "output_type": "stream",
     "text": [
      "Animal closest to point (30,25): chicken\n"
     ]
    }
   ],
   "source": [
    "target_vec = [30,25]\n",
    "minimal_dist_animal = extrapolate_animal_from_point(*target_vec)\n",
    "print(\"Animal closest to point ({},{}): {}\".format(*target_vec, minimal_dist_animal))"
   ]
  },
  {
   "cell_type": "code",
   "execution_count": 10,
   "metadata": {},
   "outputs": [
    {
     "data": {
      "image/png": "[encoded data removed]",
      "text/plain": [
       "<Figure size 432x288 with 1 Axes>"
      ]
     },
     "metadata": {
      "needs_background": "light"
     },
     "output_type": "display_data"
    }
   ],
   "source": [
    "data.reset_index().plot(kind='scatter',x='cuteness',y='size',\\\n",
    "                       s=1500,alpha=0.5)\n",
    "for index, row in data.iterrows():\n",
    "    plt.text(row['cuteness'],row['size'],index)\n",
    "plt.scatter(*target_vec,c='r',marker='+')\n",
    "minimal_animal = get_animal_array_data(minimal_dist_animal)\n",
    "vector_diff = (minimal_animal - np.array(target_vec)).tolist()\n",
    "plt.arrow(*target_vec,*vector_diff,width=0.3 )\n",
    "plt.grid()\n",
    "plt.xlim(0,100)\n",
    "plt.ylim(0,100)\n",
    "plt.show()"
   ]
  },
  {
   "cell_type": "markdown",
   "metadata": {},
   "source": [
    "Now let's talk about the vector space of colors. Colors are often represented in computers as vectors with three dimensions: red, green and blue. We'll be using the xkcd data file on colors from [here](https://github.com/dariusk/corpora/blob/master/data/colors/xkcd.json).\n",
    "\n",
    "A color's RGB vector is converted into a hexadecimal number by converting each of the red, green and blue values into their hexadecimal counterparts and cocnatenating them. The resulting 6 digit number is the hexadecimal number."
   ]
  },
  {
   "cell_type": "code",
   "execution_count": 11,
   "metadata": {},
   "outputs": [],
   "source": [
    "import json"
   ]
  },
  {
   "cell_type": "code",
   "execution_count": 12,
   "metadata": {},
   "outputs": [],
   "source": [
    "color_data = json.loads(open(\"data/xkcd_colors.json\").read())"
   ]
  },
  {
   "cell_type": "markdown",
   "metadata": {},
   "source": [
    "Colors are represented in hexadecimal format, so we need a function to convert hexadecimal into a tuple of integers:"
   ]
  },
  {
   "cell_type": "code",
   "execution_count": 13,
   "metadata": {},
   "outputs": [],
   "source": [
    "def hex_to_int( s ):\n",
    "    # each number is preceded by a pound\n",
    "    s = s.lstrip(\"#\")\n",
    "    # int(string, base)\n",
    "    return np.array([int(s[:2], 16), int(s[2:4], 16), int(s[4:6], 16)])"
   ]
  },
  {
   "cell_type": "markdown",
   "metadata": {},
   "source": [
    "Now we can create a dictionary containing the mappings between the color names to their RGB vectors."
   ]
  },
  {
   "cell_type": "code",
   "execution_count": 14,
   "metadata": {},
   "outputs": [],
   "source": [
    "colors = {}\n",
    "for color in color_data['colors']:\n",
    "    colors[color['color']] = hex_to_int(color['hex'])"
   ]
  },
  {
   "cell_type": "markdown",
   "metadata": {},
   "source": [
    "Now we can test it out:"
   ]
  },
  {
   "cell_type": "code",
   "execution_count": 15,
   "metadata": {},
   "outputs": [
    {
     "data": {
      "text/plain": [
       "array([110, 117,  14])"
      ]
     },
     "execution_count": 15,
     "metadata": {},
     "output_type": "execute_result"
    }
   ],
   "source": [
    "colors['olive']"
   ]
  },
  {
   "cell_type": "code",
   "execution_count": 16,
   "metadata": {},
   "outputs": [
    {
     "data": {
      "text/plain": [
       "array([229,   0,   0])"
      ]
     },
     "execution_count": 16,
     "metadata": {},
     "output_type": "execute_result"
    }
   ],
   "source": [
    "np.array(list(colors['red']))"
   ]
  },
  {
   "cell_type": "code",
   "execution_count": 17,
   "metadata": {},
   "outputs": [],
   "source": [
    "def from_tuple_to_np_array( my_tuple ):\n",
    "    return np.array(list(my_tuple))\n",
    "\n",
    "def distance_between_colors( color1, color2 ):\n",
    "    return np.linalg.norm(from_tuple_to_np_array(colors[color1])-\\\n",
    "                                from_tuple_to_np_array(colors[color2]))\n",
    "def distance_between_coords( coord1, coord2 ):\n",
    "    return np.linalg.norm(coord1-coord2)"
   ]
  },
  {
   "cell_type": "code",
   "execution_count": 18,
   "metadata": {},
   "outputs": [
    {
     "name": "stdout",
     "output_type": "stream",
     "text": [
      "273.70787347096905\n",
      "232.76812496559748\n"
     ]
    }
   ],
   "source": [
    "print(distance_between_colors('red','green'))\n",
    "print(distance_between_colors('red','pink'))"
   ]
  },
  {
   "cell_type": "markdown",
   "metadata": {},
   "source": [
    "In order to find the closest colors to some point in RGB space, we can simply compute the distance between our point and every color in the space, then we sort this list. "
   ]
  },
  {
   "cell_type": "code",
   "execution_count": 19,
   "metadata": {},
   "outputs": [],
   "source": [
    "def closest( space, coord, n=10 ):\n",
    "    closest = []\n",
    "    for key in sorted(space.keys(), key=lambda x: \\\n",
    "        distance_between_coords(from_tuple_to_np_array(space[x]),\\\n",
    "                                from_tuple_to_np_array(coord)))[:n]:\n",
    "        closest.append(key)\n",
    "    return closest"
   ]
  },
  {
   "cell_type": "code",
   "execution_count": 20,
   "metadata": {},
   "outputs": [
    {
     "data": {
      "text/plain": [
       "['red',\n",
       " 'fire engine red',\n",
       " 'bright red',\n",
       " 'tomato red',\n",
       " 'cherry red',\n",
       " 'scarlet',\n",
       " 'vermillion',\n",
       " 'orangish red',\n",
       " 'cherry',\n",
       " 'lipstick red']"
      ]
     },
     "execution_count": 20,
     "metadata": {},
     "output_type": "execute_result"
    }
   ],
   "source": [
    "closest(colors, colors['red'])"
   ]
  },
  {
   "cell_type": "code",
   "execution_count": 21,
   "metadata": {},
   "outputs": [
    {
     "data": {
      "text/plain": [
       "['warm purple',\n",
       " 'medium purple',\n",
       " 'ugly purple',\n",
       " 'light eggplant',\n",
       " 'purpleish',\n",
       " 'purplish',\n",
       " 'purply',\n",
       " 'light plum',\n",
       " 'purple',\n",
       " 'muted purple']"
      ]
     },
     "execution_count": 21,
     "metadata": {},
     "output_type": "execute_result"
    }
   ],
   "source": [
    "closest(colors, [150,60,150])"
   ]
  },
  {
   "cell_type": "markdown",
   "metadata": {},
   "source": [
    "By representing words as vectors in this vector space, we can use the vector operations to operate on those vectors in intuitive ways. For example, purple minus red yields blue:"
   ]
  },
  {
   "cell_type": "code",
   "execution_count": 22,
   "metadata": {},
   "outputs": [
    {
     "data": {
      "text/plain": [
       "['cobalt blue',\n",
       " 'royal blue',\n",
       " 'darkish blue',\n",
       " 'true blue',\n",
       " 'royal',\n",
       " 'prussian blue',\n",
       " 'dark royal blue',\n",
       " 'deep blue',\n",
       " 'marine blue',\n",
       " 'deep sea blue']"
      ]
     },
     "execution_count": 22,
     "metadata": {},
     "output_type": "execute_result"
    }
   ],
   "source": [
    "closest(colors, colors['purple']-colors['red'])"
   ]
  },
  {
   "cell_type": "markdown",
   "metadata": {},
   "source": [
    "Similarly, we can look at what green plus blue would look like:"
   ]
  },
  {
   "cell_type": "code",
   "execution_count": 23,
   "metadata": {},
   "outputs": [
    {
     "data": {
      "text/plain": [
       "['bright turquoise',\n",
       " 'bright light blue',\n",
       " 'bright aqua',\n",
       " 'cyan',\n",
       " 'neon blue',\n",
       " 'aqua blue',\n",
       " 'bright cyan',\n",
       " 'bright sky blue',\n",
       " 'aqua',\n",
       " 'bright teal']"
      ]
     },
     "execution_count": 23,
     "metadata": {},
     "output_type": "execute_result"
    }
   ],
   "source": [
    "closest(colors, colors['blue'] + colors['green'])"
   ]
  },
  {
   "cell_type": "markdown",
   "metadata": {},
   "source": [
    "And finally, what happens if we take the average of black and white? (gray)"
   ]
  },
  {
   "cell_type": "code",
   "execution_count": 24,
   "metadata": {},
   "outputs": [],
   "source": [
    "def meanv( list_of_vecs ):\n",
    "    mean = np.zeros(shape=list_of_vecs[0].shape)\n",
    "    for vector in list_of_vecs:\n",
    "        mean += vector\n",
    "    return mean / len(list_of_vecs)"
   ]
  },
  {
   "cell_type": "code",
   "execution_count": 25,
   "metadata": {},
   "outputs": [
    {
     "data": {
      "text/plain": [
       "['medium grey',\n",
       " 'purple grey',\n",
       " 'steel grey',\n",
       " 'battleship grey',\n",
       " 'grey purple',\n",
       " 'purplish grey',\n",
       " 'greyish purple',\n",
       " 'steel',\n",
       " 'warm grey',\n",
       " 'green grey']"
      ]
     },
     "execution_count": 25,
     "metadata": {},
     "output_type": "execute_result"
    }
   ],
   "source": [
    "closest(colors, meanv([colors['black'],colors['white']]))"
   ]
  },
  {
   "cell_type": "markdown",
   "metadata": {},
   "source": [
    "Now, as an academic example, we can compute the average color of the text version of Dracula:"
   ]
  },
  {
   "cell_type": "code",
   "execution_count": 26,
   "metadata": {},
   "outputs": [],
   "source": [
    "import spacy\n",
    "nlp = spacy.load(\"en\")"
   ]
  },
  {
   "cell_type": "code",
   "execution_count": 27,
   "metadata": {},
   "outputs": [],
   "source": [
    "text = nlp( open(\"data/dracula.txt\").read() )"
   ]
  },
  {
   "cell_type": "code",
   "execution_count": 28,
   "metadata": {},
   "outputs": [],
   "source": [
    "drac_colors = [colors[word.lower_] for word in text if word.lower_ in colors]"
   ]
  },
  {
   "cell_type": "code",
   "execution_count": 29,
   "metadata": {},
   "outputs": [
    {
     "name": "stdout",
     "output_type": "stream",
     "text": [
      "[array([229,   0,   0]), array([244, 208,  84]), array([255, 255, 255]), array([255, 255, 255]), array([255, 255, 255]), array([172, 116,  52]), array([0, 0, 0]), array([0, 0, 0]), array([27, 36, 49]), array([ 78,  81, 139])]\n"
     ]
    }
   ],
   "source": [
    "print(drac_colors[:10])"
   ]
  },
  {
   "cell_type": "code",
   "execution_count": 30,
   "metadata": {},
   "outputs": [],
   "source": [
    "def mean_of_vectors( list_of_colors ):\n",
    "    summy = np.zeros(shape=list_of_colors[0].shape)\n",
    "    for tuplee in list_of_colors:\n",
    "        summy += from_tuple_to_np_array(tuplee)\n",
    "    return summy / len(list_of_colors)"
   ]
  },
  {
   "cell_type": "code",
   "execution_count": 31,
   "metadata": {},
   "outputs": [
    {
     "name": "stdout",
     "output_type": "stream",
     "text": [
      "[126.33898305 120.33898305 108.49152542]\n"
     ]
    }
   ],
   "source": [
    "avg_color = mean_of_vectors(drac_colors)\n",
    "print(avg_color)"
   ]
  },
  {
   "cell_type": "markdown",
   "metadata": {},
   "source": [
    "Now we can figure out what color corresponds most closely to this location in our vector space"
   ]
  },
  {
   "cell_type": "code",
   "execution_count": 32,
   "metadata": {},
   "outputs": [
    {
     "data": {
      "text/plain": [
       "['brownish grey',\n",
       " 'medium grey',\n",
       " 'brown grey',\n",
       " 'purplish grey',\n",
       " 'green grey',\n",
       " 'grey brown',\n",
       " 'reddish grey',\n",
       " 'purple grey',\n",
       " 'battleship grey',\n",
       " 'slate green']"
      ]
     },
     "execution_count": 32,
     "metadata": {},
     "output_type": "execute_result"
    }
   ],
   "source": [
    "closest(colors, avg_color)"
   ]
  },
  {
   "cell_type": "markdown",
   "metadata": {},
   "source": [
    "**Distributional Semantics**\n",
    "\n",
    "For colors, the example is interesting because we think of colors that are close in RGB space as being close together. \n",
    "\n",
    "In our color vector space, vectors that are closer together are more likely to be synonyms, or words that sort of mean the same thing.  For many purposes, the words that are close in our semantic space are also more likely to be functionally identical. \n",
    "\n",
    "For example, if someone searches on google for \"mauve trousers\", it is probably also reasonable to show them results for:"
   ]
  },
  {
   "cell_type": "code",
   "execution_count": 33,
   "metadata": {},
   "outputs": [
    {
     "name": "stdout",
     "output_type": "stream",
     "text": [
      "mauve trousers\n",
      "dusty rose trousers\n",
      "dusky rose trousers\n",
      "brownish pink trousers\n",
      "old pink trousers\n",
      "reddish grey trousers\n",
      "dirty pink trousers\n",
      "old rose trousers\n",
      "light plum trousers\n",
      "ugly pink trousers\n"
     ]
    }
   ],
   "source": [
    "for color_name in closest(colors, colors['mauve']):\n",
    "    print(\"{} trousers\".format(color_name))"
   ]
  },
  {
   "cell_type": "markdown",
   "metadata": {},
   "source": [
    "This works well for color words, which intuitively seem to exist in a multidimensional continuum of perception, and for the animal space, where we've written the vectors out ahead of time. \n",
    "\n",
    "But what about arbitrary words? Can we create a vector space for all English words that has this same \"closer\" in space means closer in meaning property?\n",
    "\n",
    "In order to get an answer to that question, we need to ask what we mean when we talk about the _meaning_ of a word. \n",
    "\n",
    "One popular theory is to use the **Distributional Hypothesis**, which states that **Linguistic items with similar distributions have similar meanings**.\n",
    "\n",
    "By **similar distributions**, we mean **similar contexts**. \n",
    "\n",
    "For example, consider the following sentences:\n",
    "```text\n",
    "It was really cold yesterday.\n",
    "It will be really warm today, though.\n",
    "It'll be really hot tomorrow!\n",
    "Will it be really cool Tuesday?\n",
    "```\n",
    "\n",
    "According to the Distributional Hypothesis, the words, cold, warm, hot and cool must be related in some way (perhaps close in meaning) because they occur in a similar context - they all appear between the word \"really\" and a word referring to a particular day. In the same way, words like yesterday, today, tomorrow and Tuesday must all be related in a temporal way. \n",
    "\n",
    "So, according to the Distributional Hypothesis, **a word's meaning is a big list of all of the contexts it occurs in**. **Two words are closer in meaning if they share contexts**.\n",
    "\n",
    "**Word Vectors by Counting Contexts**\n",
    "\n",
    "So how do we use the Distributional Hypothesis to generate general-purpose vectors that capture the meaning of words? As a naive example, we could create a table in which each column refers to a single context you could find a word in, and each row is for the word in question. So for example, the column names would be (\"START [word] was\",\"it [word] the\", \"was [word] best\", etc.)\n",
    "\n",
    "Then, the entries of this table are the counts of that row's word in the given column's context.\n",
    "\n",
    "Consider the sentence:\n",
    "```text\n",
    "It was the best of times, it was the worst of times.\n",
    "```\n",
    "\n",
    "We tokenize the sentence, and add a START character as well as an END character to pad the contexts:\n",
    "```python\n",
    "tokens = [\"START\",\"It\",\"was\",\"the\",\"best\",\"of\",\"times\",\",\",\"it\",\"was\",\"the\",\"worst\",\"of\",\"times\",\"END\"]\n",
    "```\n",
    "We create a sliding window of 3 elements at a time to produce our 12 contexts:\n",
    "\n",
    "Then we see that there are 12+2=14 words, and this yields 12 contexts: (\"START [word] was\",...,\"of [word] END\")\n",
    "\n",
    "We understand this as a 12 dimensional vector space. The vector for the word \"of\" is:\n",
    "```python\n",
    "of_contexts = [0,0,0,0,1,0,0,0,0,0,1,0]\n",
    "```\n",
    "\n",
    "This vector can be interpreted by noting the presence of 1's in the 5th and 11th positions. This means that the word \"of\" appears as the middle word in the 5th triplet, and the 11th triplet. Upon looking at the windows, we see that those windows are, respectively: \n",
    "```python\n",
    "[\"best\",\"of\",\"times\"]\n",
    "[\"worst\",\"of\",\"times\"]\n",
    "```\n",
    "We can see some close similarities between these two contexts. The first element contains words that are opposite adjectives, and the last word is literally the same.\n",
    "\n",
    "We can see the power of the distributional model through this simple example.\n",
    "\n",
    "**Contexts and dimensionality**\n",
    "\n",
    "Because of the way in which we generate contexts, we see the dimensionality of the semantic space can quickly blow out of proportion. As a result, generally dimensionality reduction techniques are used to reduce the size of the vector space. Usually the size is reduced to some reasonable number of dimensions, such as 100-300, depending on the corpus and the application.\n",
    "\n",
    "However, there is also the question of how to define context. In th toy example we used, we simply defined it as a pair of surrounding words. However, depending on your application, you might want to use a context with a bigger window (perhaps two words before and after your target word). Or use a non-contiguous window (skip a word before and after the given word). You could also remove stop words in your tokens, or lemmatize your words before you begin your analysis, so that two occurrences of words with different forms will count as the same context."
   ]
  },
  {
   "cell_type": "markdown",
   "metadata": {},
   "source": [
    "**GloVe Vectors**\n",
    "\n",
    "You don't always have to create your own word vectors from scratch! Many researchers have created downloadable databases of pre-trained word vectors. One such project is Stanfords Global Vectors for Word Representations (GloVe). These 300-dimensional vectors are what's used with the spaCy package in python. We will practice using these word vectors in this tutorial.\n"
   ]
  },
  {
   "cell_type": "code",
   "execution_count": 34,
   "metadata": {},
   "outputs": [],
   "source": [
    "import spacy\n",
    "nlp = spacy.load(\"en_core_web_lg\")"
   ]
  },
  {
   "cell_type": "markdown",
   "metadata": {},
   "source": [
    "Let's grab the words from dracula and create a unique list of words in the text:"
   ]
  },
  {
   "cell_type": "code",
   "execution_count": 35,
   "metadata": {},
   "outputs": [],
   "source": [
    "tokens = list(set([w.text for w in text if w.is_alpha]))"
   ]
  },
  {
   "cell_type": "markdown",
   "metadata": {},
   "source": [
    "To make them compact and fast, spaCy’s small models (all packages that end in sm) don’t ship with word vectors, and only include context-sensitive tensors. This means you can still use the similarity() methods to compare documents, spans and tokens – but the result won’t be as good, and individual tokens won’t have any vectors assigned. So in order to use real word vectors, you need to download a larger model:\n",
    "```git\n",
    "+ python -m spacy download en_core_web_lg\n",
    "```\n",
    "\n",
    "\n",
    "You can access the word vector of any word in spaCy's vocabulary using the `vocab` attribute:"
   ]
  },
  {
   "cell_type": "code",
   "execution_count": 36,
   "metadata": {},
   "outputs": [
    {
     "name": "stdout",
     "output_type": "stream",
     "text": [
      "[-5.5252e-01  1.8894e-01  6.8737e-01 -1.9789e-01  7.0575e-02  1.0075e+00\n",
      "  5.1789e-02 -1.5603e-01  3.1941e-01  1.1702e+00 -4.7248e-01  4.2867e-01\n",
      " -4.2025e-01  2.4803e-01  6.8194e-01 -6.7488e-01  9.2401e-02  1.3089e+00\n",
      " -3.6278e-02  2.0098e-01  7.6005e-01 -6.6718e-02 -7.7794e-02  2.3844e-01\n",
      " -2.4351e-01 -5.4164e-01 -3.3540e-01  2.9805e-01  3.5269e-01 -8.0594e-01\n",
      " -4.3611e-01  6.1535e-01  3.4212e-01 -3.3603e-01  3.3282e-01  3.8065e-01\n",
      "  5.7427e-02  9.9918e-02  1.2525e-01  1.1039e+00  3.6678e-02  3.0490e-01\n",
      " -1.4942e-01  3.2912e-01  2.3300e-01  4.3395e-01  1.5666e-01  2.2778e-01\n",
      " -2.5830e-02  2.4334e-01 -5.8136e-02 -1.3486e-01  2.4521e-01 -3.3459e-01\n",
      "  4.2839e-01 -4.8181e-01  1.3403e-01  2.6049e-01  8.9933e-02 -9.3770e-02\n",
      "  3.7672e-01 -2.9558e-02  4.3841e-01  6.1212e-01 -2.5720e-01 -7.8506e-01\n",
      "  2.3880e-01  1.3399e-01 -7.9315e-02  7.0582e-01  3.9968e-01  6.7779e-01\n",
      " -2.0474e-03  1.9785e-02 -4.2059e-01 -5.3858e-01 -5.2155e-02  1.7252e-01\n",
      "  2.7547e-01 -4.4482e-01  2.3595e-01 -2.3445e-01  3.0103e-01 -5.5096e-01\n",
      " -3.1159e-02 -3.4433e-01  1.2386e+00  1.0317e+00 -2.2728e-01 -9.5207e-03\n",
      " -2.5432e-01 -2.9792e-01  2.5934e-01 -1.0421e-01 -3.3876e-01  4.2470e-01\n",
      "  5.8335e-04  1.3093e-01  2.8786e-01  2.3474e-01  2.5905e-02 -6.4359e-01\n",
      "  6.1330e-02  6.3842e-01  1.4705e-01 -6.1594e-01  2.5097e-01 -4.4872e-01\n",
      "  8.6825e-01  9.9555e-02 -4.4734e-02 -7.4239e-01 -5.9147e-01 -5.4929e-01\n",
      "  3.8108e-01  5.5177e-02 -1.0487e-01 -1.2838e-01  6.0521e-03  2.8743e-01\n",
      "  2.1592e-01  7.2871e-02 -3.1644e-01 -4.3321e-01  1.8682e-01  6.7274e-02\n",
      "  2.8115e-01 -4.6222e-02 -9.6803e-02  5.6091e-01 -6.7762e-01 -1.6645e-01\n",
      "  1.5553e-01  5.2301e-01 -3.0058e-01 -3.7291e-01  8.7895e-02 -1.7963e-01\n",
      " -4.4193e-01 -4.4607e-01 -2.4122e+00  3.3738e-01  6.2416e-01  4.2787e-01\n",
      " -2.5386e-01 -6.1683e-01 -7.0097e-01  4.9303e-01  3.6916e-01 -9.7499e-02\n",
      "  6.1411e-01 -4.7572e-03  4.3916e-01 -2.1551e-01 -5.6745e-01 -4.0278e-01\n",
      "  2.9459e-01 -3.0850e-01  1.0103e-01  7.9741e-02 -6.3811e-01  2.4781e-01\n",
      " -4.4546e-01  1.0828e-01 -2.3624e-01 -5.0838e-01 -1.7001e-01 -7.8735e-01\n",
      "  3.4073e-01 -3.1830e-01  4.5286e-01 -9.5118e-02  2.0772e-01 -8.0183e-02\n",
      " -3.7982e-01 -4.9949e-01  4.0759e-02 -3.7724e-01 -8.9705e-02 -6.8187e-01\n",
      "  2.2106e-01 -3.9931e-01  3.2329e-01 -3.6180e-01 -7.2093e-01 -6.3404e-01\n",
      "  4.3125e-01 -4.9743e-01 -1.7395e-01 -3.8779e-01 -3.2556e-01  1.4423e-01\n",
      " -8.3401e-02 -2.2994e-01  2.7793e-01  4.9112e-01  6.4511e-01 -7.8945e-02\n",
      "  1.1171e-01  3.7264e-01  1.3070e-01 -6.1607e-02 -4.3501e-01  2.8999e-02\n",
      "  5.6224e-01  5.8012e-02  4.7078e-02  4.2770e-01  7.3245e-01 -2.1150e-02\n",
      "  1.1988e-01  7.8823e-02 -1.9106e-01  3.5278e-02 -3.1102e-01  1.3209e-01\n",
      " -2.8606e-01 -1.5649e-01 -6.4339e-01  4.4599e-01 -3.0912e-01  4.4520e-01\n",
      " -3.6774e-01  2.7327e-01  6.7833e-01 -8.3830e-02 -4.5120e-01  1.0754e-01\n",
      " -4.5908e-01  1.5095e-01 -4.5856e-01  3.4465e-01  7.8013e-02 -2.8319e-01\n",
      " -2.8149e-02  2.4404e-01 -7.1345e-01  5.2834e-02 -2.8085e-01  2.5344e-02\n",
      "  4.2979e-02  1.5663e-01 -7.4647e-01 -1.1301e+00  4.4135e-01  3.1444e-01\n",
      " -1.0018e-01 -5.3526e-01 -9.0601e-01 -6.4954e-01  4.2664e-02 -7.9927e-02\n",
      "  3.2905e-01 -3.0797e-01 -1.9190e-02  4.2765e-01  3.1460e-01  2.9051e-01\n",
      " -2.7386e-01  6.8483e-01  1.9395e-02 -3.2884e-01 -4.8239e-01 -1.5747e-01\n",
      " -1.6036e-01  4.9164e-01 -7.0352e-01 -3.5591e-01 -7.4887e-01 -5.2827e-01\n",
      "  4.4983e-02  5.9247e-02  4.6224e-01  8.9697e-02 -7.5618e-01  6.3682e-01\n",
      "  9.0680e-02  6.8830e-02  1.8296e-01  1.0754e-01  6.7811e-01 -1.4716e-01\n",
      "  1.7029e-01 -5.2630e-01  1.9268e-01  9.3130e-01  8.0363e-01  6.1324e-01\n",
      " -3.0494e-01  2.0236e-01  5.8520e-01  2.6484e-01 -4.5863e-01  2.1035e-03\n",
      " -5.6990e-01 -4.9092e-01  4.2511e-01 -1.0954e+00  1.7124e-01  2.2495e-01]\n"
     ]
    }
   ],
   "source": [
    "print(nlp.vocab['cheese'].vector)"
   ]
  },
  {
   "cell_type": "markdown",
   "metadata": {},
   "source": [
    "We create a helper function that returns the word vector from spaCy's vocabulary, given a string"
   ]
  },
  {
   "cell_type": "code",
   "execution_count": 37,
   "metadata": {},
   "outputs": [],
   "source": [
    "def vec(s):\n",
    "    return nlp.vocab[s].vector"
   ]
  },
  {
   "cell_type": "markdown",
   "metadata": {},
   "source": [
    "**Cosine Similarity**\n",
    "\n",
    "The cosine similarity is a metric used for determining how similar two vectors are, and is well-suited for high-dimensional spaces. "
   ]
  },
  {
   "cell_type": "code",
   "execution_count": 38,
   "metadata": {},
   "outputs": [],
   "source": [
    "def cosine(vec1, vec2):\n",
    "    if np.linalg.norm(vec1)>0 and np.linalg.norm(vec2)>0:\n",
    "        return np.dot(vec1,vec2) / (np.linalg.norm(vec1)*np.linalg.norm(vec2))\n",
    "    else:\n",
    "        return 0.0"
   ]
  },
  {
   "cell_type": "markdown",
   "metadata": {},
   "source": [
    "As a sanity check, the word \"dog\" should be more similar to \"puppy\" than \"dog\" is to \"octopus\":"
   ]
  },
  {
   "cell_type": "code",
   "execution_count": 39,
   "metadata": {},
   "outputs": [
    {
     "data": {
      "text/plain": [
       "True"
      ]
     },
     "execution_count": 39,
     "metadata": {},
     "output_type": "execute_result"
    }
   ],
   "source": [
    "cosine(vec(\"dog\"), vec(\"puppy\")) > cosine(vec(\"dog\"),vec(\"octopus\"))"
   ]
  },
  {
   "cell_type": "markdown",
   "metadata": {},
   "source": [
    "Now, we create a function that iterates through a list of tokens, and returns the token whose vector is most similar to a given vector:"
   ]
  },
  {
   "cell_type": "code",
   "execution_count": 40,
   "metadata": {},
   "outputs": [],
   "source": [
    "def spacy_closest( token_list, vec_to_check, n=10 ):\n",
    "    return sorted(token_list, key=lambda x: cosine(vec_to_check,vec(x)),reverse=True)[:n]"
   ]
  },
  {
   "cell_type": "markdown",
   "metadata": {},
   "source": [
    "We can use this function to get a list of synonyms, or the n closest words in meaning to our target word:"
   ]
  },
  {
   "cell_type": "code",
   "execution_count": 41,
   "metadata": {},
   "outputs": [
    {
     "data": {
      "text/plain": [
       "['coach',\n",
       " 'guard',\n",
       " 'Court',\n",
       " 'streak',\n",
       " 'bench',\n",
       " 'beat',\n",
       " 'history',\n",
       " 'men',\n",
       " 'jump',\n",
       " 'national']"
      ]
     },
     "execution_count": 41,
     "metadata": {},
     "output_type": "execute_result"
    }
   ],
   "source": [
    "spacy_closest(tokens, vec(\"basketball\"))"
   ]
  },
  {
   "cell_type": "markdown",
   "metadata": {},
   "source": [
    "Now we can have some fun with word vectors. What is the word that is closest to the halfway point between day and night (which is found in dracula)?"
   ]
  },
  {
   "cell_type": "code",
   "execution_count": 42,
   "metadata": {},
   "outputs": [
    {
     "data": {
      "text/plain": [
       "['night',\n",
       " 'day',\n",
       " 'Day',\n",
       " 'evening',\n",
       " 'morning',\n",
       " 'afternoon',\n",
       " 'last',\n",
       " 'days',\n",
       " 'hour',\n",
       " 'time']"
      ]
     },
     "execution_count": 42,
     "metadata": {},
     "output_type": "execute_result"
    }
   ],
   "source": [
    "spacy_closest(tokens, meanv([vec(\"day\"),vec(\"night\")]))"
   ]
  },
  {
   "cell_type": "markdown",
   "metadata": {},
   "source": [
    "Here are the closest words in Dracula to the word wine:"
   ]
  },
  {
   "cell_type": "code",
   "execution_count": 43,
   "metadata": {},
   "outputs": [
    {
     "data": {
      "text/plain": [
       "['wine',\n",
       " 'bottle',\n",
       " 'drink',\n",
       " 'fruit',\n",
       " 'brandy',\n",
       " 'coffee',\n",
       " 'cheese',\n",
       " 'dinner',\n",
       " 'sparkling',\n",
       " 'glass']"
      ]
     },
     "execution_count": 43,
     "metadata": {},
     "output_type": "execute_result"
    }
   ],
   "source": [
    "spacy_closest(tokens, vec(\"wine\"))"
   ]
  },
  {
   "cell_type": "markdown",
   "metadata": {},
   "source": [
    "What would happen if we subtract alcohol from wine and find those closest words?"
   ]
  },
  {
   "cell_type": "code",
   "execution_count": 44,
   "metadata": {},
   "outputs": [
    {
     "data": {
      "text/plain": [
       "['wine',\n",
       " 'fabulous',\n",
       " 'splendid',\n",
       " 'magnificent',\n",
       " 'dinner',\n",
       " 'sparkling',\n",
       " 'dining',\n",
       " 'charming',\n",
       " 'salad',\n",
       " 'farmhouse']"
      ]
     },
     "execution_count": 44,
     "metadata": {},
     "output_type": "execute_result"
    }
   ],
   "source": [
    "spacy_closest(tokens, vec(\"wine\")-vec(\"alcohol\"))"
   ]
  },
  {
   "cell_type": "markdown",
   "metadata": {},
   "source": [
    "What about the words closest to water?"
   ]
  },
  {
   "cell_type": "code",
   "execution_count": 45,
   "metadata": {},
   "outputs": [
    {
     "data": {
      "text/plain": [
       "['water',\n",
       " 'waters',\n",
       " 'pond',\n",
       " 'sea',\n",
       " 'lake',\n",
       " 'cold',\n",
       " 'river',\n",
       " 'air',\n",
       " 'rivers',\n",
       " 'clean']"
      ]
     },
     "execution_count": 45,
     "metadata": {},
     "output_type": "execute_result"
    }
   ],
   "source": [
    "spacy_closest(tokens, vec(\"Water\"))"
   ]
  },
  {
   "cell_type": "markdown",
   "metadata": {},
   "source": [
    "If you add frozen to water, you should get ice:"
   ]
  },
  {
   "cell_type": "code",
   "execution_count": 46,
   "metadata": {},
   "outputs": [
    {
     "data": {
      "text/plain": [
       "['water',\n",
       " 'cold',\n",
       " 'ice',\n",
       " 'fresh',\n",
       " 'dried',\n",
       " 'waters',\n",
       " 'pond',\n",
       " 'sea',\n",
       " 'ground',\n",
       " 'lake']"
      ]
     },
     "execution_count": 46,
     "metadata": {},
     "output_type": "execute_result"
    }
   ],
   "source": [
    "spacy_closest(tokens, vec(\"water\")+vec(\"frozen\"))"
   ]
  },
  {
   "cell_type": "markdown",
   "metadata": {},
   "source": [
    "We can do analogies by finding the words closest to the difference vector between two concepts:\n",
    "\n",
    "sky is to blue and grass is to __"
   ]
  },
  {
   "cell_type": "code",
   "execution_count": 47,
   "metadata": {},
   "outputs": [
    {
     "data": {
      "text/plain": [
       "['grass',\n",
       " 'green',\n",
       " 'red',\n",
       " 'Red',\n",
       " 'purple',\n",
       " 'pink',\n",
       " 'Blue',\n",
       " 'blue',\n",
       " 'orange',\n",
       " 'brown']"
      ]
     },
     "execution_count": 47,
     "metadata": {},
     "output_type": "execute_result"
    }
   ],
   "source": [
    "blue_to_sky = vec(\"blue\") - vec(\"sky\")\n",
    "spacy_closest(tokens, blue_to_sky + vec(\"grass\"))"
   ]
  },
  {
   "cell_type": "markdown",
   "metadata": {},
   "source": [
    "**Sentence Similarity**\n",
    "\n",
    "Now we can get the vector for a sentence by performing some component-wise aggregation over the word vectors for the words in the sentence:"
   ]
  },
  {
   "cell_type": "code",
   "execution_count": 48,
   "metadata": {},
   "outputs": [],
   "source": [
    "def sentvec( sentence ):\n",
    "    sentence = nlp(sentence)\n",
    "    return np.mean([word.vector for word in sentence],axis=0)"
   ]
  },
  {
   "cell_type": "markdown",
   "metadata": {},
   "source": [
    "Use spaCy to get a list of sentences:"
   ]
  },
  {
   "cell_type": "code",
   "execution_count": 49,
   "metadata": {},
   "outputs": [],
   "source": [
    "sentences = list(text.sents)"
   ]
  },
  {
   "cell_type": "code",
   "execution_count": 50,
   "metadata": {},
   "outputs": [
    {
     "name": "stdout",
     "output_type": "stream",
     "text": [
      "(384,)\n"
     ]
    }
   ],
   "source": [
    "first_sentence = sentences[0]\n",
    "print(np.mean([word.vector for word in first_sentence],axis=0).shape)"
   ]
  },
  {
   "cell_type": "markdown",
   "metadata": {},
   "source": [
    "Use spaCy to find closest sentence:"
   ]
  },
  {
   "cell_type": "code",
   "execution_count": 51,
   "metadata": {},
   "outputs": [],
   "source": [
    "def spacy_closest_sent( sentences, target_sentence, n=10 ):\n",
    "    input_vec = sentvec(target_sentence)\n",
    "    print(len(input_vec))\n",
    "    return sorted(sentences, key=lambda sentence:cosine(np.mean([word.vector for word in sentence],axis=0), \\\n",
    "                        target_sentence), reverse=True)[:n]"
   ]
  },
  {
   "cell_type": "code",
   "execution_count": 52,
   "metadata": {},
   "outputs": [
    {
     "name": "stdout",
     "output_type": "stream",
     "text": [
      "300\n"
     ]
    },
    {
     "ename": "ValueError",
     "evalue": "could not convert string to float: 'My favorite food is strawberry ice cream.'",
     "output_type": "error",
     "traceback": [
      "\u001b[0;31m---------------------------------------------------------------------------\u001b[0m",
      "\u001b[0;31mValueError\u001b[0m                                Traceback (most recent call last)",
      "\u001b[0;32m<ipython-input-52-9647db53b042>\u001b[0m in \u001b[0;36m<module>\u001b[0;34m\u001b[0m\n\u001b[0;32m----> 1\u001b[0;31m \u001b[0;32mfor\u001b[0m \u001b[0msent\u001b[0m \u001b[0;32min\u001b[0m \u001b[0mspacy_closest_sent\u001b[0m\u001b[0;34m(\u001b[0m\u001b[0msentences\u001b[0m\u001b[0;34m,\u001b[0m\u001b[0;34m\"My favorite food is strawberry ice cream.\"\u001b[0m\u001b[0;34m)\u001b[0m\u001b[0;34m:\u001b[0m\u001b[0;34m\u001b[0m\u001b[0m\n\u001b[0m\u001b[1;32m      2\u001b[0m     \u001b[0mprint\u001b[0m\u001b[0;34m(\u001b[0m\u001b[0msent\u001b[0m\u001b[0;34m.\u001b[0m\u001b[0mtext\u001b[0m\u001b[0;34m)\u001b[0m\u001b[0;34m\u001b[0m\u001b[0m\n\u001b[1;32m      3\u001b[0m     \u001b[0mprint\u001b[0m\u001b[0;34m(\u001b[0m\u001b[0;34m\"---\"\u001b[0m\u001b[0;34m)\u001b[0m\u001b[0;34m\u001b[0m\u001b[0m\n",
      "\u001b[0;32m<ipython-input-51-03502a32ab3c>\u001b[0m in \u001b[0;36mspacy_closest_sent\u001b[0;34m(sentences, target_sentence, n)\u001b[0m\n\u001b[1;32m      3\u001b[0m     \u001b[0mprint\u001b[0m\u001b[0;34m(\u001b[0m\u001b[0mlen\u001b[0m\u001b[0;34m(\u001b[0m\u001b[0minput_vec\u001b[0m\u001b[0;34m)\u001b[0m\u001b[0;34m)\u001b[0m\u001b[0;34m\u001b[0m\u001b[0m\n\u001b[1;32m      4\u001b[0m     return sorted(sentences, key=lambda sentence:cosine(np.mean([word.vector for word in sentence],axis=0), \\\n\u001b[0;32m----> 5\u001b[0;31m                         target_sentence), reverse=True)[:n]\n\u001b[0m",
      "\u001b[0;32m<ipython-input-51-03502a32ab3c>\u001b[0m in \u001b[0;36m<lambda>\u001b[0;34m(sentence)\u001b[0m\n\u001b[1;32m      3\u001b[0m     \u001b[0mprint\u001b[0m\u001b[0;34m(\u001b[0m\u001b[0mlen\u001b[0m\u001b[0;34m(\u001b[0m\u001b[0minput_vec\u001b[0m\u001b[0;34m)\u001b[0m\u001b[0;34m)\u001b[0m\u001b[0;34m\u001b[0m\u001b[0m\n\u001b[1;32m      4\u001b[0m     return sorted(sentences, key=lambda sentence:cosine(np.mean([word.vector for word in sentence],axis=0), \\\n\u001b[0;32m----> 5\u001b[0;31m                         target_sentence), reverse=True)[:n]\n\u001b[0m",
      "\u001b[0;32m<ipython-input-38-f243f6313ffe>\u001b[0m in \u001b[0;36mcosine\u001b[0;34m(vec1, vec2)\u001b[0m\n\u001b[1;32m      1\u001b[0m \u001b[0;32mdef\u001b[0m \u001b[0mcosine\u001b[0m\u001b[0;34m(\u001b[0m\u001b[0mvec1\u001b[0m\u001b[0;34m,\u001b[0m \u001b[0mvec2\u001b[0m\u001b[0;34m)\u001b[0m\u001b[0;34m:\u001b[0m\u001b[0;34m\u001b[0m\u001b[0m\n\u001b[0;32m----> 2\u001b[0;31m     \u001b[0;32mif\u001b[0m \u001b[0mnp\u001b[0m\u001b[0;34m.\u001b[0m\u001b[0mlinalg\u001b[0m\u001b[0;34m.\u001b[0m\u001b[0mnorm\u001b[0m\u001b[0;34m(\u001b[0m\u001b[0mvec1\u001b[0m\u001b[0;34m)\u001b[0m\u001b[0;34m>\u001b[0m\u001b[0;36m0\u001b[0m \u001b[0;32mand\u001b[0m \u001b[0mnp\u001b[0m\u001b[0;34m.\u001b[0m\u001b[0mlinalg\u001b[0m\u001b[0;34m.\u001b[0m\u001b[0mnorm\u001b[0m\u001b[0;34m(\u001b[0m\u001b[0mvec2\u001b[0m\u001b[0;34m)\u001b[0m\u001b[0;34m>\u001b[0m\u001b[0;36m0\u001b[0m\u001b[0;34m:\u001b[0m\u001b[0;34m\u001b[0m\u001b[0m\n\u001b[0m\u001b[1;32m      3\u001b[0m         \u001b[0;32mreturn\u001b[0m \u001b[0mnp\u001b[0m\u001b[0;34m.\u001b[0m\u001b[0mdot\u001b[0m\u001b[0;34m(\u001b[0m\u001b[0mvec1\u001b[0m\u001b[0;34m,\u001b[0m\u001b[0mvec2\u001b[0m\u001b[0;34m)\u001b[0m \u001b[0;34m/\u001b[0m \u001b[0;34m(\u001b[0m\u001b[0mnp\u001b[0m\u001b[0;34m.\u001b[0m\u001b[0mlinalg\u001b[0m\u001b[0;34m.\u001b[0m\u001b[0mnorm\u001b[0m\u001b[0;34m(\u001b[0m\u001b[0mvec1\u001b[0m\u001b[0;34m)\u001b[0m\u001b[0;34m*\u001b[0m\u001b[0mnp\u001b[0m\u001b[0;34m.\u001b[0m\u001b[0mlinalg\u001b[0m\u001b[0;34m.\u001b[0m\u001b[0mnorm\u001b[0m\u001b[0;34m(\u001b[0m\u001b[0mvec2\u001b[0m\u001b[0;34m)\u001b[0m\u001b[0;34m)\u001b[0m\u001b[0;34m\u001b[0m\u001b[0m\n\u001b[1;32m      4\u001b[0m     \u001b[0;32melse\u001b[0m\u001b[0;34m:\u001b[0m\u001b[0;34m\u001b[0m\u001b[0m\n\u001b[1;32m      5\u001b[0m         \u001b[0;32mreturn\u001b[0m \u001b[0;36m0.0\u001b[0m\u001b[0;34m\u001b[0m\u001b[0m\n",
      "\u001b[0;32m~/.local/lib/python3.6/site-packages/numpy/linalg/linalg.py\u001b[0m in \u001b[0;36mnorm\u001b[0;34m(x, ord, axis, keepdims)\u001b[0m\n\u001b[1;32m   2435\u001b[0m \u001b[0;34m\u001b[0m\u001b[0m\n\u001b[1;32m   2436\u001b[0m     \u001b[0;32mif\u001b[0m \u001b[0;32mnot\u001b[0m \u001b[0missubclass\u001b[0m\u001b[0;34m(\u001b[0m\u001b[0mx\u001b[0m\u001b[0;34m.\u001b[0m\u001b[0mdtype\u001b[0m\u001b[0;34m.\u001b[0m\u001b[0mtype\u001b[0m\u001b[0;34m,\u001b[0m \u001b[0;34m(\u001b[0m\u001b[0minexact\u001b[0m\u001b[0;34m,\u001b[0m \u001b[0mobject_\u001b[0m\u001b[0;34m)\u001b[0m\u001b[0;34m)\u001b[0m\u001b[0;34m:\u001b[0m\u001b[0;34m\u001b[0m\u001b[0m\n\u001b[0;32m-> 2437\u001b[0;31m         \u001b[0mx\u001b[0m \u001b[0;34m=\u001b[0m \u001b[0mx\u001b[0m\u001b[0;34m.\u001b[0m\u001b[0mastype\u001b[0m\u001b[0;34m(\u001b[0m\u001b[0mfloat\u001b[0m\u001b[0;34m)\u001b[0m\u001b[0;34m\u001b[0m\u001b[0m\n\u001b[0m\u001b[1;32m   2438\u001b[0m \u001b[0;34m\u001b[0m\u001b[0m\n\u001b[1;32m   2439\u001b[0m     \u001b[0;31m# Immediately handle some default, simple, fast, and common cases.\u001b[0m\u001b[0;34m\u001b[0m\u001b[0;34m\u001b[0m\u001b[0m\n",
      "\u001b[0;31mValueError\u001b[0m: could not convert string to float: 'My favorite food is strawberry ice cream.'"
     ]
    }
   ],
   "source": [
    "for sent in spacy_closest_sent(sentences,\"My favorite food is strawberry ice cream.\"):\n",
    "    print(sent.text)\n",
    "    print(\"---\")"
   ]
  },
  {
   "cell_type": "markdown",
   "metadata": {},
   "source": [
    "**Further Resources**\n",
    "\n",
    "**Word2Vec** is another procedure for producing word vectors, which uses a predictive approach rather than a context-counting approach. \n",
    "\n",
    "If you want to train your own word vectors on a particular corpus, the python library **gensim** is a popular one that has an implementation of **Word2Vec**.\n",
    "\n",
    "When you're working with high dimensional vector spaces, iterating through the entire space can cause too many cosine similarities to be calculated, so use the **Annoy** package to make those calculations faster"
   ]
  },
  {
   "cell_type": "code",
   "execution_count": null,
   "metadata": {},
   "outputs": [],
   "source": []
  }
 ],
 "metadata": {
  "hide_input": false,
  "kernelspec": {
   "display_name": "base",
   "language": "python",
   "name": "base"
  },
  "language_info": {
   "codemirror_mode": {
    "name": "ipython",
    "version": 3
   },
   "file_extension": ".py",
   "mimetype": "text/x-python",
   "name": "python",
   "nbconvert_exporter": "python",
   "pygments_lexer": "ipython3",
   "version": "3.6.2"
  },
  "toc": {
   "base_numbering": 1,
   "nav_menu": {},
   "number_sections": true,
   "sideBar": true,
   "skip_h1_title": false,
   "title_cell": "Table of Contents",
   "title_sidebar": "Contents",
   "toc_cell": false,
   "toc_position": {},
   "toc_section_display": true,
   "toc_window_display": true
  },
  "varInspector": {
   "cols": {
    "lenName": 16,
    "lenType": 16,
    "lenVar": 40
   },
   "kernels_config": {
    "python": {
     "delete_cmd_postfix": "",
     "delete_cmd_prefix": "del ",
     "library": "var_list.py",
     "varRefreshCmd": "print(var_dic_list())"
    },
    "r": {
     "delete_cmd_postfix": ") ",
     "delete_cmd_prefix": "rm(",
     "library": "var_list.r",
     "varRefreshCmd": "cat(var_dic_list()) "
    }
   },
   "types_to_exclude": [
    "module",
    "function",
    "builtin_function_or_method",
    "instance",
    "_Feature"
   ],
   "window_display": false
  }
 },
 "nbformat": 4,
 "nbformat_minor": 2
}
