{
 "cells": [
  {
   "cell_type": "markdown",
   "metadata": {},
   "source": [
    "# One Hot Representation\n",
    "***\n",
    "A one hot representation of some corpus of text is basically a count based representation of the presence of certain words in a given corpus of text. Each word in your corpus gets a unit basis vector in this representation. The full representation of a given corpus of text is then the linear combination of the basis vectors, multiplied by the count of occurrence of each word.\n",
    "\n",
    "This representation just checks for existence and doesn't retain information about the counts."
   ]
  },
  {
   "cell_type": "code",
   "execution_count": 6,
   "metadata": {},
   "outputs": [],
   "source": [
    "from sklearn.feature_extraction.text import CountVectorizer\n",
    "import seaborn as sns\n",
    "import matplotlib.pyplot as plt\n",
    "%matplotlib inline"
   ]
  },
  {
   "cell_type": "code",
   "execution_count": 20,
   "metadata": {},
   "outputs": [
    {
     "name": "stdout",
     "output_type": "stream",
     "text": [
      "One-hot representation:\n"
     ]
    },
    {
     "data": {
      "image/png": "[encoded data removed]",
      "text/plain": [
       "<Figure size 432x288 with 1 Axes>"
      ]
     },
     "metadata": {
      "needs_background": "light"
     },
     "output_type": "display_data"
    }
   ],
   "source": [
    "text = [\"Time flies flies like an arrow.\",\"Fruit flies like a banana.\"]\n",
    "one_hot_vectorizer = CountVectorizer(binary=True) # binary=True makes it one-hot instead of TF\n",
    "one_hot = one_hot_vectorizer.fit_transform(text).toarray() # fit_transform yields just a sparse matrix\n",
    "print(\"One-hot representation:\")\n",
    "sns.heatmap(one_hot, annot=True, cbar=False, xticklabels=one_hot_vectorizer.get_feature_names(),\\\n",
    "           yticklabels=['Sentence 1','Sentence 2'])\n",
    "plt.show()"
   ]
  },
  {
   "cell_type": "markdown",
   "metadata": {},
   "source": [
    "# Term Frequency (TF) Representation\n",
    "***\n",
    "The TF representation of a corpus of text is the vector sum of the one hot representations of its constituent words."
   ]
  },
  {
   "cell_type": "code",
   "execution_count": 19,
   "metadata": {},
   "outputs": [
    {
     "name": "stdout",
     "output_type": "stream",
     "text": [
      "Term-Frequency representation:\n"
     ]
    },
    {
     "data": {
      "image/png": "[encoded data removed]",
      "text/plain": [
       "<Figure size 432x288 with 1 Axes>"
      ]
     },
     "metadata": {
      "needs_background": "light"
     },
     "output_type": "display_data"
    }
   ],
   "source": [
    "text = [\"Time flies flies like an arrow.\",\"Fruit flies like a banana.\"]\n",
    "one_hot_vectorizer = CountVectorizer()\n",
    "one_hot = one_hot_vectorizer.fit_transform(text).toarray() # fit_transform yields just a sparse matrix\n",
    "print(\"Term-Frequency representation:\")\n",
    "sns.heatmap(one_hot, annot=True, cbar=False, xticklabels=one_hot_vectorizer.get_feature_names(),\\\n",
    "           yticklabels=['Sentence 1','Sentence 2'])\n",
    "plt.show()"
   ]
  },
  {
   "cell_type": "markdown",
   "metadata": {},
   "source": [
    "# TF-IDF Representation\n",
    "***\n",
    "The Term-Frequency representation is proportional to the frequency of the words encountered in a corpus. However, we might want to penalize the importance of certain words if they occur in multiple documents, as this means that particular word has no resolving power in terms of differentiating between documents.\n",
    "\n",
    "The IDF of a particular token (word) is given by:\n",
    "$$\\textrm{IDF}(w)=\\log\\left(\\frac{N}{n_w}\\right)$$\n",
    "\n",
    "Where $N$ is the total number of documents, and $n_w$ is the number of documents in which the token $w$ appears. \n",
    "\n",
    "The final representation for a given token in a set of documents is the product of the $\\textrm{TF}(w)$ and the $\\textrm{IDF}(w)$. \n",
    "\n",
    "If there is a maximally common word ($n_w=N$), then the IDF evaluates to 0 because the $\\log$ of 1 is 0. \n",
    "\n",
    "This is the maximum penalty for a given word. "
   ]
  },
  {
   "cell_type": "code",
   "execution_count": 18,
   "metadata": {},
   "outputs": [
    {
     "name": "stdout",
     "output_type": "stream",
     "text": [
      "Term-Frequency Inverse Document Frequency representation:\n"
     ]
    },
    {
     "data": {
      "image/png": "[encoded data removed]",
      "text/plain": [
       "<Figure size 432x288 with 1 Axes>"
      ]
     },
     "metadata": {
      "needs_background": "light"
     },
     "output_type": "display_data"
    }
   ],
   "source": [
    "from sklearn.feature_extraction.text import TfidfVectorizer\n",
    "import seaborn as sns\n",
    "\n",
    "tfidf_vectorizer = TfidfVectorizer()\n",
    "tfidf = tfidf_vectorizer.fit_transform( text ).toarray()\n",
    "print(\"Term-Frequency Inverse Document Frequency representation:\")\n",
    "sns.heatmap( tfidf, annot=True, cbar=False, xticklabels=one_hot_vectorizer.get_feature_names(),\\\n",
    "           yticklabels = ['Sentence 1','Sentence 2'])\n",
    "plt.show()"
   ]
  },
  {
   "cell_type": "markdown",
   "metadata": {},
   "source": [
    "# Tokenization\n",
    "***\n",
    "Tokenization is the process of breaking text down into tokens. For example, tokenizing tweets is a non-trivial process since we need to preserve hashtags, @handles and emojis, etc. \n",
    "\n",
    "Two common packages used for tokenizing text are `nltk` and `spacy`."
   ]
  },
  {
   "cell_type": "code",
   "execution_count": 22,
   "metadata": {},
   "outputs": [
    {
     "name": "stdout",
     "output_type": "stream",
     "text": [
      "['mary', ',', 'do', \"n't\", 'slap', 'the', 'green', 'witch']\n"
     ]
    }
   ],
   "source": [
    "import spacy\n",
    "nlp = spacy.load(\"en_core_web_sm\")\n",
    "text = \"Mary, don't slap the green witch\"\n",
    "print( [str(token) for token in nlp(text.lower())] )"
   ]
  },
  {
   "cell_type": "code",
   "execution_count": 23,
   "metadata": {},
   "outputs": [
    {
     "name": "stdout",
     "output_type": "stream",
     "text": [
      "['snow', 'white', 'and', 'the', 'seven', 'degrees', '#makeamoviecold', '@midnight', ':-)']\n"
     ]
    }
   ],
   "source": [
    "from nltk.tokenize import TweetTokenizer\n",
    "tweet = u\"Snow White and the Seven Degrees #MakeAMovieCold@midnight:-)\"\n",
    "tokenizer = TweetTokenizer()\n",
    "print(tokenizer.tokenize(tweet.lower()))"
   ]
  },
  {
   "cell_type": "markdown",
   "metadata": {},
   "source": [
    "# N-Grams\n",
    "***\n",
    "A N-gram is a fixed length sequence of consecutive tokens. So all bigrams are the set of pairs of consecutive words."
   ]
  },
  {
   "cell_type": "code",
   "execution_count": 24,
   "metadata": {},
   "outputs": [],
   "source": [
    "def n_grams( text, n ):\n",
    "    return [text[i:i+n] for i in range(len(text) - n+1)]"
   ]
  },
  {
   "cell_type": "code",
   "execution_count": 26,
   "metadata": {},
   "outputs": [
    {
     "name": "stdout",
     "output_type": "stream",
     "text": [
      "[['mary', ',', \"n't\"], [',', \"n't\", 'slap'], [\"n't\", 'slap', 'green'], ['slap', 'green', 'witch'], ['green', 'witch', '.']]\n"
     ]
    }
   ],
   "source": [
    "tokens = ['mary', ',', \"n't\", 'slap','green','witch','.']\n",
    "print(n_grams(tokens,3))"
   ]
  },
  {
   "cell_type": "markdown",
   "metadata": {},
   "source": [
    "# Lemmatization\n",
    "***\n",
    "Lemmas are the root forms of words. If you consider the inflections of fly - flow,flew,flies, flown, and flowing, one understands that the lemma for these words is fly. \n",
    "\n",
    "Lemmatization is used to reduce tokens to their lemmas to reduce the dimensionality of the vector representation.\n",
    "\n",
    "Stemming is just the poor-mans lemmatization. Stemming involves using handcrafted rules to strip the endings of words to reduce them to the common form called stems. "
   ]
  },
  {
   "cell_type": "code",
   "execution_count": 27,
   "metadata": {},
   "outputs": [
    {
     "name": "stdout",
     "output_type": "stream",
     "text": [
      "he --> -PRON-\n",
      "was --> be\n",
      "running --> run\n",
      "late --> late\n"
     ]
    }
   ],
   "source": [
    "doc = nlp(u\"he was running late\")\n",
    "for token in doc:\n",
    "    print(\"{} --> {}\".format(token,token.lemma_))"
   ]
  },
  {
   "cell_type": "markdown",
   "metadata": {},
   "source": [
    "# Parts of Speech Tagging\n",
    "***\n",
    "Tag each token with its corresponding part of speech. "
   ]
  },
  {
   "cell_type": "code",
   "execution_count": 29,
   "metadata": {},
   "outputs": [
    {
     "name": "stdout",
     "output_type": "stream",
     "text": [
      "Mary --> PROPN\n",
      "slapped --> VERB\n",
      "the --> DET\n",
      "green --> ADJ\n",
      "witch --> NOUN\n"
     ]
    }
   ],
   "source": [
    "doc = nlp(u\"Mary slapped the green witch\")\n",
    "for token in doc:\n",
    "    print(\"{} --> {}\".format(token,token.pos_))"
   ]
  },
  {
   "cell_type": "markdown",
   "metadata": {},
   "source": [
    "# Chunking and Named Entity Recognition\n",
    "***\n",
    "We can perform chunking (a.k.a shallow parsing) in order to create contiguous multitoken boundaries and work with higher order units composed of grammatical atoms. \n",
    "\n",
    "Here is an example of Noun Phrases"
   ]
  },
  {
   "cell_type": "code",
   "execution_count": 30,
   "metadata": {},
   "outputs": [
    {
     "name": "stdout",
     "output_type": "stream",
     "text": [
      "Mary - NP\n",
      "the green witch - NP\n"
     ]
    }
   ],
   "source": [
    "for chunk in doc.noun_chunks:\n",
    "    print(\"{} - {}\".format(chunk, chunk.label_))"
   ]
  }
 ],
 "metadata": {
  "hide_input": false,
  "kernelspec": {
   "display_name": "base",
   "language": "python",
   "name": "base"
  },
  "language_info": {
   "codemirror_mode": {
    "name": "ipython",
    "version": 3
   },
   "file_extension": ".py",
   "mimetype": "text/x-python",
   "name": "python",
   "nbconvert_exporter": "python",
   "pygments_lexer": "ipython3",
   "version": "3.6.2"
  },
  "toc": {
   "base_numbering": 1,
   "nav_menu": {},
   "number_sections": true,
   "sideBar": true,
   "skip_h1_title": false,
   "title_cell": "Table of Contents",
   "title_sidebar": "Contents",
   "toc_cell": false,
   "toc_position": {},
   "toc_section_display": true,
   "toc_window_display": false
  },
  "varInspector": {
   "cols": {
    "lenName": 16,
    "lenType": 16,
    "lenVar": 40
   },
   "kernels_config": {
    "python": {
     "delete_cmd_postfix": "",
     "delete_cmd_prefix": "del ",
     "library": "var_list.py",
     "varRefreshCmd": "print(var_dic_list())"
    },
    "r": {
     "delete_cmd_postfix": ") ",
     "delete_cmd_prefix": "rm(",
     "library": "var_list.r",
     "varRefreshCmd": "cat(var_dic_list()) "
    }
   },
   "types_to_exclude": [
    "module",
    "function",
    "builtin_function_or_method",
    "instance",
    "_Feature"
   ],
   "window_display": false
  }
 },
 "nbformat": 4,
 "nbformat_minor": 2
}
