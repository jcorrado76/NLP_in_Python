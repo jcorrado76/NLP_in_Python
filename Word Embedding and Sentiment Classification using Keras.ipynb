{
 "cells": [
  {
   "cell_type": "markdown",
   "metadata": {},
   "source": [
    "Some Popular Tasks Regarding Text Processing:\n",
    "\n",
    "* **Language Translation** - Translation of a sentence from one language to another\n",
    "* **Sentiment Analysis** - To determine whether the sentiment towards any topic or product is positive, negative or neutral, based on a corpus of text\n",
    "* **Spam Filtering** - To detect unsolicited and unwanted email/messages\n",
    "\n",
    "In this notebook, we'll discuss the steps involved in text processing.\n",
    "\n",
    "# Data Preprocessing\n",
    "***\n",
    "The data preprocessing steps could include:\n",
    "* **Tokenization** - converting sentences to words\n",
    "* Removing unnecessary punctuation and tags\n",
    "* Removing stop words\n",
    "* Stemming - Removing inflection via dropping unnecessary characters (usually a suffix)\n",
    "* Lemmatization - Removing inflection by determining the part of speech and utilized a detailed database of the language\n",
    "\n",
    "Stemming is the poor man's lemmatization\n",
    "\n",
    "```text\n",
    "The stemmed form of studies is: studi\n",
    "The stemmed form of studying is: study\n",
    "\n",
    "The lemmatized form of studies is: study\n",
    "The lemmatized form of studying is: study\n",
    "```\n",
    "\n",
    "We can use the `nltk` library to do a lot of text preprocessing:\n",
    "## Tokenization\n",
    "***"
   ]
  },
  {
   "cell_type": "code",
   "execution_count": 7,
   "metadata": {},
   "outputs": [
    {
     "name": "stdout",
     "output_type": "stream",
     "text": [
      "['The', 'quick', 'brown', 'fox', 'jumps', 'over', 'the', 'lazy', 'dog']\n"
     ]
    }
   ],
   "source": [
    "import nltk\n",
    "from nltk.tokenize import word_tokenize\n",
    "\n",
    "text = \"The quick brown fox jumps over the lazy dog\"\n",
    "tokens = word_tokenize( text )\n",
    "print(tokens)"
   ]
  },
  {
   "cell_type": "markdown",
   "metadata": {},
   "source": [
    "## Removing Stopwords\n",
    "***\n",
    "We can use `nltk` to remove stop words (words containing no semantic value)\n",
    "\n",
    "If you need to download the stopwords for `nltk`, you need to run:\n",
    "```python\n",
    "nltk.download(\"stopwords\")\n",
    "```"
   ]
  },
  {
   "cell_type": "code",
   "execution_count": 8,
   "metadata": {},
   "outputs": [
    {
     "name": "stdout",
     "output_type": "stream",
     "text": [
      "['The', 'quick', 'brown', 'fox', 'jumps', 'lazy', 'dog']\n"
     ]
    }
   ],
   "source": [
    "from nltk.corpus import stopwords\n",
    "\n",
    "stop_words = set(stopwords.words(\"english\"))\n",
    "tokens = [token for token in tokens if token not in stop_words]\n",
    "print(tokens)"
   ]
  },
  {
   "cell_type": "markdown",
   "metadata": {},
   "source": [
    "## Stemming\n",
    "***\n",
    "`nltk` also provides several stemmer interfaces like Porter stemmer, Lancaster stemmer and snowball stemmer:"
   ]
  },
  {
   "cell_type": "code",
   "execution_count": 3,
   "metadata": {},
   "outputs": [
    {
     "name": "stdout",
     "output_type": "stream",
     "text": [
      "['the', 'quick', 'brown', 'fox', 'jump', 'lazi', 'dog']\n"
     ]
    }
   ],
   "source": [
    "from nltk.stem.porter import PorterStemmer\n",
    "stemmer = PorterStemmer()\n",
    "stems = []\n",
    "for token in tokens:\n",
    "    stems.append(stemmer.stem(token))\n",
    "print(stems)"
   ]
  },
  {
   "cell_type": "markdown",
   "metadata": {},
   "source": [
    "# Feature Extraction\n",
    "***\n",
    "In text processing, words represent discrete, categorical features. How do we encode this categorical data in a way that is ready to be used by the algorithms? One of the simples techniques is the **bag of words** featurization.\n",
    "\n",
    "## Bag of Words (BOW)\n",
    "***\n",
    "We make a **list of unique words** in the corpus, called the **vocabulary**. Then each word in the vocabulary gets its own basis vector. Then a sentence, or each document in the corpus is represented by a vector that is equal to the vector sums of the basis vectors for the words appearing in that sentence. \n",
    "\n",
    "This leads us to the **Term Frequency-Inverse Document Frequency (TF-IDF)** technique:\n",
    "\n",
    "## TF-IDF\n",
    "***\n",
    "First, let us clarify what is meant by document. A corpus is made up of many documents. So if your corpus is a set of tweets, each document is a tweet. So we can ask for the word vector of an entire tweet. The word vector of an entire tweet would be some function of the word vectors of its constituent words.\n",
    "\n",
    "$$\\textrm{Term Frequency (TF)} = \\frac{\\textrm{number of times token appears in single document}}{\\textrm{number of tokens in single document}}$$\n",
    "\n",
    "$$\\textrm{Inverse Document Frequency (IDF)} = \\log\\left(\\frac{\\textrm{total number documents}}{\\textrm{number of documents this token appears in}}\\right)$$\n",
    "\n",
    "$$\\textrm{TF-IDF} = (\\textrm{TF})(\\textrm{IDF})$$\n",
    "\n",
    "Here is an example of calculating the TF-IDF of a term in a document:\n",
    "\n",
    "```text\n",
    "tweet_one = \"This is a beautiful beautiful day day day day day\"\n",
    "tweet_two = \"This is a beautiful night night\"\n",
    "```\n",
    "\n",
    "Then we would have that:\n",
    "```text\n",
    "TF(\"beautiful\",tweet_one) = 2/10\n",
    "TF(\"day\", tweet_one) = 5/10\n",
    "IDF(\"beautiful\") = log(2/2) = 0\n",
    "IDF(\"day\") = log(2/1) = 0.3\n",
    "\n",
    "TF_IDF(\"beautiful\", tweet_one) = (2/10)(0)=0\n",
    "TF_IDF(\"day\", tweet_one) = (5/10)(0.30) = 0.15\n",
    "```\n",
    "\n",
    "So we see that for the first tweet, the TF-IDF method heavily penalizes the word \"beautiful\", but assigns greater weight to \"day\". \"beautiful\" gives no power of resolution because it appears in both documents. \"day\" is an important word for `tweet_one` in the context of the entire corpus (it only appears in one of the two tweets). \n",
    "\n",
    "`scikit-learn` provides efficient tools for computing the TF-IDF of a corpus.\n",
    "\n",
    "One of the major disadvantages of using the bag of words featurization is that it discards all information contained in the word order of the vectors. \n",
    "\n",
    "To solve this problem, we use an approach called **Word Embedding**\n",
    "## Word Embedding\n",
    "***\n",
    "A word embedding is a numerical representation of text where words that have similar semantic meaning are geometrically closer in their semantic vector space. \n",
    "\n",
    "### Word2Vec\n",
    "***\n",
    "Word2Vec takes a corpus of text and produces a vector space that has the property that vectors that are geometrically close also share common semantic contexts in the corpus. \n",
    "\n",
    "### Glove\n",
    "***\n",
    "The **Global Vectors for Word Representation** algorithm is an extension to the Word2Vec model. GloVe constructs a co-occurrence matrix on the whole text corpus. The entries of this matrix are the probabilities that a given token appears in the common of every other word in the vocabulary. This assumes the **distributional hypothesis**."
   ]
  },
  {
   "cell_type": "markdown",
   "metadata": {},
   "source": [
    "# Choosing ML Algorithms\n",
    "***\n",
    "Classical ML approaches such as Naive bayes or Support Vector machines for spam filtering are very popular. However, Deep Learning techniques, combined with deep-learned word embeddings are taking the NLP stage by storm."
   ]
  },
  {
   "cell_type": "markdown",
   "metadata": {},
   "source": [
    "# Example IMDB Movie Review Sentiment Analyzer\n",
    "***\n",
    "We will now build a sentiment analyzer over the IMDB movie review dataset. \n",
    "\n",
    "We will be performing binary classification (negative or positive reviews).\n",
    "\n",
    "Our dataset can be downloaded [here](http://ai.stanford.edu/~amaas/data/sentiment/).\n",
    "\n",
    "The dataset contains 25000 training reviews and 25000 testing reviews. \n",
    "\n",
    "## Loading the Data\n",
    "***\n",
    "The data is separated into test/pos, test/neg, train/pos, train/neg folders containing text files for each review. We need to load all of these reviews into a dataframe so we can do stuff with it. "
   ]
  },
  {
   "cell_type": "code",
   "execution_count": 1,
   "metadata": {},
   "outputs": [
    {
     "name": "stderr",
     "output_type": "stream",
     "text": [
      "2019-08-13 00:08:28,741 : INFO : read 10000 reviews\n",
      "2019-08-13 00:08:43,248 : INFO : read 20000 reviews\n",
      "2019-08-13 00:08:59,773 : INFO : read 30000 reviews\n",
      "2019-08-13 00:09:19,039 : INFO : read 40000 reviews\n",
      "2019-08-13 00:09:42,451 : INFO : read 50000 reviews\n"
     ]
    }
   ],
   "source": [
    "import pandas as pd\n",
    "import logging\n",
    "import os\n",
    "\n",
    "logging.basicConfig(format=\"%(asctime)s : %(levelname)s : %(message)s\",\n",
    "                    level=logging.INFO)\n",
    "\n",
    "folder = \"data/imdb_movie_reviews/\"\n",
    "labels = {'pos': 1, 'neg': 0}\n",
    "\n",
    "data = pd.DataFrame()\n",
    "i = 0\n",
    "for dataset in [\"test\", \"train\"]:\n",
    "    for polarity in [\"pos\", \"neg\"]:\n",
    "        preliminary_path = os.path.join(folder, dataset, polarity)\n",
    "        for file in os.listdir(preliminary_path):\n",
    "            full_file_name = os.path.join(preliminary_path, file)\n",
    "            with open(full_file_name, 'r', encoding='utf-8') as fileHandle:\n",
    "                review_text = fileHandle.read()\n",
    "                review = pd.DataFrame(\n",
    "                    [{\"review\": review_text, \"sentiment\": labels[polarity]}])\n",
    "            i += 1\n",
    "            data = data.append(review, ignore_index=True)\n",
    "            if (i % 10000 == 0):\n",
    "                logging.info(\"read {} reviews\".format(i))"
   ]
  },
  {
   "cell_type": "markdown",
   "metadata": {},
   "source": [
    "The data set looks like this:"
   ]
  },
  {
   "cell_type": "code",
   "execution_count": 2,
   "metadata": {},
   "outputs": [
    {
     "data": {
      "text/html": [
       "<div>\n",
       "<style scoped>\n",
       "    .dataframe tbody tr th:only-of-type {\n",
       "        vertical-align: middle;\n",
       "    }\n",
       "\n",
       "    .dataframe tbody tr th {\n",
       "        vertical-align: top;\n",
       "    }\n",
       "\n",
       "    .dataframe thead th {\n",
       "        text-align: right;\n",
       "    }\n",
       "</style>\n",
       "<table border=\"1\" class=\"dataframe\">\n",
       "  <thead>\n",
       "    <tr style=\"text-align: right;\">\n",
       "      <th></th>\n",
       "      <th>review</th>\n",
       "      <th>sentiment</th>\n",
       "    </tr>\n",
       "  </thead>\n",
       "  <tbody>\n",
       "    <tr>\n",
       "      <th>0</th>\n",
       "      <td>Original Movie lovers can actually love this s...</td>\n",
       "      <td>1</td>\n",
       "    </tr>\n",
       "    <tr>\n",
       "      <th>1</th>\n",
       "      <td>Peak Practice was a British drama series about...</td>\n",
       "      <td>1</td>\n",
       "    </tr>\n",
       "    <tr>\n",
       "      <th>2</th>\n",
       "      <td>My wife is a mental health therapist and we wa...</td>\n",
       "      <td>1</td>\n",
       "    </tr>\n",
       "    <tr>\n",
       "      <th>3</th>\n",
       "      <td>A fantastic film featuring great Aussie talent...</td>\n",
       "      <td>1</td>\n",
       "    </tr>\n",
       "    <tr>\n",
       "      <th>4</th>\n",
       "      <td>Despite all it's trappings of style and cinema...</td>\n",
       "      <td>1</td>\n",
       "    </tr>\n",
       "  </tbody>\n",
       "</table>\n",
       "</div>"
      ],
      "text/plain": [
       "                                              review  sentiment\n",
       "0  Original Movie lovers can actually love this s...          1\n",
       "1  Peak Practice was a British drama series about...          1\n",
       "2  My wife is a mental health therapist and we wa...          1\n",
       "3  A fantastic film featuring great Aussie talent...          1\n",
       "4  Despite all it's trappings of style and cinema...          1"
      ]
     },
     "execution_count": 2,
     "metadata": {},
     "output_type": "execute_result"
    }
   ],
   "source": [
    "data.head()"
   ]
  },
  {
   "cell_type": "code",
   "execution_count": 3,
   "metadata": {},
   "outputs": [
    {
     "data": {
      "text/plain": [
       "1    25000\n",
       "0    25000\n",
       "Name: sentiment, dtype: int64"
      ]
     },
     "execution_count": 3,
     "metadata": {},
     "output_type": "execute_result"
    }
   ],
   "source": [
    "data.sentiment.value_counts()"
   ]
  },
  {
   "cell_type": "code",
   "execution_count": 4,
   "metadata": {},
   "outputs": [
    {
     "name": "stdout",
     "output_type": "stream",
     "text": [
      "<class 'pandas.core.frame.DataFrame'>\n",
      "RangeIndex: 50000 entries, 0 to 49999\n",
      "Data columns (total 2 columns):\n",
      "review       50000 non-null object\n",
      "sentiment    50000 non-null int64\n",
      "dtypes: int64(1), object(1)\n",
      "memory usage: 781.3+ KB\n"
     ]
    }
   ],
   "source": [
    "data.info()"
   ]
  },
  {
   "cell_type": "markdown",
   "metadata": {},
   "source": [
    "## Look at the Frequency of Top Words\n",
    "***\n",
    "We can get the frequency distribution of the words in the text by utilizing the `nltk.FreqDist()` function. This function lists the top words used in the text. We can look at the top 50 most frequent words in the text: As you can see, we have a lot of stop words in there. "
   ]
  },
  {
   "cell_type": "code",
   "execution_count": 9,
   "metadata": {},
   "outputs": [
    {
     "name": "stdout",
     "output_type": "stream",
     "text": [
      "Number of unique words in vocabulary: 198758\n",
      "Top 20 most frequent tokens:\n",
      "----------------------------\n",
      "the\n",
      ",\n",
      ".\n",
      "a\n",
      "and\n",
      "of\n",
      "to\n",
      "is\n",
      "/\n",
      ">\n",
      "<\n",
      "br\n",
      "in\n",
      "I\n",
      "it\n",
      "that\n",
      "'s\n",
      "this\n",
      "was\n",
      "The\n"
     ]
    }
   ],
   "source": [
    "# all of the words in the corpus concatenated\n",
    "reviews = data.review.str.cat(sep=\" \")\n",
    "tokens = word_tokenize(reviews)\n",
    "vocabulary = set(tokens)\n",
    "print(\"Number of unique words in vocabulary: {}\".format(len(vocabulary)))\n",
    "frequency_dist = nltk.FreqDist(tokens)\n",
    "TOPN = 20\n",
    "print(\"Top {} most frequent tokens:\".format(TOPN))\n",
    "print(\"----------------------------\")\n",
    "for token in sorted(frequency_dist, key=frequency_dist.__getitem__, reverse=True)[:TOPN]:\n",
    "    print(token)"
   ]
  },
  {
   "cell_type": "markdown",
   "metadata": {},
   "source": [
    "As you can see, there are almost no words with any real semantic meaning in the most frequent tokens. So we need to do some preprocessing\n",
    "\n",
    "## Remove Stopwords\n",
    "***\n",
    "Now we shall remove stopwords to further clean up the text corpus:"
   ]
  },
  {
   "cell_type": "code",
   "execution_count": 15,
   "metadata": {},
   "outputs": [
    {
     "name": "stdout",
     "output_type": "stream",
     "text": [
      "Top 20 most frequent tokens after removing stop words and punctuation:\n",
      "----------------------------\n",
      "I\n",
      "The\n",
      "movie\n",
      "film\n",
      "one\n",
      "like\n",
      "It\n",
      "This\n",
      "good\n",
      "would\n",
      "time\n",
      "really\n",
      "see\n",
      "even\n",
      "story\n",
      "much\n",
      "could\n",
      "get\n",
      "people\n",
      "bad\n"
     ]
    }
   ],
   "source": [
    "import string\n",
    "tokens_to_manually_remove = [\"br\",\"'s\",\"''\",\"n't\",\"``\",\"...\"]\n",
    "# remove stop words and punctuation\n",
    "tokens = [word for word in tokens if word not in stop_words and word not in string.punctuation\\\n",
    "         and word not in tokens_to_manually_remove]\n",
    "frequency_dist = nltk.FreqDist(tokens)\n",
    "print(\"Top {} most frequent tokens after removing stop words and punctuation:\".format(TOPN))\n",
    "print(\"----------------------------\")\n",
    "for token in sorted(frequency_dist, key=frequency_dist.__getitem__, reverse=True)[:TOPN]:\n",
    "    print(token)"
   ]
  },
  {
   "cell_type": "markdown",
   "metadata": {},
   "source": [
    "## Wordcloud Visualization\n",
    "***\n",
    "Now we can make a wordcloud visualization."
   ]
  },
  {
   "cell_type": "code",
   "execution_count": 16,
   "metadata": {},
   "outputs": [
    {
     "data": {
      "image/png": "[encoded data removed]",
      "text/plain": [
       "<Figure size 432x288 with 1 Axes>"
      ]
     },
     "metadata": {
      "needs_background": "light"
     },
     "output_type": "display_data"
    }
   ],
   "source": [
    "from wordcloud import WordCloud\n",
    "import matplotlib.pyplot as plt\n",
    "\n",
    "wordcloud = WordCloud().generate_from_frequencies(frequency_dist)\n",
    "\n",
    "plt.imshow(wordcloud)\n",
    "plt.axis(\"off\")\n",
    "plt.show()"
   ]
  },
  {
   "cell_type": "markdown",
   "metadata": {},
   "source": [
    "## Building a Classifier\n",
    "***\n",
    "Now we can divide the dataset into a test and training set of 25000 reviews each, appropriately stratified by label:"
   ]
  },
  {
   "cell_type": "code",
   "execution_count": 19,
   "metadata": {},
   "outputs": [],
   "source": [
    "from sklearn.model_selection import train_test_split\n",
    "\n",
    "x_train, x_test, y_train, y_test = train_test_split(data.review,data.sentiment,stratify=data.sentiment,\\\n",
    "                                                   random_state=2019,test_size=0.2)"
   ]
  },
  {
   "cell_type": "markdown",
   "metadata": {},
   "source": [
    "## Featurization\n",
    "***\n",
    "Now we need to actually convert our text into a numerical vector representation. We will use TF IDF from scikit-learn here"
   ]
  },
  {
   "cell_type": "code",
   "execution_count": 20,
   "metadata": {},
   "outputs": [
    {
     "name": "stdout",
     "output_type": "stream",
     "text": [
      "(40000, 92929) (10000, 92929)\n"
     ]
    }
   ],
   "source": [
    "from sklearn.feature_extraction.text import TfidfVectorizer\n",
    "\n",
    "vectorizer = TfidfVectorizer()\n",
    "\n",
    "train_vectors = vectorizer.fit_transform(x_train)\n",
    "test_vectors = vectorizer.transform(x_test)\n",
    "\n",
    "print(train_vectors.shape, test_vectors.shape)"
   ]
  },
  {
   "cell_type": "markdown",
   "metadata": {},
   "source": [
    "## Black Box Model\n",
    "***\n",
    "Now we will use the black box naive bayes model from scikit-learn to create a baseline model for this problem:"
   ]
  },
  {
   "cell_type": "code",
   "execution_count": 21,
   "metadata": {},
   "outputs": [],
   "source": [
    "from sklearn.naive_bayes import MultinomialNB\n",
    "clf = MultinomialNB().fit(train_vectors, y_train)"
   ]
  },
  {
   "cell_type": "markdown",
   "metadata": {},
   "source": [
    "## Metrics\n",
    "***\n",
    "Now we use the basic accuracy as the metric for our classification, because our classes are balanced."
   ]
  },
  {
   "cell_type": "code",
   "execution_count": 22,
   "metadata": {},
   "outputs": [
    {
     "name": "stdout",
     "output_type": "stream",
     "text": [
      "              precision    recall  f1-score   support\n",
      "\n",
      "           0       0.85      0.89      0.87      5000\n",
      "           1       0.88      0.84      0.86      5000\n",
      "\n",
      "    accuracy                           0.86     10000\n",
      "   macro avg       0.87      0.86      0.86     10000\n",
      "weighted avg       0.87      0.86      0.86     10000\n",
      "\n"
     ]
    }
   ],
   "source": [
    "from sklearn.metrics import classification_report\n",
    "predictions = clf.predict(test_vectors)\n",
    "print(classification_report(y_test, predictions))"
   ]
  },
  {
   "cell_type": "code",
   "execution_count": 42,
   "metadata": {},
   "outputs": [
    {
     "name": "stdout",
     "output_type": "stream",
     "text": [
      "Sentiment: [1 0 0 0 0 0 0 0]\n"
     ]
    }
   ],
   "source": [
    "test_sample_1 = \"This movie is fantastic! I really like it because it is so good!\"\n",
    "test_sample_2 = \"Good movie!\"\n",
    "test_sample_3 = \"Maybe I like this movie.\"\n",
    "test_sample_4 = \"Not to my taste, will skip and watch another movie\"\n",
    "test_sample_5 = \"if you like action, then this movie might be good for you.\"\n",
    "test_sample_6 = \"Bad movie!\"\n",
    "test_sample_7 = \"Not a good movie!\"\n",
    "test_sample_8 = \"This movie really sucks! Can I get my money back please?\"\n",
    "test_samples = [test_sample_1, test_sample_2, test_sample_3, test_sample_4, test_sample_5, test_sample_6,\n",
    "               test_sample_7, test_sample_8]\n",
    "\n",
    "\n",
    "sample_vectors = vectorizer.transform(test_samples)\n",
    "print(\"Sentiment: {}\".format(clf.predict(sample_vectors)))"
   ]
  },
  {
   "cell_type": "code",
   "execution_count": 37,
   "metadata": {},
   "outputs": [
    {
     "name": "stdout",
     "output_type": "stream",
     "text": [
      "(8, 92929)\n"
     ]
    }
   ],
   "source": [
    "print(sample_vectors.toarray().shape)"
   ]
  },
  {
   "cell_type": "markdown",
   "metadata": {},
   "source": [
    "# An Improved Sentiment Classifier using Deep Learning\n",
    "***"
   ]
  },
  {
   "cell_type": "markdown",
   "metadata": {},
   "source": [
    "The architecture for the deep learning text classification model generally consists of the following connected components:\n",
    "\n",
    "Text(X) -> Embedding -> Deep Network (LSTM/GRU) -> Fully Connected (Dense) -> Output Layer (Softmax) -> Sentiment (y)"
   ]
  },
  {
   "cell_type": "markdown",
   "metadata": {},
   "source": [
    "## Clean the Text for Embedding Layer\n",
    "***\n",
    "The word embeddings can be learned while training a neural network on the classification problem. Before it can be presented to the network, the text data is encoded so that each word is represented by a unique integer. This can be performed using the **Tokenizer API** provided by **Keras**. \n",
    "\n",
    "We also add padding to make all of the vectors the same length. "
   ]
  },
  {
   "cell_type": "code",
   "execution_count": 59,
   "metadata": {},
   "outputs": [
    {
     "name": "stdout",
     "output_type": "stream",
     "text": [
      "Maximum length of any review: 2470\n"
     ]
    }
   ],
   "source": [
    "from tensorflow.python.keras.preprocessing.text import Tokenizer\n",
    "from tensorflow.python.keras.preprocessing.sequence import pad_sequences\n",
    "\n",
    "tokenizer = Tokenizer()\n",
    "tokenizer.fit_on_texts(data.review.values)\n",
    "\n",
    "max_length = data.review.apply(lambda review: len(review.split())).max(axis=0)\n",
    "print(\"Maximum length of any review: {}\".format(max_length))\n",
    "\n",
    "# define vocabulary size\n",
    "vocab_size = len(tokenizer.word_index) + 1\n",
    "\n",
    "train_tokens = tokenizer.texts_to_sequences(x_train.values)\n",
    "test_tokens = tokenizer.texts_to_sequences(x_test.values)\n",
    "\n",
    "x_train_padded = pad_sequences(train_tokens, maxlen=max_length, padding=\"post\")\n",
    "x_test_padded = pad_sequences(test_tokens, maxlen=max_length, padding=\"post\")"
   ]
  },
  {
   "cell_type": "code",
   "execution_count": 60,
   "metadata": {},
   "outputs": [
    {
     "name": "stderr",
     "output_type": "stream",
     "text": [
      "Using TensorFlow backend.\n",
      "2019-08-13 00:48:10,908 : WARNING : From /home/joseph/miniconda3/lib/python3.6/site-packages/tensorflow/python/framework/op_def_library.py:263: colocate_with (from tensorflow.python.framework.ops) is deprecated and will be removed in a future version.\n",
      "Instructions for updating:\n",
      "Colocations handled automatically by placer.\n",
      "2019-08-13 00:48:10,967 : WARNING : From /home/joseph/miniconda3/lib/python3.6/site-packages/keras/backend/tensorflow_backend.py:3445: calling dropout (from tensorflow.python.ops.nn_ops) with keep_prob is deprecated and will be removed in a future version.\n",
      "Instructions for updating:\n",
      "Please use `rate` instead of `keep_prob`. Rate should be set to `rate = 1 - keep_prob`.\n"
     ]
    },
    {
     "name": "stdout",
     "output_type": "stream",
     "text": [
      "_________________________________________________________________\n",
      "Layer (type)                 Output Shape              Param #   \n",
      "=================================================================\n",
      "embedding_1 (Embedding)      (None, 2470, 100)         12425300  \n",
      "_________________________________________________________________\n",
      "gru_1 (GRU)                  (None, 32)                12768     \n",
      "_________________________________________________________________\n",
      "dense_1 (Dense)              (None, 1)                 33        \n",
      "=================================================================\n",
      "Total params: 12,438,101\n",
      "Trainable params: 12,438,101\n",
      "Non-trainable params: 0\n",
      "_________________________________________________________________\n",
      "None\n"
     ]
    }
   ],
   "source": [
    "from keras.models import Sequential\n",
    "from keras.layers import Dense, Embedding, LSTM, GRU\n",
    "from keras.layers.embeddings import Embedding\n",
    "\n",
    "# dimension of semantic word vector space\n",
    "EMBEDDING_DIM = 100\n",
    "\n",
    "model = Sequential()\n",
    "model.add(Embedding(input_dim=vocab_size, output_dim=EMBEDDING_DIM, input_length=max_length))\n",
    "model.add(GRU(units=32, dropout=0.2, recurrent_dropout=0.2))\n",
    "model.add(Dense(1, activation=\"sigmoid\"))\n",
    "\n",
    "model.compile(loss=\"binary_crossentropy\",optimizer=\"adam\", metrics=[\"accuracy\"])\n",
    "print(model.summary())"
   ]
  },
  {
   "cell_type": "markdown",
   "metadata": {},
   "source": [
    "Now we can fit the model using our training data and some hyperparameters."
   ]
  },
  {
   "cell_type": "code",
   "execution_count": 67,
   "metadata": {},
   "outputs": [
    {
     "name": "stdout",
     "output_type": "stream",
     "text": [
      "Train on 40000 samples, validate on 10000 samples\n",
      "Epoch 1/25\n",
      "40000/40000 [==============================] - 2429s 61ms/step - loss: 0.6936 - acc: 0.4959 - val_loss: 0.6933 - val_acc: 0.5000\n",
      "Epoch 2/25\n",
      "40000/40000 [==============================] - 2418s 60ms/step - loss: 0.6933 - acc: 0.5004 - val_loss: 0.6932 - val_acc: 0.5000\n",
      "Epoch 3/25\n",
      "40000/40000 [==============================] - 2414s 60ms/step - loss: 0.6933 - acc: 0.5013 - val_loss: 0.6935 - val_acc: 0.5000\n",
      "Epoch 4/25\n",
      "40000/40000 [==============================] - 2417s 60ms/step - loss: 0.6933 - acc: 0.5023 - val_loss: 0.6936 - val_acc: 0.5000\n",
      "Epoch 5/25\n",
      "40000/40000 [==============================] - 2416s 60ms/step - loss: 0.6933 - acc: 0.4953 - val_loss: 0.6931 - val_acc: 0.5000\n",
      "Epoch 6/25\n",
      "40000/40000 [==============================] - 2419s 60ms/step - loss: 0.6932 - acc: 0.4995 - val_loss: 0.6931 - val_acc: 0.5000\n",
      "Epoch 7/25\n",
      "40000/40000 [==============================] - 2415s 60ms/step - loss: 0.6932 - acc: 0.4991 - val_loss: 0.6932 - val_acc: 0.5000\n",
      "Epoch 8/25\n",
      "40000/40000 [==============================] - 2416s 60ms/step - loss: 0.6933 - acc: 0.4979 - val_loss: 0.6931 - val_acc: 0.5000\n",
      "Epoch 9/25\n",
      "40000/40000 [==============================] - 2417s 60ms/step - loss: 0.6933 - acc: 0.4983 - val_loss: 0.6932 - val_acc: 0.5000\n",
      "Epoch 10/25\n",
      "40000/40000 [==============================] - 2417s 60ms/step - loss: 0.6933 - acc: 0.4957 - val_loss: 0.6932 - val_acc: 0.5000\n",
      "Epoch 11/25\n",
      " 2496/40000 [>.............................] - ETA: 35:57 - loss: 0.6931 - acc: 0.5068"
     ]
    },
    {
     "ename": "KeyboardInterrupt",
     "evalue": "",
     "output_type": "error",
     "traceback": [
      "\u001b[0;31m---------------------------------------------------------------------------\u001b[0m",
      "\u001b[0;31mKeyboardInterrupt\u001b[0m                         Traceback (most recent call last)",
      "\u001b[0;32m<ipython-input-67-741159687875>\u001b[0m in \u001b[0;36m<module>\u001b[0;34m\u001b[0m\n\u001b[1;32m      1\u001b[0m model.fit(x_train_padded, y_train.values,batch_size=64, epochs=25, \\\n\u001b[0;32m----> 2\u001b[0;31m           validation_data=(x_test_padded,y_test.values), verbose=1)\n\u001b[0m",
      "\u001b[0;32m~/miniconda3/lib/python3.6/site-packages/keras/engine/training.py\u001b[0m in \u001b[0;36mfit\u001b[0;34m(self, x, y, batch_size, epochs, verbose, callbacks, validation_split, validation_data, shuffle, class_weight, sample_weight, initial_epoch, steps_per_epoch, validation_steps, **kwargs)\u001b[0m\n\u001b[1;32m   1037\u001b[0m                                         \u001b[0minitial_epoch\u001b[0m\u001b[0;34m=\u001b[0m\u001b[0minitial_epoch\u001b[0m\u001b[0;34m,\u001b[0m\u001b[0;34m\u001b[0m\u001b[0m\n\u001b[1;32m   1038\u001b[0m                                         \u001b[0msteps_per_epoch\u001b[0m\u001b[0;34m=\u001b[0m\u001b[0msteps_per_epoch\u001b[0m\u001b[0;34m,\u001b[0m\u001b[0;34m\u001b[0m\u001b[0m\n\u001b[0;32m-> 1039\u001b[0;31m                                         validation_steps=validation_steps)\n\u001b[0m\u001b[1;32m   1040\u001b[0m \u001b[0;34m\u001b[0m\u001b[0m\n\u001b[1;32m   1041\u001b[0m     def evaluate(self, x=None, y=None,\n",
      "\u001b[0;32m~/miniconda3/lib/python3.6/site-packages/keras/engine/training_arrays.py\u001b[0m in \u001b[0;36mfit_loop\u001b[0;34m(model, f, ins, out_labels, batch_size, epochs, verbose, callbacks, val_f, val_ins, shuffle, callback_metrics, initial_epoch, steps_per_epoch, validation_steps)\u001b[0m\n\u001b[1;32m    197\u001b[0m                     \u001b[0mins_batch\u001b[0m\u001b[0;34m[\u001b[0m\u001b[0mi\u001b[0m\u001b[0;34m]\u001b[0m \u001b[0;34m=\u001b[0m \u001b[0mins_batch\u001b[0m\u001b[0;34m[\u001b[0m\u001b[0mi\u001b[0m\u001b[0;34m]\u001b[0m\u001b[0;34m.\u001b[0m\u001b[0mtoarray\u001b[0m\u001b[0;34m(\u001b[0m\u001b[0;34m)\u001b[0m\u001b[0;34m\u001b[0m\u001b[0m\n\u001b[1;32m    198\u001b[0m \u001b[0;34m\u001b[0m\u001b[0m\n\u001b[0;32m--> 199\u001b[0;31m                 \u001b[0mouts\u001b[0m \u001b[0;34m=\u001b[0m \u001b[0mf\u001b[0m\u001b[0;34m(\u001b[0m\u001b[0mins_batch\u001b[0m\u001b[0;34m)\u001b[0m\u001b[0;34m\u001b[0m\u001b[0m\n\u001b[0m\u001b[1;32m    200\u001b[0m                 \u001b[0mouts\u001b[0m \u001b[0;34m=\u001b[0m \u001b[0mto_list\u001b[0m\u001b[0;34m(\u001b[0m\u001b[0mouts\u001b[0m\u001b[0;34m)\u001b[0m\u001b[0;34m\u001b[0m\u001b[0m\n\u001b[1;32m    201\u001b[0m                 \u001b[0;32mfor\u001b[0m \u001b[0ml\u001b[0m\u001b[0;34m,\u001b[0m \u001b[0mo\u001b[0m \u001b[0;32min\u001b[0m \u001b[0mzip\u001b[0m\u001b[0;34m(\u001b[0m\u001b[0mout_labels\u001b[0m\u001b[0;34m,\u001b[0m \u001b[0mouts\u001b[0m\u001b[0;34m)\u001b[0m\u001b[0;34m:\u001b[0m\u001b[0;34m\u001b[0m\u001b[0m\n",
      "\u001b[0;32m~/miniconda3/lib/python3.6/site-packages/keras/backend/tensorflow_backend.py\u001b[0m in \u001b[0;36m__call__\u001b[0;34m(self, inputs)\u001b[0m\n\u001b[1;32m   2713\u001b[0m                 \u001b[0;32mreturn\u001b[0m \u001b[0mself\u001b[0m\u001b[0;34m.\u001b[0m\u001b[0m_legacy_call\u001b[0m\u001b[0;34m(\u001b[0m\u001b[0minputs\u001b[0m\u001b[0;34m)\u001b[0m\u001b[0;34m\u001b[0m\u001b[0m\n\u001b[1;32m   2714\u001b[0m \u001b[0;34m\u001b[0m\u001b[0m\n\u001b[0;32m-> 2715\u001b[0;31m             \u001b[0;32mreturn\u001b[0m \u001b[0mself\u001b[0m\u001b[0;34m.\u001b[0m\u001b[0m_call\u001b[0m\u001b[0;34m(\u001b[0m\u001b[0minputs\u001b[0m\u001b[0;34m)\u001b[0m\u001b[0;34m\u001b[0m\u001b[0m\n\u001b[0m\u001b[1;32m   2716\u001b[0m         \u001b[0;32melse\u001b[0m\u001b[0;34m:\u001b[0m\u001b[0;34m\u001b[0m\u001b[0m\n\u001b[1;32m   2717\u001b[0m             \u001b[0;32mif\u001b[0m \u001b[0mpy_any\u001b[0m\u001b[0;34m(\u001b[0m\u001b[0mis_tensor\u001b[0m\u001b[0;34m(\u001b[0m\u001b[0mx\u001b[0m\u001b[0;34m)\u001b[0m \u001b[0;32mfor\u001b[0m \u001b[0mx\u001b[0m \u001b[0;32min\u001b[0m \u001b[0minputs\u001b[0m\u001b[0;34m)\u001b[0m\u001b[0;34m:\u001b[0m\u001b[0;34m\u001b[0m\u001b[0m\n",
      "\u001b[0;32m~/miniconda3/lib/python3.6/site-packages/keras/backend/tensorflow_backend.py\u001b[0m in \u001b[0;36m_call\u001b[0;34m(self, inputs)\u001b[0m\n\u001b[1;32m   2673\u001b[0m             \u001b[0mfetched\u001b[0m \u001b[0;34m=\u001b[0m \u001b[0mself\u001b[0m\u001b[0;34m.\u001b[0m\u001b[0m_callable_fn\u001b[0m\u001b[0;34m(\u001b[0m\u001b[0;34m*\u001b[0m\u001b[0marray_vals\u001b[0m\u001b[0;34m,\u001b[0m \u001b[0mrun_metadata\u001b[0m\u001b[0;34m=\u001b[0m\u001b[0mself\u001b[0m\u001b[0;34m.\u001b[0m\u001b[0mrun_metadata\u001b[0m\u001b[0;34m)\u001b[0m\u001b[0;34m\u001b[0m\u001b[0m\n\u001b[1;32m   2674\u001b[0m         \u001b[0;32melse\u001b[0m\u001b[0;34m:\u001b[0m\u001b[0;34m\u001b[0m\u001b[0m\n\u001b[0;32m-> 2675\u001b[0;31m             \u001b[0mfetched\u001b[0m \u001b[0;34m=\u001b[0m \u001b[0mself\u001b[0m\u001b[0;34m.\u001b[0m\u001b[0m_callable_fn\u001b[0m\u001b[0;34m(\u001b[0m\u001b[0;34m*\u001b[0m\u001b[0marray_vals\u001b[0m\u001b[0;34m)\u001b[0m\u001b[0;34m\u001b[0m\u001b[0m\n\u001b[0m\u001b[1;32m   2676\u001b[0m         \u001b[0;32mreturn\u001b[0m \u001b[0mfetched\u001b[0m\u001b[0;34m[\u001b[0m\u001b[0;34m:\u001b[0m\u001b[0mlen\u001b[0m\u001b[0;34m(\u001b[0m\u001b[0mself\u001b[0m\u001b[0;34m.\u001b[0m\u001b[0moutputs\u001b[0m\u001b[0;34m)\u001b[0m\u001b[0;34m]\u001b[0m\u001b[0;34m\u001b[0m\u001b[0m\n\u001b[1;32m   2677\u001b[0m \u001b[0;34m\u001b[0m\u001b[0m\n",
      "\u001b[0;32m~/miniconda3/lib/python3.6/site-packages/tensorflow/python/client/session.py\u001b[0m in \u001b[0;36m__call__\u001b[0;34m(self, *args, **kwargs)\u001b[0m\n\u001b[1;32m   1437\u001b[0m           ret = tf_session.TF_SessionRunCallable(\n\u001b[1;32m   1438\u001b[0m               \u001b[0mself\u001b[0m\u001b[0;34m.\u001b[0m\u001b[0m_session\u001b[0m\u001b[0;34m.\u001b[0m\u001b[0m_session\u001b[0m\u001b[0;34m,\u001b[0m \u001b[0mself\u001b[0m\u001b[0;34m.\u001b[0m\u001b[0m_handle\u001b[0m\u001b[0;34m,\u001b[0m \u001b[0margs\u001b[0m\u001b[0;34m,\u001b[0m \u001b[0mstatus\u001b[0m\u001b[0;34m,\u001b[0m\u001b[0;34m\u001b[0m\u001b[0m\n\u001b[0;32m-> 1439\u001b[0;31m               run_metadata_ptr)\n\u001b[0m\u001b[1;32m   1440\u001b[0m         \u001b[0;32mif\u001b[0m \u001b[0mrun_metadata\u001b[0m\u001b[0;34m:\u001b[0m\u001b[0;34m\u001b[0m\u001b[0m\n\u001b[1;32m   1441\u001b[0m           \u001b[0mproto_data\u001b[0m \u001b[0;34m=\u001b[0m \u001b[0mtf_session\u001b[0m\u001b[0;34m.\u001b[0m\u001b[0mTF_GetBuffer\u001b[0m\u001b[0;34m(\u001b[0m\u001b[0mrun_metadata_ptr\u001b[0m\u001b[0;34m)\u001b[0m\u001b[0;34m\u001b[0m\u001b[0m\n",
      "\u001b[0;31mKeyboardInterrupt\u001b[0m: "
     ]
    }
   ],
   "source": [
    "model.fit(x_train_padded, y_train.values,batch_size=64, epochs=25, \\\n",
    "          validation_data=(x_test_padded,y_test.values), verbose=1)"
   ]
  },
  {
   "cell_type": "markdown",
   "metadata": {},
   "source": [
    "Now we test the model on some custom reviews that are clearly negative or positive to see how good it is at predicting the sentiment of each review."
   ]
  },
  {
   "cell_type": "code",
   "execution_count": 68,
   "metadata": {},
   "outputs": [
    {
     "name": "stdout",
     "output_type": "stream",
     "text": [
      "[[0.50239146]\n",
      " [0.5040328 ]\n",
      " [0.5086169 ]\n",
      " [0.5039135 ]\n",
      " [0.5017503 ]\n",
      " [0.50367045]\n",
      " [0.507297  ]\n",
      " [0.5015656 ]]\n"
     ]
    }
   ],
   "source": [
    "test_sample_1 = \"This movie is fantastic! I really like it because it is so good!\"\n",
    "test_sample_2 = \"Good movie!\"\n",
    "test_sample_3 = \"Maybe I like this movie.\"\n",
    "test_sample_4 = \"Not to my taste, will skip and watch another movie\"\n",
    "test_sample_5 = \"if you like action, then this movie might be good for you.\"\n",
    "test_sample_6 = \"Bad movie!\"\n",
    "test_sample_7 = \"Not a good movie!\"\n",
    "test_sample_8 = \"This movie really sucks! Can I get my money back please?\"\n",
    "test_samples = [test_sample_1, test_sample_2, test_sample_3, test_sample_4, test_sample_5, test_sample_6,\n",
    "               test_sample_7, test_sample_8]\n",
    "\n",
    "test_samples_tokenized = tokenizer.texts_to_sequences(test_samples)\n",
    "test_samples_padded = pad_sequences(test_samples_tokenized, maxlen=max_length)\n",
    "\n",
    "print(model.predict(x=test_samples_padded))"
   ]
  },
  {
   "cell_type": "markdown",
   "metadata": {},
   "source": [
    "## Train a Word2Vec Embedding\n",
    "***\n",
    "Now we  will try to separately learn the word embeddings and then pass them to the embedding layer. This also allows us to use per-trained word embeddings. We will use `gensim` here. \n",
    "\n",
    "The **first step** is to prepare the corpus for the learning of the embeddings by **tokenization**, **removing punctuation**, **removing stop words**, etc. The word2vec algorithm processes documents sentence by sentence."
   ]
  },
  {
   "cell_type": "code",
   "execution_count": 71,
   "metadata": {},
   "outputs": [],
   "source": [
    "import re\n",
    "punctuation_pattern = \"[\" + string.punctuation + \"]\"\n",
    "\n",
    "cleaned_reviews = []\n",
    "reviews = data.review.values.tolist()\n",
    "\n",
    "for review in reviews:\n",
    "    # create tokens for this review\n",
    "    tokens = word_tokenize(review)\n",
    "    # convert all words to lowercase\n",
    "    tokens = [word.lower() for word in tokens]\n",
    "    # convert punctuation to empty space\n",
    "    tokens_less_punc = [re.sub(punctuation_pattern,\"\",token) for token in tokens]\n",
    "    # remove non alphabetic tokens\n",
    "    tokens = list(filter(str.isalpha, tokens_less_punc))\n",
    "    tokens = list(filter(lambda word:word not in stop_words, tokens))\n",
    "    cleaned_reviews.append(tokens)"
   ]
  },
  {
   "cell_type": "code",
   "execution_count": null,
   "metadata": {},
   "outputs": [],
   "source": [
    "print(cleaned_reviews[0])"
   ]
  },
  {
   "cell_type": "markdown",
   "metadata": {},
   "source": [
    "Now we can use `gensim` to find our embeddings. The parameters needed for our Word2Vec model are:\n",
    "\n",
    "* `sentences` - a list of sentences\n",
    "* `size` - the number of dimensions for word vectors\n",
    "* `min_count` - minimum frequency for a word to be included\n",
    "* `window` - only terms that occur within a window neighborhood of a term in a sentence are associated\n",
    "* `workers` - number of threads used in training parallelization to speed up training"
   ]
  },
  {
   "cell_type": "code",
   "execution_count": 72,
   "metadata": {},
   "outputs": [
    {
     "name": "stderr",
     "output_type": "stream",
     "text": [
      "2019-08-13 07:51:25,123 : INFO : 'pattern' package not found; tag filters are not available for English\n",
      "2019-08-13 07:51:25,127 : INFO : collecting all words and their counts\n",
      "2019-08-13 07:51:25,128 : INFO : PROGRESS: at sentence #0, processed 0 words, keeping 0 word types\n",
      "2019-08-13 07:51:25,342 : INFO : PROGRESS: at sentence #10000, processed 1214193 words, keeping 57422 word types\n",
      "2019-08-13 07:51:25,542 : INFO : PROGRESS: at sentence #20000, processed 2418958 words, keeping 81729 word types\n",
      "2019-08-13 07:51:25,757 : INFO : PROGRESS: at sentence #30000, processed 3641415 words, keeping 101927 word types\n",
      "2019-08-13 07:51:25,979 : INFO : PROGRESS: at sentence #40000, processed 4890500 words, keeping 119311 word types\n",
      "2019-08-13 07:51:26,194 : INFO : collected 134087 word types from a corpus of 6106047 raw words and 50000 sentences\n",
      "2019-08-13 07:51:26,195 : INFO : Loading a fresh vocabulary\n",
      "2019-08-13 07:51:26,727 : INFO : min_count=1 retains 134087 unique words (100% of original 134087, drops 0)\n",
      "2019-08-13 07:51:26,728 : INFO : min_count=1 leaves 6106047 word corpus (100% of original 6106047, drops 0)\n",
      "2019-08-13 07:51:27,133 : INFO : deleting the raw counts dictionary of 134087 items\n",
      "2019-08-13 07:51:27,135 : INFO : sample=0.001 downsamples 22 most-common words\n",
      "2019-08-13 07:51:27,136 : INFO : downsampling leaves estimated 5692248 word corpus (93.2% of prior 6106047)\n",
      "2019-08-13 07:51:27,479 : INFO : estimated required memory for 134087 words and 100 dimensions: 174313100 bytes\n",
      "2019-08-13 07:51:27,480 : INFO : resetting layer weights\n",
      "2019-08-13 07:51:28,807 : INFO : training model with 8 workers on 134087 vocabulary and 100 features, using sg=0 hs=0 sample=0.001 negative=5 window=5\n",
      "2019-08-13 07:51:29,821 : INFO : EPOCH 1 - PROGRESS: at 22.35% examples, 1256533 words/s, in_qsize 15, out_qsize 0\n",
      "2019-08-13 07:51:30,823 : INFO : EPOCH 1 - PROGRESS: at 45.93% examples, 1285031 words/s, in_qsize 15, out_qsize 0\n",
      "2019-08-13 07:51:31,840 : INFO : EPOCH 1 - PROGRESS: at 67.87% examples, 1275676 words/s, in_qsize 14, out_qsize 1\n",
      "2019-08-13 07:51:32,845 : INFO : EPOCH 1 - PROGRESS: at 90.86% examples, 1282580 words/s, in_qsize 16, out_qsize 1\n",
      "2019-08-13 07:51:33,221 : INFO : worker thread finished; awaiting finish of 7 more threads\n",
      "2019-08-13 07:51:33,223 : INFO : worker thread finished; awaiting finish of 6 more threads\n",
      "2019-08-13 07:51:33,225 : INFO : worker thread finished; awaiting finish of 5 more threads\n",
      "2019-08-13 07:51:33,225 : INFO : worker thread finished; awaiting finish of 4 more threads\n",
      "2019-08-13 07:51:33,234 : INFO : worker thread finished; awaiting finish of 3 more threads\n",
      "2019-08-13 07:51:33,235 : INFO : worker thread finished; awaiting finish of 2 more threads\n",
      "2019-08-13 07:51:33,238 : INFO : worker thread finished; awaiting finish of 1 more threads\n",
      "2019-08-13 07:51:33,249 : INFO : worker thread finished; awaiting finish of 0 more threads\n",
      "2019-08-13 07:51:33,250 : INFO : EPOCH - 1 : training on 6106047 raw words (5691926 effective words) took 4.4s, 1282273 effective words/s\n",
      "2019-08-13 07:51:34,258 : INFO : EPOCH 2 - PROGRESS: at 22.84% examples, 1293615 words/s, in_qsize 16, out_qsize 0\n",
      "2019-08-13 07:51:35,260 : INFO : EPOCH 2 - PROGRESS: at 45.93% examples, 1290143 words/s, in_qsize 15, out_qsize 0\n",
      "2019-08-13 07:51:36,266 : INFO : EPOCH 2 - PROGRESS: at 67.54% examples, 1277437 words/s, in_qsize 16, out_qsize 0\n",
      "2019-08-13 07:51:37,281 : INFO : EPOCH 2 - PROGRESS: at 90.70% examples, 1282997 words/s, in_qsize 16, out_qsize 0\n",
      "2019-08-13 07:51:37,664 : INFO : worker thread finished; awaiting finish of 7 more threads\n",
      "2019-08-13 07:51:37,665 : INFO : worker thread finished; awaiting finish of 6 more threads\n",
      "2019-08-13 07:51:37,667 : INFO : worker thread finished; awaiting finish of 5 more threads\n",
      "2019-08-13 07:51:37,672 : INFO : worker thread finished; awaiting finish of 4 more threads\n",
      "2019-08-13 07:51:37,683 : INFO : worker thread finished; awaiting finish of 3 more threads\n",
      "2019-08-13 07:51:37,694 : INFO : worker thread finished; awaiting finish of 2 more threads\n",
      "2019-08-13 07:51:37,697 : INFO : worker thread finished; awaiting finish of 1 more threads\n",
      "2019-08-13 07:51:37,701 : INFO : worker thread finished; awaiting finish of 0 more threads\n",
      "2019-08-13 07:51:37,702 : INFO : EPOCH - 2 : training on 6106047 raw words (5692132 effective words) took 4.4s, 1280168 effective words/s\n",
      "2019-08-13 07:51:38,724 : INFO : EPOCH 3 - PROGRESS: at 22.84% examples, 1273117 words/s, in_qsize 14, out_qsize 1\n",
      "2019-08-13 07:51:39,737 : INFO : EPOCH 3 - PROGRESS: at 45.93% examples, 1273469 words/s, in_qsize 15, out_qsize 0\n",
      "2019-08-13 07:51:40,743 : INFO : EPOCH 3 - PROGRESS: at 68.19% examples, 1278763 words/s, in_qsize 14, out_qsize 1\n",
      "2019-08-13 07:51:41,745 : INFO : EPOCH 3 - PROGRESS: at 90.24% examples, 1271992 words/s, in_qsize 13, out_qsize 2\n",
      "2019-08-13 07:51:42,135 : INFO : worker thread finished; awaiting finish of 7 more threads\n",
      "2019-08-13 07:51:42,139 : INFO : worker thread finished; awaiting finish of 6 more threads\n",
      "2019-08-13 07:51:42,150 : INFO : worker thread finished; awaiting finish of 5 more threads\n",
      "2019-08-13 07:51:42,161 : INFO : worker thread finished; awaiting finish of 4 more threads\n",
      "2019-08-13 07:51:42,162 : INFO : worker thread finished; awaiting finish of 3 more threads\n",
      "2019-08-13 07:51:42,164 : INFO : worker thread finished; awaiting finish of 2 more threads\n",
      "2019-08-13 07:51:42,166 : INFO : worker thread finished; awaiting finish of 1 more threads\n",
      "2019-08-13 07:51:42,172 : INFO : worker thread finished; awaiting finish of 0 more threads\n",
      "2019-08-13 07:51:42,173 : INFO : EPOCH - 3 : training on 6106047 raw words (5691938 effective words) took 4.5s, 1274554 effective words/s\n",
      "2019-08-13 07:51:43,186 : INFO : EPOCH 4 - PROGRESS: at 23.01% examples, 1294205 words/s, in_qsize 15, out_qsize 0\n",
      "2019-08-13 07:51:44,199 : INFO : EPOCH 4 - PROGRESS: at 45.95% examples, 1278359 words/s, in_qsize 16, out_qsize 1\n",
      "2019-08-13 07:51:45,210 : INFO : EPOCH 4 - PROGRESS: at 68.19% examples, 1280046 words/s, in_qsize 16, out_qsize 0\n",
      "2019-08-13 07:51:46,226 : INFO : EPOCH 4 - PROGRESS: at 91.00% examples, 1279940 words/s, in_qsize 15, out_qsize 0\n",
      "2019-08-13 07:51:46,562 : INFO : worker thread finished; awaiting finish of 7 more threads\n",
      "2019-08-13 07:51:46,563 : INFO : worker thread finished; awaiting finish of 6 more threads\n",
      "2019-08-13 07:51:46,577 : INFO : worker thread finished; awaiting finish of 5 more threads\n",
      "2019-08-13 07:51:46,585 : INFO : worker thread finished; awaiting finish of 4 more threads\n",
      "2019-08-13 07:51:46,586 : INFO : worker thread finished; awaiting finish of 3 more threads\n",
      "2019-08-13 07:51:46,603 : INFO : worker thread finished; awaiting finish of 2 more threads\n",
      "2019-08-13 07:51:46,604 : INFO : worker thread finished; awaiting finish of 1 more threads\n",
      "2019-08-13 07:51:46,615 : INFO : worker thread finished; awaiting finish of 0 more threads\n",
      "2019-08-13 07:51:46,616 : INFO : EPOCH - 4 : training on 6106047 raw words (5691600 effective words) took 4.4s, 1282360 effective words/s\n",
      "2019-08-13 07:51:47,622 : INFO : EPOCH 5 - PROGRESS: at 22.47% examples, 1276262 words/s, in_qsize 15, out_qsize 1\n",
      "2019-08-13 07:51:48,638 : INFO : EPOCH 5 - PROGRESS: at 46.09% examples, 1286327 words/s, in_qsize 14, out_qsize 1\n",
      "2019-08-13 07:51:49,648 : INFO : EPOCH 5 - PROGRESS: at 68.37% examples, 1285630 words/s, in_qsize 15, out_qsize 0\n",
      "2019-08-13 07:51:50,658 : INFO : EPOCH 5 - PROGRESS: at 90.54% examples, 1277213 words/s, in_qsize 14, out_qsize 1\n",
      "2019-08-13 07:51:51,042 : INFO : worker thread finished; awaiting finish of 7 more threads\n",
      "2019-08-13 07:51:51,045 : INFO : worker thread finished; awaiting finish of 6 more threads\n",
      "2019-08-13 07:51:51,050 : INFO : worker thread finished; awaiting finish of 5 more threads\n",
      "2019-08-13 07:51:51,073 : INFO : worker thread finished; awaiting finish of 4 more threads\n",
      "2019-08-13 07:51:51,074 : INFO : worker thread finished; awaiting finish of 3 more threads\n",
      "2019-08-13 07:51:51,078 : INFO : worker thread finished; awaiting finish of 2 more threads\n",
      "2019-08-13 07:51:51,079 : INFO : worker thread finished; awaiting finish of 1 more threads\n",
      "2019-08-13 07:51:51,089 : INFO : worker thread finished; awaiting finish of 0 more threads\n"
     ]
    },
    {
     "name": "stderr",
     "output_type": "stream",
     "text": [
      "2019-08-13 07:51:51,090 : INFO : EPOCH - 5 : training on 6106047 raw words (5692072 effective words) took 4.5s, 1273875 effective words/s\n",
      "2019-08-13 07:51:51,091 : INFO : training on a 30530235 raw words (28459668 effective words) took 22.3s, 1277163 effective words/s\n"
     ]
    }
   ],
   "source": [
    "import gensim\n",
    "\n",
    "gensim_model = gensim.models.Word2Vec( sentences=cleaned_reviews, \\\n",
    "                                      size=EMBEDDING_DIM, window=5, workers=8, min_count=1)"
   ]
  },
  {
   "cell_type": "code",
   "execution_count": null,
   "metadata": {},
   "outputs": [],
   "source": [
    "words = list(gensim_model.wv.vocab)\n",
    "print(\"Vocabulary size: {}\".format(len(words)))"
   ]
  },
  {
   "cell_type": "markdown",
   "metadata": {},
   "source": [
    "Now we can take a peek at some of the word embeddings learned from the review dataset:"
   ]
  },
  {
   "cell_type": "code",
   "execution_count": 73,
   "metadata": {},
   "outputs": [
    {
     "name": "stderr",
     "output_type": "stream",
     "text": [
      "2019-08-13 07:51:55,361 : INFO : precomputing L2-norms of word weight vectors\n"
     ]
    },
    {
     "data": {
      "text/plain": [
       "[('terrible', 0.9302012324333191),\n",
       " ('awful', 0.8553789258003235),\n",
       " ('atrocious', 0.8013436794281006),\n",
       " ('horrendous', 0.7963714003562927),\n",
       " ('pathetic', 0.7817883491516113),\n",
       " ('dreadful', 0.7682872414588928),\n",
       " ('sucks', 0.7523782253265381),\n",
       " ('lousy', 0.7514610886573792),\n",
       " ('horrid', 0.7457525730133057),\n",
       " ('laughable', 0.7341778874397278)]"
      ]
     },
     "execution_count": 73,
     "metadata": {},
     "output_type": "execute_result"
    }
   ],
   "source": [
    "gensim_model.wv.most_similar(\"horrible\")"
   ]
  },
  {
   "cell_type": "markdown",
   "metadata": {},
   "source": [
    "Let's try some of the math Word2Vec is famous for: `woman+king-man=?`"
   ]
  },
  {
   "cell_type": "code",
   "execution_count": 74,
   "metadata": {},
   "outputs": [
    {
     "data": {
      "text/plain": [
       "[('onionpeeling', 0.8936305642127991),\n",
       " ('princess', 0.8783512115478516),\n",
       " ('romeo', 0.8704230785369873),\n",
       " ('greataunt', 0.8540813326835632),\n",
       " ('juliet', 0.8529845476150513),\n",
       " ('mackenna', 0.8441362380981445),\n",
       " ('siam', 0.8394877314567566),\n",
       " ('queen', 0.8388491868972778),\n",
       " ('mchattie', 0.8384283781051636),\n",
       " ('rice', 0.8353400230407715)]"
      ]
     },
     "execution_count": 74,
     "metadata": {},
     "output_type": "execute_result"
    }
   ],
   "source": [
    "gensim_model.wv.most_similar_cosmul(positive=[\"woman\",\"king\"], negative=[\"man\"])"
   ]
  },
  {
   "cell_type": "markdown",
   "metadata": {},
   "source": [
    "Next step is to use the word embeddings directly in the embedding layer in the sentiment classification model. We save the model to be used later:\n",
    "\n",
    "The first column of each row is the word in plaintext, and the rest of the columns are the components of the word vector"
   ]
  },
  {
   "cell_type": "code",
   "execution_count": 75,
   "metadata": {},
   "outputs": [
    {
     "name": "stderr",
     "output_type": "stream",
     "text": [
      "2019-08-13 07:52:30,456 : INFO : storing 134087x100 projection weights into data/imdb_embedding_word2vec.txt\n",
      "/home/joseph/miniconda3/lib/python3.6/site-packages/smart_open/smart_open_lib.py:398: UserWarning: This function is deprecated, use smart_open.open instead. See the migration notes for details: https://github.com/RaRe-Technologies/smart_open/blob/master/README.rst#migrating-to-the-new-open-function\n",
      "  'See the migration notes for details: %s' % _MIGRATION_NOTES_URL\n"
     ]
    }
   ],
   "source": [
    "filename = os.path.join(\"data/\",\"imdb_embedding_word2vec.txt\")\n",
    "gensim_model.wv.save_word2vec_format(filename,binary=False)"
   ]
  },
  {
   "cell_type": "markdown",
   "metadata": {},
   "source": [
    "Now we extract the word embeddings from the stored file:"
   ]
  },
  {
   "cell_type": "code",
   "execution_count": 76,
   "metadata": {},
   "outputs": [],
   "source": [
    "embeddings_index = {}\n",
    "with open(os.path.join(\"data/\",\"imdb_embedding_word2vec.txt\"), encoding=\"utf-8\") as file:\n",
    "    for line in file:\n",
    "        values = line.split()\n",
    "        # first column is the word\n",
    "        word = values[0]\n",
    "        # the rest of the columns in this row are the word vector components\n",
    "        coefs = np.asarray(values[1:])\n",
    "        embeddings_index[word] = coefs"
   ]
  },
  {
   "cell_type": "markdown",
   "metadata": {},
   "source": [
    "The value of any entry in this dictionary is a list of the weights:"
   ]
  },
  {
   "cell_type": "code",
   "execution_count": 77,
   "metadata": {},
   "outputs": [
    {
     "data": {
      "text/plain": [
       "array(['0.96133274', '-0.6952864', '1.0070213', '0.523005', '-0.3906154',\n",
       "       '1.218447', '-0.028795674', '-0.4952671', '-0.3896276',\n",
       "       '-1.6096116', '-1.2196387', '-0.41853118', '1.1278542',\n",
       "       '0.46626908', '-0.21833211', '-0.14131047', '-0.18394996',\n",
       "       '0.13220257', '-0.7409199', '-0.07773656', '1.4892008',\n",
       "       '-0.77469593', '1.2228597', '0.80862343', '1.6566154',\n",
       "       '-1.1080076', '-0.31560895', '-0.34293953', '1.8242457',\n",
       "       '-0.46873775', '1.2459149', '-1.1031672', '0.061006047',\n",
       "       '-1.3770182', '-0.8599374', '-1.1963369', '0.24088435',\n",
       "       '0.38898218', '-0.09512414', '1.4049298', '-0.436388',\n",
       "       '-0.96911585', '1.3547884', '0.37189957', '0.36889032',\n",
       "       '1.2673624', '2.7251673', '-0.6144939', '0.045911193',\n",
       "       '0.21511336', '0.48187116', '-1.1951253', '0.8781069', '0.3264824',\n",
       "       '-1.1794126', '-0.41551164', '2.5286126', '-0.05533084',\n",
       "       '-0.49051148', '-1.8944973', '0.3898571', '-0.8018406',\n",
       "       '0.7853937', '-1.0939468', '1.5966693', '0.14220832',\n",
       "       '-0.33965257', '-0.9758046', '-0.062150866', '-1.4653298',\n",
       "       '-0.14033769', '1.3781595', '1.3173827', '1.0243591',\n",
       "       '-0.86420137', '1.0554773', '-0.38289928', '0.040700916',\n",
       "       '0.58889544', '-0.06009204', '-0.06397993', '-1.0103663',\n",
       "       '0.40926293', '-0.45114046', '0.40400696', '-0.46308893',\n",
       "       '-0.118191905', '-0.48744264', '1.7965509', '-1.6297256',\n",
       "       '-0.83963734', '-1.4359668', '-0.28613853', '1.6746985',\n",
       "       '-0.35903993', '-0.10884931', '-0.2821986', '-0.15661627',\n",
       "       '2.4110832', '-1.8932619'], dtype='<U12')"
      ]
     },
     "execution_count": 77,
     "metadata": {},
     "output_type": "execute_result"
    }
   ],
   "source": [
    "embeddings_index[\"br\"]"
   ]
  },
  {
   "cell_type": "markdown",
   "metadata": {},
   "source": [
    "Now we convert the word embedding into a tokenized vector. Recall that the review documents are integer encoded prior to passing them tot he embedding layer. THe integer maps the index of a specific vector in the embedding layer. Therefore, it is important that we lay the vectors out in the Embedding layer such that the encoded words map the correct vector. "
   ]
  },
  {
   "cell_type": "code",
   "execution_count": 78,
   "metadata": {},
   "outputs": [
    {
     "name": "stdout",
     "output_type": "stream",
     "text": [
      "Found 134087 unique tokens\n",
      "Shape of reviews tensor: (50000, 2470)\n",
      "Shape of sentiment tensor: (50000,)\n"
     ]
    }
   ],
   "source": [
    "tokenizer = Tokenizer()\n",
    "tokenizer.fit_on_texts(cleaned_reviews)\n",
    "sequences = tokenizer.texts_to_sequences(cleaned_reviews)\n",
    "\n",
    "word_index = tokenizer.word_index\n",
    "print(\"Found {} unique tokens\".format(len(word_index)))\n",
    "\n",
    "review_pad = pad_sequences(sequences, maxlen=max_length)\n",
    "sentiment = data.sentiment.values\n",
    "\n",
    "print(\"Shape of reviews tensor: {}\".format(review_pad.shape))\n",
    "print(\"Shape of sentiment tensor: {}\".format(sentiment.shape))"
   ]
  },
  {
   "cell_type": "markdown",
   "metadata": {},
   "source": [
    "Now we map the embeddings from the loaded word2vec model for each word to the `tokenizer.word_index` vocabulary and we create a matrix of word vectors:"
   ]
  },
  {
   "cell_type": "code",
   "execution_count": 79,
   "metadata": {},
   "outputs": [],
   "source": [
    "num_words = len(word_index) + 1\n",
    "embedding_matrix = np.zeros((num_words, EMBEDDING_DIM))\n",
    "\n",
    "for word, i in word_index.items():\n",
    "    if i > num_words:\n",
    "        continue\n",
    "    embedding_vector = embeddings_index.get(word) # same as __getitem__ but does checking\n",
    "    if embedding_vector is not None: # so that we can do this line\n",
    "        embedding_matrix[i] = embedding_vector\n",
    "        if (i % 10000 == 0):\n",
    "                logging.info(\"read {} reviews\".format(i))\n",
    "    # else that row of embedding matrix will be all zeros cause we initialized it so"
   ]
  },
  {
   "cell_type": "markdown",
   "metadata": {},
   "source": [
    "Now we can train the embedded vector to be used directly in the embedding layer. In the below code, the only change from the previous model is that we are using `embedding_matrix` as input to the embedding layer and we are setting `trainable=False` because the embedding is already learned."
   ]
  },
  {
   "cell_type": "code",
   "execution_count": 80,
   "metadata": {},
   "outputs": [
    {
     "name": "stdout",
     "output_type": "stream",
     "text": [
      "_________________________________________________________________\n",
      "Layer (type)                 Output Shape              Param #   \n",
      "=================================================================\n",
      "embedding_2 (Embedding)      (None, 2470, 100)         13408800  \n",
      "_________________________________________________________________\n",
      "gru_2 (GRU)                  (None, 32)                12768     \n",
      "_________________________________________________________________\n",
      "dense_2 (Dense)              (None, 1)                 33        \n",
      "=================================================================\n",
      "Total params: 13,421,601\n",
      "Trainable params: 12,801\n",
      "Non-trainable params: 13,408,800\n",
      "_________________________________________________________________\n",
      "None\n"
     ]
    }
   ],
   "source": [
    "from keras.initializers import Constant\n",
    "model = Sequential()\n",
    "model.add(Embedding(num_words, \\\n",
    "                    EMBEDDING_DIM, \\\n",
    "                    embeddings_initializer=Constant(embedding_matrix),\\\n",
    "                    input_length=max_length, \\\n",
    "                    trainable=False))\n",
    "\n",
    "model.add(GRU(units=32, dropout=0.2, recurrent_dropout=0.2))\n",
    "model.add(Dense(1, activation=\"sigmoid\"))\n",
    "\n",
    "model.compile(loss=\"binary_crossentropy\",\n",
    "              optimizer=\"adam\", metrics=[\"accuracy\"])\n",
    "print(model.summary())"
   ]
  },
  {
   "cell_type": "markdown",
   "metadata": {},
   "source": [
    "Now if you notice, we've cut down the `trainable_params` to be much lower than the total number of params. Therefore, since the model uses pre-trained word embeddings, we have few trainable parameters and it should train faster. "
   ]
  },
  {
   "cell_type": "code",
   "execution_count": 81,
   "metadata": {},
   "outputs": [],
   "source": [
    "x_train, x_test, y_train, y_test = train_test_split(review_pad,sentiment,stratify=sentiment,\\\n",
    "                                                   random_state=2019,test_size=0.2)"
   ]
  },
  {
   "cell_type": "code",
   "execution_count": 82,
   "metadata": {},
   "outputs": [
    {
     "name": "stdout",
     "output_type": "stream",
     "text": [
      "Shape of x_train: (40000, 2470)\n",
      "Shape of y_train: (40000,)\n",
      "Shape of x_test: (10000, 2470)\n",
      "Shape of y_test: (10000,)\n"
     ]
    }
   ],
   "source": [
    "print(\"Shape of x_train: {}\".format(x_train.shape))\n",
    "print(\"Shape of y_train: {}\".format(y_train.shape))\n",
    "\n",
    "print(\"Shape of x_test: {}\".format(x_test.shape))\n",
    "print(\"Shape of y_test: {}\".format(y_test.shape))"
   ]
  },
  {
   "cell_type": "code",
   "execution_count": 86,
   "metadata": {},
   "outputs": [
    {
     "name": "stdout",
     "output_type": "stream",
     "text": [
      "Train on 40000 samples, validate on 10000 samples\n",
      "Epoch 1/25\n",
      "40000/40000 [==============================] - 2143s 54ms/step - loss: 0.5243 - acc: 0.7288 - val_loss: 0.3514 - val_acc: 0.8507\n",
      "Epoch 2/25\n",
      "40000/40000 [==============================] - 2134s 53ms/step - loss: 0.3733 - acc: 0.8364 - val_loss: 0.3166 - val_acc: 0.8659\n",
      "Epoch 3/25\n",
      "40000/40000 [==============================] - 2135s 53ms/step - loss: 0.3408 - acc: 0.8522 - val_loss: 0.2966 - val_acc: 0.8739\n",
      "Epoch 4/25\n",
      "40000/40000 [==============================] - 2154s 54ms/step - loss: 0.3271 - acc: 0.8598 - val_loss: 0.2888 - val_acc: 0.8805\n",
      "Epoch 5/25\n",
      "40000/40000 [==============================] - 2138s 53ms/step - loss: 0.3166 - acc: 0.8650 - val_loss: 0.2821 - val_acc: 0.8812\n",
      "Epoch 6/25\n",
      "40000/40000 [==============================] - 2140s 54ms/step - loss: 0.3040 - acc: 0.8713 - val_loss: 0.2834 - val_acc: 0.8773\n",
      "Epoch 7/25\n",
      "40000/40000 [==============================] - 2142s 54ms/step - loss: 0.3012 - acc: 0.8712 - val_loss: 0.2730 - val_acc: 0.8853\n",
      "Epoch 8/25\n",
      "40000/40000 [==============================] - 2135s 53ms/step - loss: 0.2956 - acc: 0.8750 - val_loss: 0.2728 - val_acc: 0.8863\n",
      "Epoch 9/25\n",
      "39936/40000 [============================>.] - ETA: 3s - loss: 0.2901 - acc: 0.8788"
     ]
    },
    {
     "ename": "KeyboardInterrupt",
     "evalue": "",
     "output_type": "error",
     "traceback": [
      "\u001b[0;31m---------------------------------------------------------------------------\u001b[0m",
      "\u001b[0;31mKeyboardInterrupt\u001b[0m                         Traceback (most recent call last)",
      "\u001b[0;32m<ipython-input-86-f95a80240a35>\u001b[0m in \u001b[0;36m<module>\u001b[0;34m\u001b[0m\n\u001b[0;32m----> 1\u001b[0;31m \u001b[0mmodel\u001b[0m\u001b[0;34m.\u001b[0m\u001b[0mfit\u001b[0m\u001b[0;34m(\u001b[0m\u001b[0mx_train\u001b[0m\u001b[0;34m,\u001b[0m \u001b[0my_train\u001b[0m\u001b[0;34m,\u001b[0m \u001b[0mbatch_size\u001b[0m\u001b[0;34m=\u001b[0m\u001b[0;36m64\u001b[0m\u001b[0;34m,\u001b[0m \u001b[0mepochs\u001b[0m\u001b[0;34m=\u001b[0m\u001b[0;36m25\u001b[0m\u001b[0;34m,\u001b[0m \u001b[0mvalidation_data\u001b[0m\u001b[0;34m=\u001b[0m\u001b[0;34m(\u001b[0m\u001b[0mx_test\u001b[0m\u001b[0;34m,\u001b[0m \u001b[0my_test\u001b[0m\u001b[0;34m)\u001b[0m\u001b[0;34m,\u001b[0m\u001b[0mverbose\u001b[0m\u001b[0;34m=\u001b[0m\u001b[0;36m1\u001b[0m\u001b[0;34m)\u001b[0m\u001b[0;34m\u001b[0m\u001b[0m\n\u001b[0m",
      "\u001b[0;32m~/miniconda3/lib/python3.6/site-packages/keras/engine/training.py\u001b[0m in \u001b[0;36mfit\u001b[0;34m(self, x, y, batch_size, epochs, verbose, callbacks, validation_split, validation_data, shuffle, class_weight, sample_weight, initial_epoch, steps_per_epoch, validation_steps, **kwargs)\u001b[0m\n\u001b[1;32m   1037\u001b[0m                                         \u001b[0minitial_epoch\u001b[0m\u001b[0;34m=\u001b[0m\u001b[0minitial_epoch\u001b[0m\u001b[0;34m,\u001b[0m\u001b[0;34m\u001b[0m\u001b[0m\n\u001b[1;32m   1038\u001b[0m                                         \u001b[0msteps_per_epoch\u001b[0m\u001b[0;34m=\u001b[0m\u001b[0msteps_per_epoch\u001b[0m\u001b[0;34m,\u001b[0m\u001b[0;34m\u001b[0m\u001b[0m\n\u001b[0;32m-> 1039\u001b[0;31m                                         validation_steps=validation_steps)\n\u001b[0m\u001b[1;32m   1040\u001b[0m \u001b[0;34m\u001b[0m\u001b[0m\n\u001b[1;32m   1041\u001b[0m     def evaluate(self, x=None, y=None,\n",
      "\u001b[0;32m~/miniconda3/lib/python3.6/site-packages/keras/engine/training_arrays.py\u001b[0m in \u001b[0;36mfit_loop\u001b[0;34m(model, f, ins, out_labels, batch_size, epochs, verbose, callbacks, val_f, val_ins, shuffle, callback_metrics, initial_epoch, steps_per_epoch, validation_steps)\u001b[0m\n\u001b[1;32m    210\u001b[0m                         val_outs = test_loop(model, val_f, val_ins,\n\u001b[1;32m    211\u001b[0m                                              \u001b[0mbatch_size\u001b[0m\u001b[0;34m=\u001b[0m\u001b[0mbatch_size\u001b[0m\u001b[0;34m,\u001b[0m\u001b[0;34m\u001b[0m\u001b[0m\n\u001b[0;32m--> 212\u001b[0;31m                                              verbose=0)\n\u001b[0m\u001b[1;32m    213\u001b[0m                         \u001b[0mval_outs\u001b[0m \u001b[0;34m=\u001b[0m \u001b[0mto_list\u001b[0m\u001b[0;34m(\u001b[0m\u001b[0mval_outs\u001b[0m\u001b[0;34m)\u001b[0m\u001b[0;34m\u001b[0m\u001b[0m\n\u001b[1;32m    214\u001b[0m                         \u001b[0;31m# Same labels assumed.\u001b[0m\u001b[0;34m\u001b[0m\u001b[0;34m\u001b[0m\u001b[0m\n",
      "\u001b[0;32m~/miniconda3/lib/python3.6/site-packages/keras/engine/training_arrays.py\u001b[0m in \u001b[0;36mtest_loop\u001b[0;34m(model, f, ins, batch_size, verbose, steps)\u001b[0m\n\u001b[1;32m    390\u001b[0m                 \u001b[0mins_batch\u001b[0m\u001b[0;34m[\u001b[0m\u001b[0mi\u001b[0m\u001b[0;34m]\u001b[0m \u001b[0;34m=\u001b[0m \u001b[0mins_batch\u001b[0m\u001b[0;34m[\u001b[0m\u001b[0mi\u001b[0m\u001b[0;34m]\u001b[0m\u001b[0;34m.\u001b[0m\u001b[0mtoarray\u001b[0m\u001b[0;34m(\u001b[0m\u001b[0;34m)\u001b[0m\u001b[0;34m\u001b[0m\u001b[0m\n\u001b[1;32m    391\u001b[0m \u001b[0;34m\u001b[0m\u001b[0m\n\u001b[0;32m--> 392\u001b[0;31m             \u001b[0mbatch_outs\u001b[0m \u001b[0;34m=\u001b[0m \u001b[0mf\u001b[0m\u001b[0;34m(\u001b[0m\u001b[0mins_batch\u001b[0m\u001b[0;34m)\u001b[0m\u001b[0;34m\u001b[0m\u001b[0m\n\u001b[0m\u001b[1;32m    393\u001b[0m             \u001b[0;32mif\u001b[0m \u001b[0misinstance\u001b[0m\u001b[0;34m(\u001b[0m\u001b[0mbatch_outs\u001b[0m\u001b[0;34m,\u001b[0m \u001b[0mlist\u001b[0m\u001b[0;34m)\u001b[0m\u001b[0;34m:\u001b[0m\u001b[0;34m\u001b[0m\u001b[0m\n\u001b[1;32m    394\u001b[0m                 \u001b[0;32mif\u001b[0m \u001b[0mbatch_index\u001b[0m \u001b[0;34m==\u001b[0m \u001b[0;36m0\u001b[0m\u001b[0;34m:\u001b[0m\u001b[0;34m\u001b[0m\u001b[0m\n",
      "\u001b[0;32m~/miniconda3/lib/python3.6/site-packages/keras/backend/tensorflow_backend.py\u001b[0m in \u001b[0;36m__call__\u001b[0;34m(self, inputs)\u001b[0m\n\u001b[1;32m   2713\u001b[0m                 \u001b[0;32mreturn\u001b[0m \u001b[0mself\u001b[0m\u001b[0;34m.\u001b[0m\u001b[0m_legacy_call\u001b[0m\u001b[0;34m(\u001b[0m\u001b[0minputs\u001b[0m\u001b[0;34m)\u001b[0m\u001b[0;34m\u001b[0m\u001b[0m\n\u001b[1;32m   2714\u001b[0m \u001b[0;34m\u001b[0m\u001b[0m\n\u001b[0;32m-> 2715\u001b[0;31m             \u001b[0;32mreturn\u001b[0m \u001b[0mself\u001b[0m\u001b[0;34m.\u001b[0m\u001b[0m_call\u001b[0m\u001b[0;34m(\u001b[0m\u001b[0minputs\u001b[0m\u001b[0;34m)\u001b[0m\u001b[0;34m\u001b[0m\u001b[0m\n\u001b[0m\u001b[1;32m   2716\u001b[0m         \u001b[0;32melse\u001b[0m\u001b[0;34m:\u001b[0m\u001b[0;34m\u001b[0m\u001b[0m\n\u001b[1;32m   2717\u001b[0m             \u001b[0;32mif\u001b[0m \u001b[0mpy_any\u001b[0m\u001b[0;34m(\u001b[0m\u001b[0mis_tensor\u001b[0m\u001b[0;34m(\u001b[0m\u001b[0mx\u001b[0m\u001b[0;34m)\u001b[0m \u001b[0;32mfor\u001b[0m \u001b[0mx\u001b[0m \u001b[0;32min\u001b[0m \u001b[0minputs\u001b[0m\u001b[0;34m)\u001b[0m\u001b[0;34m:\u001b[0m\u001b[0;34m\u001b[0m\u001b[0m\n",
      "\u001b[0;32m~/miniconda3/lib/python3.6/site-packages/keras/backend/tensorflow_backend.py\u001b[0m in \u001b[0;36m_call\u001b[0;34m(self, inputs)\u001b[0m\n\u001b[1;32m   2673\u001b[0m             \u001b[0mfetched\u001b[0m \u001b[0;34m=\u001b[0m \u001b[0mself\u001b[0m\u001b[0;34m.\u001b[0m\u001b[0m_callable_fn\u001b[0m\u001b[0;34m(\u001b[0m\u001b[0;34m*\u001b[0m\u001b[0marray_vals\u001b[0m\u001b[0;34m,\u001b[0m \u001b[0mrun_metadata\u001b[0m\u001b[0;34m=\u001b[0m\u001b[0mself\u001b[0m\u001b[0;34m.\u001b[0m\u001b[0mrun_metadata\u001b[0m\u001b[0;34m)\u001b[0m\u001b[0;34m\u001b[0m\u001b[0m\n\u001b[1;32m   2674\u001b[0m         \u001b[0;32melse\u001b[0m\u001b[0;34m:\u001b[0m\u001b[0;34m\u001b[0m\u001b[0m\n\u001b[0;32m-> 2675\u001b[0;31m             \u001b[0mfetched\u001b[0m \u001b[0;34m=\u001b[0m \u001b[0mself\u001b[0m\u001b[0;34m.\u001b[0m\u001b[0m_callable_fn\u001b[0m\u001b[0;34m(\u001b[0m\u001b[0;34m*\u001b[0m\u001b[0marray_vals\u001b[0m\u001b[0;34m)\u001b[0m\u001b[0;34m\u001b[0m\u001b[0m\n\u001b[0m\u001b[1;32m   2676\u001b[0m         \u001b[0;32mreturn\u001b[0m \u001b[0mfetched\u001b[0m\u001b[0;34m[\u001b[0m\u001b[0;34m:\u001b[0m\u001b[0mlen\u001b[0m\u001b[0;34m(\u001b[0m\u001b[0mself\u001b[0m\u001b[0;34m.\u001b[0m\u001b[0moutputs\u001b[0m\u001b[0;34m)\u001b[0m\u001b[0;34m]\u001b[0m\u001b[0;34m\u001b[0m\u001b[0m\n\u001b[1;32m   2677\u001b[0m \u001b[0;34m\u001b[0m\u001b[0m\n",
      "\u001b[0;32m~/miniconda3/lib/python3.6/site-packages/tensorflow/python/client/session.py\u001b[0m in \u001b[0;36m__call__\u001b[0;34m(self, *args, **kwargs)\u001b[0m\n\u001b[1;32m   1437\u001b[0m           ret = tf_session.TF_SessionRunCallable(\n\u001b[1;32m   1438\u001b[0m               \u001b[0mself\u001b[0m\u001b[0;34m.\u001b[0m\u001b[0m_session\u001b[0m\u001b[0;34m.\u001b[0m\u001b[0m_session\u001b[0m\u001b[0;34m,\u001b[0m \u001b[0mself\u001b[0m\u001b[0;34m.\u001b[0m\u001b[0m_handle\u001b[0m\u001b[0;34m,\u001b[0m \u001b[0margs\u001b[0m\u001b[0;34m,\u001b[0m \u001b[0mstatus\u001b[0m\u001b[0;34m,\u001b[0m\u001b[0;34m\u001b[0m\u001b[0m\n\u001b[0;32m-> 1439\u001b[0;31m               run_metadata_ptr)\n\u001b[0m\u001b[1;32m   1440\u001b[0m         \u001b[0;32mif\u001b[0m \u001b[0mrun_metadata\u001b[0m\u001b[0;34m:\u001b[0m\u001b[0;34m\u001b[0m\u001b[0m\n\u001b[1;32m   1441\u001b[0m           \u001b[0mproto_data\u001b[0m \u001b[0;34m=\u001b[0m \u001b[0mtf_session\u001b[0m\u001b[0;34m.\u001b[0m\u001b[0mTF_GetBuffer\u001b[0m\u001b[0;34m(\u001b[0m\u001b[0mrun_metadata_ptr\u001b[0m\u001b[0;34m)\u001b[0m\u001b[0;34m\u001b[0m\u001b[0m\n",
      "\u001b[0;31mKeyboardInterrupt\u001b[0m: "
     ]
    }
   ],
   "source": [
    "model.fit(x_train, y_train, batch_size=64, epochs=3, validation_data=(x_test, y_test),verbose=1)"
   ]
  },
  {
   "cell_type": "code",
   "execution_count": null,
   "metadata": {},
   "outputs": [],
   "source": [
    "print(model.predict(x=test_samples_padded))"
   ]
  }
 ],
 "metadata": {
  "hide_input": false,
  "kernelspec": {
   "display_name": "base",
   "language": "python",
   "name": "base"
  },
  "language_info": {
   "codemirror_mode": {
    "name": "ipython",
    "version": 3
   },
   "file_extension": ".py",
   "mimetype": "text/x-python",
   "name": "python",
   "nbconvert_exporter": "python",
   "pygments_lexer": "ipython3",
   "version": "3.6.9"
  },
  "toc": {
   "base_numbering": 1,
   "nav_menu": {},
   "number_sections": true,
   "sideBar": true,
   "skip_h1_title": false,
   "title_cell": "Table of Contents",
   "title_sidebar": "Contents",
   "toc_cell": false,
   "toc_position": {
    "height": "calc(100% - 180px)",
    "left": "10px",
    "top": "150px",
    "width": "240px"
   },
   "toc_section_display": true,
   "toc_window_display": true
  },
  "varInspector": {
   "cols": {
    "lenName": 16,
    "lenType": 16,
    "lenVar": 40
   },
   "kernels_config": {
    "python": {
     "delete_cmd_postfix": "",
     "delete_cmd_prefix": "del ",
     "library": "var_list.py",
     "varRefreshCmd": "print(var_dic_list())"
    },
    "r": {
     "delete_cmd_postfix": ") ",
     "delete_cmd_prefix": "rm(",
     "library": "var_list.r",
     "varRefreshCmd": "cat(var_dic_list()) "
    }
   },
   "types_to_exclude": [
    "module",
    "function",
    "builtin_function_or_method",
    "instance",
    "_Feature"
   ],
   "window_display": false
  }
 },
 "nbformat": 4,
 "nbformat_minor": 2
}
